{
  "nbformat": 4,
  "nbformat_minor": 0,
  "metadata": {
    "colab": {
      "name": "181 DB.ipynb",
      "provenance": [],
      "collapsed_sections": [],
      "include_colab_link": true
    },
    "kernelspec": {
      "name": "python3",
      "display_name": "Python 3"
    },
    "language_info": {
      "name": "python"
    }
  },
  "cells": [
    {
      "cell_type": "markdown",
      "metadata": {
        "id": "view-in-github",
        "colab_type": "text"
      },
      "source": [
        "<a href=\"https://colab.research.google.com/github/AnisTaluqdar/111_Colab_111/blob/main/GUB_ML.ipynb\" target=\"_parent\"><img src=\"https://colab.research.google.com/assets/colab-badge.svg\" alt=\"Open In Colab\"/></a>"
      ]
    },
    {
      "cell_type": "code",
      "metadata": {
        "colab": {
          "base_uri": "https://localhost:8080/"
        },
        "id": "tzEo_FNduJEO",
        "outputId": "15c2d7e3-9a11-452a-a3ca-3e76175edef0"
      },
      "source": [
        "print(\"hello\")\n",
        "a=\"hello world\"\n",
        "print(a)\n",
        "print(a[0]+a[1])\n",
        "n=10\n",
        "arr=[5]*n\n",
        "for i in range(0,n):\n",
        "  print(arr[i], end=\" \")\n",
        "\n",
        "print(len(a))\n"
      ],
      "execution_count": null,
      "outputs": [
        {
          "output_type": "stream",
          "text": [
            "hello\n",
            "hello world\n",
            "he\n",
            "5 5 5 5 5 5 5 5 5 5 11\n",
            "hello world\n",
            "11.007000000000001\n"
          ],
          "name": "stdout"
        }
      ]
    },
    {
      "cell_type": "markdown",
      "metadata": {
        "id": "e8tQr5oZJOux"
      },
      "source": [
        "Lab1"
      ]
    },
    {
      "cell_type": "code",
      "metadata": {
        "id": "8gh1U-qjJIdH"
      },
      "source": [
        "\n",
        "a=5.56\n",
        "b=6.60\n",
        "c=a+b\n",
        "#print(float(c),end=\" \")\n",
        "#print(\"hello\")\n",
        "st=\"hello world\"\n",
        "print(len(st))\n",
        "print(st[4:10])\n",
        "print(st[::2])\n",
        "print(st[::-1])\n",
        "arr=[1]*20\n",
        "\n",
        "#for i in range(0,20):\n",
        " #print(i)\n",
        "v=input(\"enter the value :\")\n",
        "if(int(v)%2==0):\n",
        "  print(\"even\")\n",
        "else:\n",
        "  print(\"odd\")\n",
        "\n",
        "# 400\n",
        "#4 =!100\n",
        "\n"
      ],
      "execution_count": null,
      "outputs": []
    },
    {
      "cell_type": "markdown",
      "metadata": {
        "id": "cKo2upSbMEdZ"
      },
      "source": [
        "Lab2,30.06.2021 list"
      ]
    },
    {
      "cell_type": "code",
      "metadata": {
        "id": "MxRnxNLnMJyq"
      },
      "source": [
        "lst=[0]*10\n",
        "print(lst)\n",
        "lst=[i for i in range(0,10)]\n",
        "print(lst)\n",
        "lst=[i*i for i in range(0,10)]\n",
        "print(lst)\n",
        "#lst=[i>25 for i in lst]\n",
        "lst.insert(2,5)\n",
        "print(lst)\n",
        "lst.append(10)\n",
        "print(lst)\n",
        "lst1=[1,2,3]\n",
        "lst2=[4,5,6]\n",
        "lst3=[7,8,9]\n",
        "lst4=[lst1,lst2,lst3]\n",
        "print(lst4)\n",
        "\n"
      ],
      "execution_count": null,
      "outputs": []
    },
    {
      "cell_type": "code",
      "metadata": {
        "colab": {
          "base_uri": "https://localhost:8080/",
          "height": 391
        },
        "id": "bWNPa-i4Twg1",
        "outputId": "ce0964d4-237a-468c-c9e8-70ce74de328a"
      },
      "source": [
        "color={\"A\":\"green\",\"B\":\"blue\",\"C\":\"red\"}\n",
        "print(color)\n",
        "print(color[\"A\"])\n",
        "number=5\n",
        "for key,value in color.items():\n",
        " print(\"%s %s %d\"%(key,value, number))\n",
        "for key,value in color.items():\n",
        " print(f\"{key} {value} {number}\")\n",
        "color.update({\"D\":\"grey\"})\n",
        "print(color)\n",
        "color.append(\"E\")\n",
        "print(color)\n",
        "lst=[5,8,7,4,9,6,3,2,1,0]\n",
        "lst.sort()\n",
        "print(lst)"
      ],
      "execution_count": null,
      "outputs": [
        {
          "output_type": "stream",
          "text": [
            "{'A': 'green', 'B': 'blue', 'C': 'red'}\n",
            "green\n",
            "A green 5\n",
            "B blue 5\n",
            "C red 5\n",
            "A green 5\n",
            "B blue 5\n",
            "C red 5\n",
            "{'A': 'green', 'B': 'blue', 'C': 'red', 'D': 'grey'}\n"
          ],
          "name": "stdout"
        },
        {
          "output_type": "error",
          "ename": "AttributeError",
          "evalue": "ignored",
          "traceback": [
            "\u001b[0;31m---------------------------------------------------------------------------\u001b[0m",
            "\u001b[0;31mAttributeError\u001b[0m                            Traceback (most recent call last)",
            "\u001b[0;32m<ipython-input-2-85b994032a5c>\u001b[0m in \u001b[0;36m<module>\u001b[0;34m()\u001b[0m\n\u001b[1;32m      9\u001b[0m \u001b[0mcolor\u001b[0m\u001b[0;34m.\u001b[0m\u001b[0mupdate\u001b[0m\u001b[0;34m(\u001b[0m\u001b[0;34m{\u001b[0m\u001b[0;34m\"D\"\u001b[0m\u001b[0;34m:\u001b[0m\u001b[0;34m\"grey\"\u001b[0m\u001b[0;34m}\u001b[0m\u001b[0;34m)\u001b[0m\u001b[0;34m\u001b[0m\u001b[0;34m\u001b[0m\u001b[0m\n\u001b[1;32m     10\u001b[0m \u001b[0mprint\u001b[0m\u001b[0;34m(\u001b[0m\u001b[0mcolor\u001b[0m\u001b[0;34m)\u001b[0m\u001b[0;34m\u001b[0m\u001b[0;34m\u001b[0m\u001b[0m\n\u001b[0;32m---> 11\u001b[0;31m \u001b[0mcolor\u001b[0m\u001b[0;34m.\u001b[0m\u001b[0mappend\u001b[0m\u001b[0;34m(\u001b[0m\u001b[0;34m\"E\"\u001b[0m\u001b[0;34m)\u001b[0m\u001b[0;34m\u001b[0m\u001b[0;34m\u001b[0m\u001b[0m\n\u001b[0m\u001b[1;32m     12\u001b[0m \u001b[0mprint\u001b[0m\u001b[0;34m(\u001b[0m\u001b[0mcolor\u001b[0m\u001b[0;34m)\u001b[0m\u001b[0;34m\u001b[0m\u001b[0;34m\u001b[0m\u001b[0m\n\u001b[1;32m     13\u001b[0m \u001b[0mlst\u001b[0m\u001b[0;34m=\u001b[0m\u001b[0;34m[\u001b[0m\u001b[0;36m5\u001b[0m\u001b[0;34m,\u001b[0m\u001b[0;36m8\u001b[0m\u001b[0;34m,\u001b[0m\u001b[0;36m7\u001b[0m\u001b[0;34m,\u001b[0m\u001b[0;36m4\u001b[0m\u001b[0;34m,\u001b[0m\u001b[0;36m9\u001b[0m\u001b[0;34m,\u001b[0m\u001b[0;36m6\u001b[0m\u001b[0;34m,\u001b[0m\u001b[0;36m3\u001b[0m\u001b[0;34m,\u001b[0m\u001b[0;36m2\u001b[0m\u001b[0;34m,\u001b[0m\u001b[0;36m1\u001b[0m\u001b[0;34m,\u001b[0m\u001b[0;36m0\u001b[0m\u001b[0;34m]\u001b[0m\u001b[0;34m\u001b[0m\u001b[0;34m\u001b[0m\u001b[0m\n",
            "\u001b[0;31mAttributeError\u001b[0m: 'dict' object has no attribute 'append'"
          ]
        }
      ]
    },
    {
      "cell_type": "markdown",
      "metadata": {
        "id": "V4SZokrcOi3A"
      },
      "source": [
        "function 07.07.2021"
      ]
    },
    {
      "cell_type": "code",
      "metadata": {
        "id": "iheKpoisOiW4"
      },
      "source": [
        "def cook(*item):\n",
        "  #print(f\"{item} {time}\")\n",
        "  for i in item:\n",
        "   print(i)\n",
        "\n",
        "cook(\"rice\",15,155,10)\n"
      ],
      "execution_count": null,
      "outputs": []
    },
    {
      "cell_type": "markdown",
      "metadata": {
        "id": "vz8C1FwtRkMH"
      },
      "source": [
        "Class"
      ]
    },
    {
      "cell_type": "code",
      "metadata": {
        "colab": {
          "base_uri": "https://localhost:8080/"
        },
        "id": "AfPzVzT8Rjpu",
        "outputId": "fa8e2c50-d7e1-4b5d-bfa2-016e0c1a2025"
      },
      "source": [
        "class car:\n",
        "  def __init__(self,name,year,mileage):\n",
        "    self.name=name\n",
        "    self.year=year\n",
        "    self.mileage=mileage\n",
        "  def prinfo(self):\n",
        "    print(self.name)\n",
        "    print(self.year)\n",
        "  def fueltank(self):\n",
        "     print(self.mileage*2)\n",
        "      \n",
        "mycar= car(\"audi\",2021,15)\n",
        "mycar.prinfo()\n",
        "mycar.fueltank()\n"
      ],
      "execution_count": null,
      "outputs": [
        {
          "output_type": "stream",
          "text": [
            "audi\n",
            "2021\n",
            "30\n"
          ],
          "name": "stdout"
        }
      ]
    },
    {
      "cell_type": "markdown",
      "metadata": {
        "id": "ttSL9MvjStd-"
      },
      "source": [
        "txt file."
      ]
    },
    {
      "cell_type": "code",
      "metadata": {
        "colab": {
          "base_uri": "https://localhost:8080/"
        },
        "id": "OjzFAPfsSsbH",
        "outputId": "27a2708d-0edf-4aa9-efdf-c65d19886e3d"
      },
      "source": [
        "with open(\"student.txt\",\"w\") as f:\n",
        "  f.write(\"green university of bangladesh\\n\")\n",
        "  f.write(\"green university \\n\")\n",
        "with open(\"student.txt\",\"a\") as f:\n",
        "  f.write(\"green university bangladesh\\n\")\n",
        "with open(\"student.txt\",\"r\") as f:\n",
        "   for i in f:\n",
        "     print(i.rstrip())\n",
        "  "
      ],
      "execution_count": null,
      "outputs": [
        {
          "output_type": "stream",
          "text": [
            "green university of bangladesh\n",
            "green university\n",
            "green university bangladesh\n"
          ],
          "name": "stdout"
        }
      ]
    },
    {
      "cell_type": "markdown",
      "metadata": {
        "id": "wolVea4dVlhG"
      },
      "source": [
        "CSV file"
      ]
    },
    {
      "cell_type": "code",
      "metadata": {
        "colab": {
          "base_uri": "https://localhost:8080/"
        },
        "id": "PJHoYQYoVlKV",
        "outputId": "14ffa60d-51c7-4381-f82c-b10686f29973"
      },
      "source": [
        "import csv\n",
        "with open(\"info.csv\",\"w\") as f:\n",
        "  wr=csv.writer(f)\n",
        "  wr.writerow([\"name\",\"Batch\",\"CGPA\"])\n",
        "  wr.writerow([\"arif\",\"151\",\"3.6\"])\n",
        "  wr.writerow([\"mashuk\",\"151\",\"3.9\"])\n",
        "with open(\"iris.csv\",\"r\") as f:\n",
        "   for i in f:\n",
        "    # print(i.rstrip())\n",
        "     flag=0\n",
        "     for j in i:\n",
        "       if j==',':\n",
        "        flag=1\n",
        "       if flag==1:\n",
        "        print(j,end=\"\")\n"
      ],
      "execution_count": null,
      "outputs": [
        {
          "output_type": "stream",
          "text": [
            ",3.5,1.4,0.2,Iris-setosa\n",
            ",3,1.4,0.2,Iris-setosa\n",
            ",3.2,1.3,0.2,Iris-setosa\n",
            ",3.1,1.5,0.2,Iris-setosa\n",
            ",3.6,1.4,0.2,Iris-setosa\n",
            ",3.9,1.7,0.4,Iris-setosa\n",
            ",3.4,1.4,0.3,Iris-setosa\n",
            ",3.4,1.5,0.2,Iris-setosa\n",
            ",2.9,1.4,0.2,Iris-setosa\n",
            ",3.1,1.5,0.1,Iris-setosa\n",
            ",3.7,1.5,0.2,Iris-setosa\n",
            ",3.4,1.6,0.2,Iris-setosa\n",
            ",3,1.4,0.1,Iris-setosa\n",
            ",3,1.1,0.1,Iris-setosa\n",
            ",4,1.2,0.2,Iris-setosa\n",
            ",4.4,1.5,0.4,Iris-setosa\n",
            ",3.9,1.3,0.4,Iris-setosa\n",
            ",3.5,1.4,0.3,Iris-setosa\n",
            ",3.8,1.7,0.3,Iris-setosa\n",
            ",3.8,1.5,0.3,Iris-setosa\n",
            ",3.4,1.7,0.2,Iris-setosa\n",
            ",3.7,1.5,0.4,Iris-setosa\n",
            ",3.6,1,0.2,Iris-setosa\n",
            ",3.3,1.7,0.5,Iris-setosa\n",
            ",3.4,1.9,0.2,Iris-setosa\n",
            ",3,1.6,0.2,Iris-setosa\n",
            ",3.4,1.6,0.4,Iris-setosa\n",
            ",3.5,1.5,0.2,Iris-setosa\n",
            ",3.4,1.4,0.2,Iris-setosa\n",
            ",3.2,1.6,0.2,Iris-setosa\n",
            ",3.1,1.6,0.2,Iris-setosa\n",
            ",3.4,1.5,0.4,Iris-setosa\n",
            ",4.1,1.5,0.1,Iris-setosa\n",
            ",4.2,1.4,0.2,Iris-setosa\n",
            ",3.1,1.5,0.1,Iris-setosa\n",
            ",3.2,1.2,0.2,Iris-setosa\n",
            ",3.5,1.3,0.2,Iris-setosa\n",
            ",3.1,1.5,0.1,Iris-setosa\n",
            ",3,1.3,0.2,Iris-setosa\n",
            ",3.4,1.5,0.2,Iris-setosa\n",
            ",3.5,1.3,0.3,Iris-setosa\n",
            ",2.3,1.3,0.3,Iris-setosa\n",
            ",3.2,1.3,0.2,Iris-setosa\n",
            ",3.5,1.6,0.6,Iris-setosa\n",
            ",3.8,1.9,0.4,Iris-setosa\n",
            ",3,1.4,0.3,Iris-setosa\n",
            ",3.8,1.6,0.2,Iris-setosa\n",
            ",3.2,1.4,0.2,Iris-setosa\n",
            ",3.7,1.5,0.2,Iris-setosa\n",
            ",3.3,1.4,0.2,Iris-setosa\n",
            ",3.2,4.7,1.4,Iris-versicolor\n",
            ",3.2,4.5,1.5,Iris-versicolor\n",
            ",3.1,4.9,1.5,Iris-versicolor\n",
            ",2.3,4,1.3,Iris-versicolor\n",
            ",2.8,4.6,1.5,Iris-versicolor\n",
            ",2.8,4.5,1.3,Iris-versicolor\n",
            ",3.3,4.7,1.6,Iris-versicolor\n",
            ",2.4,3.3,1,Iris-versicolor\n",
            ",2.9,4.6,1.3,Iris-versicolor\n",
            ",2.7,3.9,1.4,Iris-versicolor\n",
            ",2,3.5,1,Iris-versicolor\n",
            ",3,4.2,1.5,Iris-versicolor\n",
            ",2.2,4,1,Iris-versicolor\n",
            ",2.9,4.7,1.4,Iris-versicolor\n",
            ",2.9,3.6,1.3,Iris-versicolor\n",
            ",3.1,4.4,1.4,Iris-versicolor\n",
            ",3,4.5,1.5,Iris-versicolor\n",
            ",2.7,4.1,1,Iris-versicolor\n",
            ",2.2,4.5,1.5,Iris-versicolor\n",
            ",2.5,3.9,1.1,Iris-versicolor\n",
            ",3.2,4.8,1.8,Iris-versicolor\n",
            ",2.8,4,1.3,Iris-versicolor\n",
            ",2.5,4.9,1.5,Iris-versicolor\n",
            ",2.8,4.7,1.2,Iris-versicolor\n",
            ",2.9,4.3,1.3,Iris-versicolor\n",
            ",3,4.4,1.4,Iris-versicolor\n",
            ",2.8,4.8,1.4,Iris-versicolor\n",
            ",3,5,1.7,Iris-versicolor\n",
            ",2.9,4.5,1.5,Iris-versicolor\n",
            ",2.6,3.5,1,Iris-versicolor\n",
            ",2.4,3.8,1.1,Iris-versicolor\n",
            ",2.4,3.7,1,Iris-versicolor\n",
            ",2.7,3.9,1.2,Iris-versicolor\n",
            ",2.7,5.1,1.6,Iris-versicolor\n",
            ",3,4.5,1.5,Iris-versicolor\n",
            ",3.4,4.5,1.6,Iris-versicolor\n",
            ",3.1,4.7,1.5,Iris-versicolor\n",
            ",2.3,4.4,1.3,Iris-versicolor\n",
            ",3,4.1,1.3,Iris-versicolor\n",
            ",2.5,4,1.3,Iris-versicolor\n",
            ",2.6,4.4,1.2,Iris-versicolor\n",
            ",3,4.6,1.4,Iris-versicolor\n",
            ",2.6,4,1.2,Iris-versicolor\n",
            ",2.3,3.3,1,Iris-versicolor\n",
            ",2.7,4.2,1.3,Iris-versicolor\n",
            ",3,4.2,1.2,Iris-versicolor\n",
            ",2.9,4.2,1.3,Iris-versicolor\n",
            ",2.9,4.3,1.3,Iris-versicolor\n",
            ",2.5,3,1.1,Iris-versicolor\n",
            ",2.8,4.1,1.3,Iris-versicolor\n",
            ",3.3,6,2.5,Iris-virginica\n",
            ",2.7,5.1,1.9,Iris-virginica\n",
            ",3,5.9,2.1,Iris-virginica\n",
            ",2.9,5.6,1.8,Iris-virginica\n",
            ",3,5.8,2.2,Iris-virginica\n",
            ",3,6.6,2.1,Iris-virginica\n",
            ",2.5,4.5,1.7,Iris-virginica\n",
            ",2.9,6.3,1.8,Iris-virginica\n",
            ",2.5,5.8,1.8,Iris-virginica\n",
            ",3.6,6.1,2.5,Iris-virginica\n",
            ",3.2,5.1,2,Iris-virginica\n",
            ",2.7,5.3,1.9,Iris-virginica\n",
            ",3,5.5,2.1,Iris-virginica\n",
            ",2.5,5,2,Iris-virginica\n",
            ",2.8,5.1,2.4,Iris-virginica\n",
            ",3.2,5.3,2.3,Iris-virginica\n",
            ",3,5.5,1.8,Iris-virginica\n",
            ",3.8,6.7,2.2,Iris-virginica\n",
            ",2.6,6.9,2.3,Iris-virginica\n",
            ",2.2,5,1.5,Iris-virginica\n",
            ",3.2,5.7,2.3,Iris-virginica\n",
            ",2.8,4.9,2,Iris-virginica\n",
            ",2.8,6.7,2,Iris-virginica\n",
            ",2.7,4.9,1.8,Iris-virginica\n",
            ",3.3,5.7,2.1,Iris-virginica\n",
            ",3.2,6,1.8,Iris-virginica\n",
            ",2.8,4.8,1.8,Iris-virginica\n",
            ",3,4.9,1.8,Iris-virginica\n",
            ",2.8,5.6,2.1,Iris-virginica\n",
            ",3,5.8,1.6,Iris-virginica\n",
            ",2.8,6.1,1.9,Iris-virginica\n",
            ",3.8,6.4,2,Iris-virginica\n",
            ",2.8,5.6,2.2,Iris-virginica\n",
            ",2.8,5.1,1.5,Iris-virginica\n",
            ",2.6,5.6,1.4,Iris-virginica\n",
            ",3,6.1,2.3,Iris-virginica\n",
            ",3.4,5.6,2.4,Iris-virginica\n",
            ",3.1,5.5,1.8,Iris-virginica\n",
            ",3,4.8,1.8,Iris-virginica\n",
            ",3.1,5.4,2.1,Iris-virginica\n",
            ",3.1,5.6,2.4,Iris-virginica\n",
            ",3.1,5.1,2.3,Iris-virginica\n",
            ",2.7,5.1,1.9,Iris-virginica\n",
            ",3.2,5.9,2.3,Iris-virginica\n",
            ",3.3,5.7,2.5,Iris-virginica\n",
            ",3,5.2,2.3,Iris-virginica\n",
            ",2.5,5,1.9,Iris-virginica\n",
            ",3,5.2,2,Iris-virginica\n",
            ",3.4,5.4,2.3,Iris-virginica\n",
            ",3,5.1,1.8,Iris-virginica\n"
          ],
          "name": "stdout"
        }
      ]
    },
    {
      "cell_type": "markdown",
      "metadata": {
        "id": "gXEycFIjcwqo"
      },
      "source": [
        "polt"
      ]
    },
    {
      "cell_type": "code",
      "metadata": {
        "colab": {
          "base_uri": "https://localhost:8080/",
          "height": 265
        },
        "id": "aTckBzlRcv73",
        "outputId": "205a61a0-d523-49c9-e1c3-82dc09f48114"
      },
      "source": [
        "import matplotlib.pyplot as plt\n",
        "name=[\"a\",\"b\",\"c\"]\n",
        "cg=[3.6,3.7,2.5]\n",
        "\n",
        "plt.plot(name,cg,color=\"green\", label=\"1st_sem\",marker=\"o\",markerfacecolor=\"r\")\n",
        "cg=[3.5,3.8,3.0]\n",
        "plt.plot(name,cg,color=\"blue\", label=\"2nd_sem\",marker=\"o\",markerfacecolor=\"r\")\n",
        "plt.legend()\n",
        "plt.show()"
      ],
      "execution_count": null,
      "outputs": [
        {
          "output_type": "display_data",
          "data": {
            "image/png": "[encoded data removed]",
            "text/plain": [
              "<Figure size 432x288 with 1 Axes>"
            ]
          },
          "metadata": {
            "tags": [],
            "needs_background": "light"
          }
        }
      ]
    },
    {
      "cell_type": "markdown",
      "metadata": {
        "id": "BtNxIANBz1Uu"
      },
      "source": [
        "17.07.2021 Naive Bayes"
      ]
    },
    {
      "cell_type": "code",
      "metadata": {
        "colab": {
          "base_uri": "https://localhost:8080/",
          "height": 438
        },
        "id": "N_fskMnizybe",
        "outputId": "d1dc7fc3-a2d3-43ee-b138-9810d6af1ca0"
      },
      "source": [
        "import pandas as pd\n",
        "dt= pd.read_csv('iris.csv')\n",
        "\n",
        "x= dt.iloc[:,[0,1,2,3]].values\n",
        "y= dt.iloc[:,-1].values\n",
        "from sklearn.model_selection import train_test_split\n",
        "x_train,x_test,y_train,y_test=train_test_split(x,y,test_size=0.2,random_state=112)\n",
        "from sklearn.naive_bayes import GaussianNB\n",
        "clf= GaussianNB()\n",
        "clf.fit(x_train,y_train)\n",
        "\n",
        "pr=clf.predict(x_test)\n",
        "#print(pr)\n",
        "#print(x_test)\n",
        "count=0\n",
        "match=0\n",
        "for i in range(0,len(pr)):\n",
        "  if pr[i]==y_test[i]:\n",
        "    match=match+1\n",
        " # else:\n",
        "    #print(pr[i]+\"     \"+ y_test[i])\n",
        "  count=count+1\n",
        "\n",
        "print(f\"Number of Test Case: {count}\")\n",
        "print(f\"Number of Correctly Identified Class: {match}\")\n",
        "print(f\"Accuracy ={match/count*100}%\")\n",
        "#print(clf.predict([[4.9,2.4,3.3,1]]))\n",
        "from sklearn.metrics import  confusion_matrix\n",
        "cm=confusion_matrix(y_test,pr)\n",
        "from sklearn.metrics import  confusion_matrix, ConfusionMatrixDisplay\n",
        "disp = ConfusionMatrixDisplay(confusion_matrix=cm,display_labels=clf.classes_)\n",
        "disp.plot()"
      ],
      "execution_count": null,
      "outputs": [
        {
          "output_type": "error",
          "ename": "FileNotFoundError",
          "evalue": "ignored",
          "traceback": [
            "\u001b[0;31m---------------------------------------------------------------------------\u001b[0m",
            "\u001b[0;31mFileNotFoundError\u001b[0m                         Traceback (most recent call last)",
            "\u001b[0;32m<ipython-input-15-b51cdbd7b036>\u001b[0m in \u001b[0;36m<module>\u001b[0;34m()\u001b[0m\n\u001b[1;32m      1\u001b[0m \u001b[0;32mimport\u001b[0m \u001b[0mpandas\u001b[0m \u001b[0;32mas\u001b[0m \u001b[0mpd\u001b[0m\u001b[0;34m\u001b[0m\u001b[0;34m\u001b[0m\u001b[0m\n\u001b[0;32m----> 2\u001b[0;31m \u001b[0mdt\u001b[0m\u001b[0;34m=\u001b[0m \u001b[0mpd\u001b[0m\u001b[0;34m.\u001b[0m\u001b[0mread_csv\u001b[0m\u001b[0;34m(\u001b[0m\u001b[0;34m'iris.csv'\u001b[0m\u001b[0;34m)\u001b[0m\u001b[0;34m\u001b[0m\u001b[0;34m\u001b[0m\u001b[0m\n\u001b[0m\u001b[1;32m      3\u001b[0m \u001b[0;34m\u001b[0m\u001b[0m\n\u001b[1;32m      4\u001b[0m \u001b[0mx\u001b[0m\u001b[0;34m=\u001b[0m \u001b[0mdt\u001b[0m\u001b[0;34m.\u001b[0m\u001b[0miloc\u001b[0m\u001b[0;34m[\u001b[0m\u001b[0;34m:\u001b[0m\u001b[0;34m,\u001b[0m\u001b[0;34m[\u001b[0m\u001b[0;36m0\u001b[0m\u001b[0;34m,\u001b[0m\u001b[0;36m1\u001b[0m\u001b[0;34m,\u001b[0m\u001b[0;36m2\u001b[0m\u001b[0;34m,\u001b[0m\u001b[0;36m3\u001b[0m\u001b[0;34m]\u001b[0m\u001b[0;34m]\u001b[0m\u001b[0;34m.\u001b[0m\u001b[0mvalues\u001b[0m\u001b[0;34m\u001b[0m\u001b[0;34m\u001b[0m\u001b[0m\n\u001b[1;32m      5\u001b[0m \u001b[0my\u001b[0m\u001b[0;34m=\u001b[0m \u001b[0mdt\u001b[0m\u001b[0;34m.\u001b[0m\u001b[0miloc\u001b[0m\u001b[0;34m[\u001b[0m\u001b[0;34m:\u001b[0m\u001b[0;34m,\u001b[0m\u001b[0;34m-\u001b[0m\u001b[0;36m1\u001b[0m\u001b[0;34m]\u001b[0m\u001b[0;34m.\u001b[0m\u001b[0mvalues\u001b[0m\u001b[0;34m\u001b[0m\u001b[0;34m\u001b[0m\u001b[0m\n",
            "\u001b[0;32m/usr/local/lib/python3.7/dist-packages/pandas/io/parsers.py\u001b[0m in \u001b[0;36mread_csv\u001b[0;34m(filepath_or_buffer, sep, delimiter, header, names, index_col, usecols, squeeze, prefix, mangle_dupe_cols, dtype, engine, converters, true_values, false_values, skipinitialspace, skiprows, skipfooter, nrows, na_values, keep_default_na, na_filter, verbose, skip_blank_lines, parse_dates, infer_datetime_format, keep_date_col, date_parser, dayfirst, cache_dates, iterator, chunksize, compression, thousands, decimal, lineterminator, quotechar, quoting, doublequote, escapechar, comment, encoding, dialect, error_bad_lines, warn_bad_lines, delim_whitespace, low_memory, memory_map, float_precision)\u001b[0m\n\u001b[1;32m    686\u001b[0m     )\n\u001b[1;32m    687\u001b[0m \u001b[0;34m\u001b[0m\u001b[0m\n\u001b[0;32m--> 688\u001b[0;31m     \u001b[0;32mreturn\u001b[0m \u001b[0m_read\u001b[0m\u001b[0;34m(\u001b[0m\u001b[0mfilepath_or_buffer\u001b[0m\u001b[0;34m,\u001b[0m \u001b[0mkwds\u001b[0m\u001b[0;34m)\u001b[0m\u001b[0;34m\u001b[0m\u001b[0;34m\u001b[0m\u001b[0m\n\u001b[0m\u001b[1;32m    689\u001b[0m \u001b[0;34m\u001b[0m\u001b[0m\n\u001b[1;32m    690\u001b[0m \u001b[0;34m\u001b[0m\u001b[0m\n",
            "\u001b[0;32m/usr/local/lib/python3.7/dist-packages/pandas/io/parsers.py\u001b[0m in \u001b[0;36m_read\u001b[0;34m(filepath_or_buffer, kwds)\u001b[0m\n\u001b[1;32m    452\u001b[0m \u001b[0;34m\u001b[0m\u001b[0m\n\u001b[1;32m    453\u001b[0m     \u001b[0;31m# Create the parser.\u001b[0m\u001b[0;34m\u001b[0m\u001b[0;34m\u001b[0m\u001b[0;34m\u001b[0m\u001b[0m\n\u001b[0;32m--> 454\u001b[0;31m     \u001b[0mparser\u001b[0m \u001b[0;34m=\u001b[0m \u001b[0mTextFileReader\u001b[0m\u001b[0;34m(\u001b[0m\u001b[0mfp_or_buf\u001b[0m\u001b[0;34m,\u001b[0m \u001b[0;34m**\u001b[0m\u001b[0mkwds\u001b[0m\u001b[0;34m)\u001b[0m\u001b[0;34m\u001b[0m\u001b[0;34m\u001b[0m\u001b[0m\n\u001b[0m\u001b[1;32m    455\u001b[0m \u001b[0;34m\u001b[0m\u001b[0m\n\u001b[1;32m    456\u001b[0m     \u001b[0;32mif\u001b[0m \u001b[0mchunksize\u001b[0m \u001b[0;32mor\u001b[0m \u001b[0miterator\u001b[0m\u001b[0;34m:\u001b[0m\u001b[0;34m\u001b[0m\u001b[0;34m\u001b[0m\u001b[0m\n",
            "\u001b[0;32m/usr/local/lib/python3.7/dist-packages/pandas/io/parsers.py\u001b[0m in \u001b[0;36m__init__\u001b[0;34m(self, f, engine, **kwds)\u001b[0m\n\u001b[1;32m    946\u001b[0m             \u001b[0mself\u001b[0m\u001b[0;34m.\u001b[0m\u001b[0moptions\u001b[0m\u001b[0;34m[\u001b[0m\u001b[0;34m\"has_index_names\"\u001b[0m\u001b[0;34m]\u001b[0m \u001b[0;34m=\u001b[0m \u001b[0mkwds\u001b[0m\u001b[0;34m[\u001b[0m\u001b[0;34m\"has_index_names\"\u001b[0m\u001b[0;34m]\u001b[0m\u001b[0;34m\u001b[0m\u001b[0;34m\u001b[0m\u001b[0m\n\u001b[1;32m    947\u001b[0m \u001b[0;34m\u001b[0m\u001b[0m\n\u001b[0;32m--> 948\u001b[0;31m         \u001b[0mself\u001b[0m\u001b[0;34m.\u001b[0m\u001b[0m_make_engine\u001b[0m\u001b[0;34m(\u001b[0m\u001b[0mself\u001b[0m\u001b[0;34m.\u001b[0m\u001b[0mengine\u001b[0m\u001b[0;34m)\u001b[0m\u001b[0;34m\u001b[0m\u001b[0;34m\u001b[0m\u001b[0m\n\u001b[0m\u001b[1;32m    949\u001b[0m \u001b[0;34m\u001b[0m\u001b[0m\n\u001b[1;32m    950\u001b[0m     \u001b[0;32mdef\u001b[0m \u001b[0mclose\u001b[0m\u001b[0;34m(\u001b[0m\u001b[0mself\u001b[0m\u001b[0;34m)\u001b[0m\u001b[0;34m:\u001b[0m\u001b[0;34m\u001b[0m\u001b[0;34m\u001b[0m\u001b[0m\n",
            "\u001b[0;32m/usr/local/lib/python3.7/dist-packages/pandas/io/parsers.py\u001b[0m in \u001b[0;36m_make_engine\u001b[0;34m(self, engine)\u001b[0m\n\u001b[1;32m   1178\u001b[0m     \u001b[0;32mdef\u001b[0m \u001b[0m_make_engine\u001b[0m\u001b[0;34m(\u001b[0m\u001b[0mself\u001b[0m\u001b[0;34m,\u001b[0m \u001b[0mengine\u001b[0m\u001b[0;34m=\u001b[0m\u001b[0;34m\"c\"\u001b[0m\u001b[0;34m)\u001b[0m\u001b[0;34m:\u001b[0m\u001b[0;34m\u001b[0m\u001b[0;34m\u001b[0m\u001b[0m\n\u001b[1;32m   1179\u001b[0m         \u001b[0;32mif\u001b[0m \u001b[0mengine\u001b[0m \u001b[0;34m==\u001b[0m \u001b[0;34m\"c\"\u001b[0m\u001b[0;34m:\u001b[0m\u001b[0;34m\u001b[0m\u001b[0;34m\u001b[0m\u001b[0m\n\u001b[0;32m-> 1180\u001b[0;31m             \u001b[0mself\u001b[0m\u001b[0;34m.\u001b[0m\u001b[0m_engine\u001b[0m \u001b[0;34m=\u001b[0m \u001b[0mCParserWrapper\u001b[0m\u001b[0;34m(\u001b[0m\u001b[0mself\u001b[0m\u001b[0;34m.\u001b[0m\u001b[0mf\u001b[0m\u001b[0;34m,\u001b[0m \u001b[0;34m**\u001b[0m\u001b[0mself\u001b[0m\u001b[0;34m.\u001b[0m\u001b[0moptions\u001b[0m\u001b[0;34m)\u001b[0m\u001b[0;34m\u001b[0m\u001b[0;34m\u001b[0m\u001b[0m\n\u001b[0m\u001b[1;32m   1181\u001b[0m         \u001b[0;32melse\u001b[0m\u001b[0;34m:\u001b[0m\u001b[0;34m\u001b[0m\u001b[0;34m\u001b[0m\u001b[0m\n\u001b[1;32m   1182\u001b[0m             \u001b[0;32mif\u001b[0m \u001b[0mengine\u001b[0m \u001b[0;34m==\u001b[0m \u001b[0;34m\"python\"\u001b[0m\u001b[0;34m:\u001b[0m\u001b[0;34m\u001b[0m\u001b[0;34m\u001b[0m\u001b[0m\n",
            "\u001b[0;32m/usr/local/lib/python3.7/dist-packages/pandas/io/parsers.py\u001b[0m in \u001b[0;36m__init__\u001b[0;34m(self, src, **kwds)\u001b[0m\n\u001b[1;32m   2008\u001b[0m         \u001b[0mkwds\u001b[0m\u001b[0;34m[\u001b[0m\u001b[0;34m\"usecols\"\u001b[0m\u001b[0;34m]\u001b[0m \u001b[0;34m=\u001b[0m \u001b[0mself\u001b[0m\u001b[0;34m.\u001b[0m\u001b[0musecols\u001b[0m\u001b[0;34m\u001b[0m\u001b[0;34m\u001b[0m\u001b[0m\n\u001b[1;32m   2009\u001b[0m \u001b[0;34m\u001b[0m\u001b[0m\n\u001b[0;32m-> 2010\u001b[0;31m         \u001b[0mself\u001b[0m\u001b[0;34m.\u001b[0m\u001b[0m_reader\u001b[0m \u001b[0;34m=\u001b[0m \u001b[0mparsers\u001b[0m\u001b[0;34m.\u001b[0m\u001b[0mTextReader\u001b[0m\u001b[0;34m(\u001b[0m\u001b[0msrc\u001b[0m\u001b[0;34m,\u001b[0m \u001b[0;34m**\u001b[0m\u001b[0mkwds\u001b[0m\u001b[0;34m)\u001b[0m\u001b[0;34m\u001b[0m\u001b[0;34m\u001b[0m\u001b[0m\n\u001b[0m\u001b[1;32m   2011\u001b[0m         \u001b[0mself\u001b[0m\u001b[0;34m.\u001b[0m\u001b[0munnamed_cols\u001b[0m \u001b[0;34m=\u001b[0m \u001b[0mself\u001b[0m\u001b[0;34m.\u001b[0m\u001b[0m_reader\u001b[0m\u001b[0;34m.\u001b[0m\u001b[0munnamed_cols\u001b[0m\u001b[0;34m\u001b[0m\u001b[0;34m\u001b[0m\u001b[0m\n\u001b[1;32m   2012\u001b[0m \u001b[0;34m\u001b[0m\u001b[0m\n",
            "\u001b[0;32mpandas/_libs/parsers.pyx\u001b[0m in \u001b[0;36mpandas._libs.parsers.TextReader.__cinit__\u001b[0;34m()\u001b[0m\n",
            "\u001b[0;32mpandas/_libs/parsers.pyx\u001b[0m in \u001b[0;36mpandas._libs.parsers.TextReader._setup_parser_source\u001b[0;34m()\u001b[0m\n",
            "\u001b[0;31mFileNotFoundError\u001b[0m: [Errno 2] No such file or directory: 'iris.csv'"
          ]
        }
      ]
    },
    {
      "cell_type": "markdown",
      "metadata": {
        "id": "7rUrmoO58qBk"
      },
      "source": [
        " Decision Tree 14.08.2021"
      ]
    },
    {
      "cell_type": "code",
      "metadata": {
        "colab": {
          "base_uri": "https://localhost:8080/",
          "height": 330
        },
        "id": "9XycMXMm8pTa",
        "outputId": "2352f148-4a8b-45f0-f95b-6cfc00bf4a0a"
      },
      "source": [
        "# Importing the libraries\n",
        "import numpy as np\n",
        "import matplotlib.pyplot as plt\n",
        "import pandas as pd\n",
        "\n",
        " # Importing the dataset\n",
        "dataset = pd.read_csv('Social_Network_Ads.csv')\n",
        "\n",
        "X = dataset.iloc[:, [2,3]].values\n",
        "y = dataset.iloc[:, 4].values\n",
        "\n",
        "\n",
        " # Splitting the dataset into the Training set and Test set\n",
        "from sklearn.model_selection import train_test_split\n",
        "X_train, X_test, y_train, y_test = train_test_split(X, y, test_size = 0.20,random_state=1)\n",
        "\n",
        "from sklearn.tree import DecisionTreeClassifier\n",
        "classifier = DecisionTreeClassifier(criterion='gini', random_state = 0,)\n",
        " # criterion = entropy (goal is to reduce entropy, higher info gain and more homogenious groups after splits)\n",
        "classifier.fit(X_train, y_train)\n",
        "\n",
        " #Predicting the Test Set Results\n",
        "y_pred = classifier.predict(X_test)\n",
        " # y_pred is the vector of predictions.\n",
        " # gives prediction for each of the test set observation\n",
        " # using predict method of the DecisionTreeClassifier class (classifier is an object of the DecisionTreeClassifier class)\n",
        "\n",
        "\n",
        " #Making the Confusion Matrix\n",
        "from sklearn.metrics import confusion_matrix\n",
        " # confustion_matrix is a function of the metrics library\n",
        " # difference between class and function (Class is Capitalized, function is lower−case)\n",
        "\n",
        "cm = confusion_matrix(y_test, y_pred)\n",
        " # Definition : confusion_matrix(y_true, y_pred, labels=None, sample_weight= None)\n",
        " # using function to compute cofustion matrix\n",
        " #cm=\n",
        " # [62, 6],\n",
        "# [ 3, 29]\n",
        "\n",
        "from sklearn.metrics import confusion_matrix, ConfusionMatrixDisplay\n",
        "disp = ConfusionMatrixDisplay(confusion_matrix=cm,display_labels=classifier.classes_)\n",
        "disp.plot()\n",
        "\n",
        "#Visulaizing the results\n",
        "#print(X_test)\n",
        "print(classifier.predict([[24 , 57000]]))\n",
        "print(classifier.predict([[26 , 52000]]))\n",
        "print(classifier.predict([[45 , 26000]]))"
      ],
      "execution_count": null,
      "outputs": [
        {
          "output_type": "stream",
          "text": [
            "[0]\n",
            "[0]\n",
            "[1]\n"
          ],
          "name": "stdout"
        },
        {
          "output_type": "display_data",
          "data": {
            "image/png": "[encoded data removed]",
            "text/plain": [
              "<Figure size 432x288 with 2 Axes>"
            ]
          },
          "metadata": {
            "tags": [],
            "needs_background": "light"
          }
        }
      ]
    },
    {
      "cell_type": "code",
      "metadata": {
        "colab": {
          "base_uri": "https://localhost:8080/",
          "height": 1000
        },
        "id": "ssG_0MlAAdm_",
        "outputId": "e0d07046-1d99-471e-95a1-3b41be915b46"
      },
      "source": [
        "from sklearn import tree\n",
        "plt.figure(figsize=(16,16))\n",
        "import graphviz\n",
        "dot_data = tree.export_graphviz(classifier, out_file=None,\n",
        "filled=True, rounded=False,\n",
        "feature_names=[\"Age\",\"Salary\"],\n",
        "class_names=[\"No\",\"Yes\"],\n",
        "special_characters=True)\n",
        "graph = graphviz.Source(dot_data)\n",
        "graph"
      ],
      "execution_count": null,
      "outputs": [
        {
          "output_type": "execute_result",
          "data": {
            "text/plain": [
              "<graphviz.files.Source at 0x7f6bb3350e50>"
            ],
            "image/svg+xml": "<?xml version=\"1.0\" encoding=\"UTF-8\" standalone=\"no\"?>\n<!DOCTYPE svg PUBLIC \"-//W3C//DTD SVG 1.1//EN\"\n \"http://www.w3.org/Graphics/SVG/1.1/DTD/svg11.dtd\">\n<!-- Generated by graphviz version 2.40.1 (20161225.0304)\n -->\n<!-- Title: Tree Pages: 1 -->\n<svg width=\"2063pt\" height=\"1623pt\"\n viewBox=\"0.00 0.00 2063.00 1623.00\" xmlns=\"http://www.w3.org/2000/svg\" xmlns:xlink=\"http://www.w3.org/1999/xlink\">\n<g id=\"graph0\" class=\"graph\" transform=\"scale(1 1) rotate(0) translate(4 1619)\">\n<title>Tree</title>\n<polygon fill=\"#ffffff\" stroke=\"transparent\" points=\"-4,4 -4,-1619 2059,-1619 2059,4 -4,4\"/>\n<!-- 0 -->\n<g id=\"node1\" class=\"node\">\n<title>0</title>\n<polygon fill=\"#f3c4a2\" stroke=\"#000000\" points=\"1114,-1615 991,-1615 991,-1532 1114,-1532 1114,-1615\"/>\n<text text-anchor=\"start\" x=\"1019.5\" y=\"-1599.8\" font-family=\"Times,serif\" font-size=\"14.00\" fill=\"#000000\">Age ≤ 44.5</text>\n<text text-anchor=\"start\" x=\"1016\" y=\"-1584.8\" font-family=\"Times,serif\" font-size=\"14.00\" fill=\"#000000\">gini = 0.453</text>\n<text text-anchor=\"start\" x=\"1010.5\" y=\"-1569.8\" font-family=\"Times,serif\" font-size=\"14.00\" fill=\"#000000\">samples = 320</text>\n<text text-anchor=\"start\" x=\"999\" y=\"-1554.8\" font-family=\"Times,serif\" font-size=\"14.00\" fill=\"#000000\">value = [209, 111]</text>\n<text text-anchor=\"start\" x=\"1022\" y=\"-1539.8\" font-family=\"Times,serif\" font-size=\"14.00\" fill=\"#000000\">class = No</text>\n</g>\n<!-- 1 -->\n<g id=\"node2\" class=\"node\">\n<title>1</title>\n<polygon fill=\"#ea9a60\" stroke=\"#000000\" points=\"854,-1496 737,-1496 737,-1413 854,-1413 854,-1496\"/>\n<text text-anchor=\"start\" x=\"745.5\" y=\"-1480.8\" font-family=\"Times,serif\" font-size=\"14.00\" fill=\"#000000\">Salary ≤ 90500.0</text>\n<text text-anchor=\"start\" x=\"759\" y=\"-1465.8\" font-family=\"Times,serif\" font-size=\"14.00\" fill=\"#000000\">gini = 0.275</text>\n<text text-anchor=\"start\" x=\"753.5\" y=\"-1450.8\" font-family=\"Times,serif\" font-size=\"14.00\" fill=\"#000000\">samples = 237</text>\n<text text-anchor=\"start\" x=\"745\" y=\"-1435.8\" font-family=\"Times,serif\" font-size=\"14.00\" fill=\"#000000\">value = [198, 39]</text>\n<text text-anchor=\"start\" x=\"765\" y=\"-1420.8\" font-family=\"Times,serif\" font-size=\"14.00\" fill=\"#000000\">class = No</text>\n</g>\n<!-- 0&#45;&gt;1 -->\n<g id=\"edge1\" class=\"edge\">\n<title>0&#45;&gt;1</title>\n<path fill=\"none\" stroke=\"#000000\" d=\"M990.9421,-1544.9965C952.586,-1527.2363 903.1898,-1504.3642 863.6541,-1486.0577\"/>\n<polygon fill=\"#000000\" stroke=\"#000000\" points=\"864.8915,-1482.7737 854.3464,-1481.748 861.9502,-1489.1258 864.8915,-1482.7737\"/>\n<text text-anchor=\"middle\" x=\"862.9601\" y=\"-1501.5172\" font-family=\"Times,serif\" font-size=\"14.00\" fill=\"#000000\">True</text>\n</g>\n<!-- 42 -->\n<g id=\"node43\" class=\"node\">\n<title>42</title>\n<polygon fill=\"#57ace9\" stroke=\"#000000\" points=\"1262,-1496 1153,-1496 1153,-1413 1262,-1413 1262,-1496\"/>\n<text text-anchor=\"start\" x=\"1174.5\" y=\"-1480.8\" font-family=\"Times,serif\" font-size=\"14.00\" fill=\"#000000\">Age ≤ 46.5</text>\n<text text-anchor=\"start\" x=\"1175\" y=\"-1465.8\" font-family=\"Times,serif\" font-size=\"14.00\" fill=\"#000000\">gini = 0.23</text>\n<text text-anchor=\"start\" x=\"1169.5\" y=\"-1450.8\" font-family=\"Times,serif\" font-size=\"14.00\" fill=\"#000000\">samples = 83</text>\n<text text-anchor=\"start\" x=\"1161\" y=\"-1435.8\" font-family=\"Times,serif\" font-size=\"14.00\" fill=\"#000000\">value = [11, 72]</text>\n<text text-anchor=\"start\" x=\"1176.5\" y=\"-1420.8\" font-family=\"Times,serif\" font-size=\"14.00\" fill=\"#000000\">class = Yes</text>\n</g>\n<!-- 0&#45;&gt;42 -->\n<g id=\"edge42\" class=\"edge\">\n<title>0&#45;&gt;42</title>\n<path fill=\"none\" stroke=\"#000000\" d=\"M1106.7115,-1531.8796C1119.1006,-1522.368 1132.3649,-1512.1843 1145.0676,-1502.432\"/>\n<polygon fill=\"#000000\" stroke=\"#000000\" points=\"1147.5186,-1504.9628 1153.3191,-1496.0969 1143.2558,-1499.4105 1147.5186,-1504.9628\"/>\n<text text-anchor=\"middle\" x=\"1150.0624\" y=\"-1517.1839\" font-family=\"Times,serif\" font-size=\"14.00\" fill=\"#000000\">False</text>\n</g>\n<!-- 2 -->\n<g id=\"node3\" class=\"node\">\n<title>2</title>\n<polygon fill=\"#e68640\" stroke=\"#000000\" points=\"580.5,-1377 470.5,-1377 470.5,-1294 580.5,-1294 580.5,-1377\"/>\n<text text-anchor=\"start\" x=\"492.5\" y=\"-1361.8\" font-family=\"Times,serif\" font-size=\"14.00\" fill=\"#000000\">Age ≤ 36.5</text>\n<text text-anchor=\"start\" x=\"489\" y=\"-1346.8\" font-family=\"Times,serif\" font-size=\"14.00\" fill=\"#000000\">gini = 0.067</text>\n<text text-anchor=\"start\" x=\"483.5\" y=\"-1331.8\" font-family=\"Times,serif\" font-size=\"14.00\" fill=\"#000000\">samples = 201</text>\n<text text-anchor=\"start\" x=\"478.5\" y=\"-1316.8\" font-family=\"Times,serif\" font-size=\"14.00\" fill=\"#000000\">value = [194, 7]</text>\n<text text-anchor=\"start\" x=\"495\" y=\"-1301.8\" font-family=\"Times,serif\" font-size=\"14.00\" fill=\"#000000\">class = No</text>\n</g>\n<!-- 1&#45;&gt;2 -->\n<g id=\"edge2\" class=\"edge\">\n<title>1&#45;&gt;2</title>\n<path fill=\"none\" stroke=\"#000000\" d=\"M736.914,-1428.6788C693.6198,-1409.5973 634.6917,-1383.6252 590.0461,-1363.9481\"/>\n<polygon fill=\"#000000\" stroke=\"#000000\" points=\"591.309,-1360.6799 580.7467,-1359.8495 588.4858,-1367.0853 591.309,-1360.6799\"/>\n</g>\n<!-- 29 -->\n<g id=\"node30\" class=\"node\">\n<title>29</title>\n<polygon fill=\"#52a9e8\" stroke=\"#000000\" points=\"857,-1377 734,-1377 734,-1294 857,-1294 857,-1377\"/>\n<text text-anchor=\"start\" x=\"742\" y=\"-1361.8\" font-family=\"Times,serif\" font-size=\"14.00\" fill=\"#000000\">Salary ≤ 118500.0</text>\n<text text-anchor=\"start\" x=\"759\" y=\"-1346.8\" font-family=\"Times,serif\" font-size=\"14.00\" fill=\"#000000\">gini = 0.198</text>\n<text text-anchor=\"start\" x=\"757.5\" y=\"-1331.8\" font-family=\"Times,serif\" font-size=\"14.00\" fill=\"#000000\">samples = 36</text>\n<text text-anchor=\"start\" x=\"752.5\" y=\"-1316.8\" font-family=\"Times,serif\" font-size=\"14.00\" fill=\"#000000\">value = [4, 32]</text>\n<text text-anchor=\"start\" x=\"764.5\" y=\"-1301.8\" font-family=\"Times,serif\" font-size=\"14.00\" fill=\"#000000\">class = Yes</text>\n</g>\n<!-- 1&#45;&gt;29 -->\n<g id=\"edge29\" class=\"edge\">\n<title>1&#45;&gt;29</title>\n<path fill=\"none\" stroke=\"#000000\" d=\"M795.5,-1412.8796C795.5,-1404.6838 795.5,-1395.9891 795.5,-1387.5013\"/>\n<polygon fill=\"#000000\" stroke=\"#000000\" points=\"799.0001,-1387.298 795.5,-1377.2981 792.0001,-1387.2981 799.0001,-1387.298\"/>\n</g>\n<!-- 3 -->\n<g id=\"node4\" class=\"node\">\n<title>3</title>\n<polygon fill=\"#e58139\" stroke=\"#000000\" points=\"449.5,-1250.5 339.5,-1250.5 339.5,-1182.5 449.5,-1182.5 449.5,-1250.5\"/>\n<text text-anchor=\"start\" x=\"365.5\" y=\"-1235.3\" font-family=\"Times,serif\" font-size=\"14.00\" fill=\"#000000\">gini = 0.0</text>\n<text text-anchor=\"start\" x=\"352.5\" y=\"-1220.3\" font-family=\"Times,serif\" font-size=\"14.00\" fill=\"#000000\">samples = 134</text>\n<text text-anchor=\"start\" x=\"347.5\" y=\"-1205.3\" font-family=\"Times,serif\" font-size=\"14.00\" fill=\"#000000\">value = [134, 0]</text>\n<text text-anchor=\"start\" x=\"364\" y=\"-1190.3\" font-family=\"Times,serif\" font-size=\"14.00\" fill=\"#000000\">class = No</text>\n</g>\n<!-- 2&#45;&gt;3 -->\n<g id=\"edge3\" class=\"edge\">\n<title>2&#45;&gt;3</title>\n<path fill=\"none\" stroke=\"#000000\" d=\"M479.6826,-1293.8796C466.7303,-1282.1138 452.646,-1269.3197 439.7286,-1257.5855\"/>\n<polygon fill=\"#000000\" stroke=\"#000000\" points=\"442.0306,-1254.9482 432.2753,-1250.8149 437.3239,-1260.1296 442.0306,-1254.9482\"/>\n</g>\n<!-- 4 -->\n<g id=\"node5\" class=\"node\">\n<title>4</title>\n<polygon fill=\"#e89050\" stroke=\"#000000\" points=\"583.5,-1258 467.5,-1258 467.5,-1175 583.5,-1175 583.5,-1258\"/>\n<text text-anchor=\"start\" x=\"475.5\" y=\"-1242.8\" font-family=\"Times,serif\" font-size=\"14.00\" fill=\"#000000\">Salary ≤ 83500.0</text>\n<text text-anchor=\"start\" x=\"489\" y=\"-1227.8\" font-family=\"Times,serif\" font-size=\"14.00\" fill=\"#000000\">gini = 0.187</text>\n<text text-anchor=\"start\" x=\"487.5\" y=\"-1212.8\" font-family=\"Times,serif\" font-size=\"14.00\" fill=\"#000000\">samples = 67</text>\n<text text-anchor=\"start\" x=\"482.5\" y=\"-1197.8\" font-family=\"Times,serif\" font-size=\"14.00\" fill=\"#000000\">value = [60, 7]</text>\n<text text-anchor=\"start\" x=\"495\" y=\"-1182.8\" font-family=\"Times,serif\" font-size=\"14.00\" fill=\"#000000\">class = No</text>\n</g>\n<!-- 2&#45;&gt;4 -->\n<g id=\"edge4\" class=\"edge\">\n<title>2&#45;&gt;4</title>\n<path fill=\"none\" stroke=\"#000000\" d=\"M525.5,-1293.8796C525.5,-1285.6838 525.5,-1276.9891 525.5,-1268.5013\"/>\n<polygon fill=\"#000000\" stroke=\"#000000\" points=\"529.0001,-1268.298 525.5,-1258.2981 522.0001,-1268.2981 529.0001,-1268.298\"/>\n</g>\n<!-- 5 -->\n<g id=\"node6\" class=\"node\">\n<title>5</title>\n<polygon fill=\"#e78c49\" stroke=\"#000000\" points=\"457.5,-1139 341.5,-1139 341.5,-1056 457.5,-1056 457.5,-1139\"/>\n<text text-anchor=\"start\" x=\"349.5\" y=\"-1123.8\" font-family=\"Times,serif\" font-size=\"14.00\" fill=\"#000000\">Salary ≤ 67500.0</text>\n<text text-anchor=\"start\" x=\"363\" y=\"-1108.8\" font-family=\"Times,serif\" font-size=\"14.00\" fill=\"#000000\">gini = 0.142</text>\n<text text-anchor=\"start\" x=\"361.5\" y=\"-1093.8\" font-family=\"Times,serif\" font-size=\"14.00\" fill=\"#000000\">samples = 65</text>\n<text text-anchor=\"start\" x=\"356.5\" y=\"-1078.8\" font-family=\"Times,serif\" font-size=\"14.00\" fill=\"#000000\">value = [60, 5]</text>\n<text text-anchor=\"start\" x=\"369\" y=\"-1063.8\" font-family=\"Times,serif\" font-size=\"14.00\" fill=\"#000000\">class = No</text>\n</g>\n<!-- 4&#45;&gt;5 -->\n<g id=\"edge5\" class=\"edge\">\n<title>4&#45;&gt;5</title>\n<path fill=\"none\" stroke=\"#000000\" d=\"M481.4313,-1174.8796C471.7045,-1165.6931 461.3139,-1155.8798 451.3121,-1146.4336\"/>\n<polygon fill=\"#000000\" stroke=\"#000000\" points=\"453.4301,-1143.6198 443.7568,-1139.2981 448.6237,-1148.7089 453.4301,-1143.6198\"/>\n</g>\n<!-- 28 -->\n<g id=\"node29\" class=\"node\">\n<title>28</title>\n<polygon fill=\"#399de5\" stroke=\"#000000\" points=\"573,-1131.5 478,-1131.5 478,-1063.5 573,-1063.5 573,-1131.5\"/>\n<text text-anchor=\"start\" x=\"496.5\" y=\"-1116.3\" font-family=\"Times,serif\" font-size=\"14.00\" fill=\"#000000\">gini = 0.0</text>\n<text text-anchor=\"start\" x=\"491\" y=\"-1101.3\" font-family=\"Times,serif\" font-size=\"14.00\" fill=\"#000000\">samples = 2</text>\n<text text-anchor=\"start\" x=\"486\" y=\"-1086.3\" font-family=\"Times,serif\" font-size=\"14.00\" fill=\"#000000\">value = [0, 2]</text>\n<text text-anchor=\"start\" x=\"494.5\" y=\"-1071.3\" font-family=\"Times,serif\" font-size=\"14.00\" fill=\"#000000\">class = Yes</text>\n</g>\n<!-- 4&#45;&gt;28 -->\n<g id=\"edge28\" class=\"edge\">\n<title>4&#45;&gt;28</title>\n<path fill=\"none\" stroke=\"#000000\" d=\"M525.5,-1174.8796C525.5,-1164.2134 525.5,-1152.7021 525.5,-1141.9015\"/>\n<polygon fill=\"#000000\" stroke=\"#000000\" points=\"529.0001,-1141.8149 525.5,-1131.8149 522.0001,-1141.815 529.0001,-1141.8149\"/>\n</g>\n<!-- 6 -->\n<g id=\"node7\" class=\"node\">\n<title>6</title>\n<polygon fill=\"#e58139\" stroke=\"#000000\" points=\"323.5,-1012.5 221.5,-1012.5 221.5,-944.5 323.5,-944.5 323.5,-1012.5\"/>\n<text text-anchor=\"start\" x=\"243.5\" y=\"-997.3\" font-family=\"Times,serif\" font-size=\"14.00\" fill=\"#000000\">gini = 0.0</text>\n<text text-anchor=\"start\" x=\"234.5\" y=\"-982.3\" font-family=\"Times,serif\" font-size=\"14.00\" fill=\"#000000\">samples = 35</text>\n<text text-anchor=\"start\" x=\"229.5\" y=\"-967.3\" font-family=\"Times,serif\" font-size=\"14.00\" fill=\"#000000\">value = [35, 0]</text>\n<text text-anchor=\"start\" x=\"242\" y=\"-952.3\" font-family=\"Times,serif\" font-size=\"14.00\" fill=\"#000000\">class = No</text>\n</g>\n<!-- 5&#45;&gt;6 -->\n<g id=\"edge6\" class=\"edge\">\n<title>5&#45;&gt;6</title>\n<path fill=\"none\" stroke=\"#000000\" d=\"M355.0816,-1055.8796C342.6421,-1044.2237 329.1257,-1031.5587 316.699,-1019.9148\"/>\n<polygon fill=\"#000000\" stroke=\"#000000\" points=\"318.8121,-1017.0985 309.1218,-1012.8149 314.0259,-1022.2065 318.8121,-1017.0985\"/>\n</g>\n<!-- 7 -->\n<g id=\"node8\" class=\"node\">\n<title>7</title>\n<polygon fill=\"#ea9a61\" stroke=\"#000000\" points=\"457.5,-1020 341.5,-1020 341.5,-937 457.5,-937 457.5,-1020\"/>\n<text text-anchor=\"start\" x=\"349.5\" y=\"-1004.8\" font-family=\"Times,serif\" font-size=\"14.00\" fill=\"#000000\">Salary ≤ 70500.0</text>\n<text text-anchor=\"start\" x=\"363\" y=\"-989.8\" font-family=\"Times,serif\" font-size=\"14.00\" fill=\"#000000\">gini = 0.278</text>\n<text text-anchor=\"start\" x=\"361.5\" y=\"-974.8\" font-family=\"Times,serif\" font-size=\"14.00\" fill=\"#000000\">samples = 30</text>\n<text text-anchor=\"start\" x=\"356.5\" y=\"-959.8\" font-family=\"Times,serif\" font-size=\"14.00\" fill=\"#000000\">value = [25, 5]</text>\n<text text-anchor=\"start\" x=\"369\" y=\"-944.8\" font-family=\"Times,serif\" font-size=\"14.00\" fill=\"#000000\">class = No</text>\n</g>\n<!-- 5&#45;&gt;7 -->\n<g id=\"edge7\" class=\"edge\">\n<title>5&#45;&gt;7</title>\n<path fill=\"none\" stroke=\"#000000\" d=\"M399.5,-1055.8796C399.5,-1047.6838 399.5,-1038.9891 399.5,-1030.5013\"/>\n<polygon fill=\"#000000\" stroke=\"#000000\" points=\"403.0001,-1030.298 399.5,-1020.2981 396.0001,-1030.2981 403.0001,-1030.298\"/>\n</g>\n<!-- 8 -->\n<g id=\"node9\" class=\"node\">\n<title>8</title>\n<polygon fill=\"#399de5\" stroke=\"#000000\" points=\"389,-893.5 294,-893.5 294,-825.5 389,-825.5 389,-893.5\"/>\n<text text-anchor=\"start\" x=\"312.5\" y=\"-878.3\" font-family=\"Times,serif\" font-size=\"14.00\" fill=\"#000000\">gini = 0.0</text>\n<text text-anchor=\"start\" x=\"307\" y=\"-863.3\" font-family=\"Times,serif\" font-size=\"14.00\" fill=\"#000000\">samples = 1</text>\n<text text-anchor=\"start\" x=\"302\" y=\"-848.3\" font-family=\"Times,serif\" font-size=\"14.00\" fill=\"#000000\">value = [0, 1]</text>\n<text text-anchor=\"start\" x=\"310.5\" y=\"-833.3\" font-family=\"Times,serif\" font-size=\"14.00\" fill=\"#000000\">class = Yes</text>\n</g>\n<!-- 7&#45;&gt;8 -->\n<g id=\"edge8\" class=\"edge\">\n<title>7&#45;&gt;8</title>\n<path fill=\"none\" stroke=\"#000000\" d=\"M379.2144,-936.8796C373.855,-925.8835 368.0578,-913.9893 362.6537,-902.9015\"/>\n<polygon fill=\"#000000\" stroke=\"#000000\" points=\"365.7524,-901.2706 358.2249,-893.8149 359.46,-904.3375 365.7524,-901.2706\"/>\n</g>\n<!-- 9 -->\n<g id=\"node10\" class=\"node\">\n<title>9</title>\n<polygon fill=\"#e99559\" stroke=\"#000000\" points=\"509.5,-901 407.5,-901 407.5,-818 509.5,-818 509.5,-901\"/>\n<text text-anchor=\"start\" x=\"425.5\" y=\"-885.8\" font-family=\"Times,serif\" font-size=\"14.00\" fill=\"#000000\">Age ≤ 40.5</text>\n<text text-anchor=\"start\" x=\"422\" y=\"-870.8\" font-family=\"Times,serif\" font-size=\"14.00\" fill=\"#000000\">gini = 0.238</text>\n<text text-anchor=\"start\" x=\"420.5\" y=\"-855.8\" font-family=\"Times,serif\" font-size=\"14.00\" fill=\"#000000\">samples = 29</text>\n<text text-anchor=\"start\" x=\"415.5\" y=\"-840.8\" font-family=\"Times,serif\" font-size=\"14.00\" fill=\"#000000\">value = [25, 4]</text>\n<text text-anchor=\"start\" x=\"428\" y=\"-825.8\" font-family=\"Times,serif\" font-size=\"14.00\" fill=\"#000000\">class = No</text>\n</g>\n<!-- 7&#45;&gt;9 -->\n<g id=\"edge9\" class=\"edge\">\n<title>7&#45;&gt;9</title>\n<path fill=\"none\" stroke=\"#000000\" d=\"M420.1353,-936.8796C424.3774,-928.3236 428.889,-919.2238 433.2721,-910.3833\"/>\n<polygon fill=\"#000000\" stroke=\"#000000\" points=\"436.4703,-911.8121 437.7766,-901.2981 430.1988,-908.7026 436.4703,-911.8121\"/>\n</g>\n<!-- 10 -->\n<g id=\"node11\" class=\"node\">\n<title>10</title>\n<polygon fill=\"#eca36e\" stroke=\"#000000\" points=\"459.5,-782 343.5,-782 343.5,-699 459.5,-699 459.5,-782\"/>\n<text text-anchor=\"start\" x=\"351.5\" y=\"-766.8\" font-family=\"Times,serif\" font-size=\"14.00\" fill=\"#000000\">Salary ≤ 79500.0</text>\n<text text-anchor=\"start\" x=\"365\" y=\"-751.8\" font-family=\"Times,serif\" font-size=\"14.00\" fill=\"#000000\">gini = 0.332</text>\n<text text-anchor=\"start\" x=\"363.5\" y=\"-736.8\" font-family=\"Times,serif\" font-size=\"14.00\" fill=\"#000000\">samples = 19</text>\n<text text-anchor=\"start\" x=\"358.5\" y=\"-721.8\" font-family=\"Times,serif\" font-size=\"14.00\" fill=\"#000000\">value = [15, 4]</text>\n<text text-anchor=\"start\" x=\"371\" y=\"-706.8\" font-family=\"Times,serif\" font-size=\"14.00\" fill=\"#000000\">class = No</text>\n</g>\n<!-- 9&#45;&gt;10 -->\n<g id=\"edge10\" class=\"edge\">\n<title>9&#45;&gt;10</title>\n<path fill=\"none\" stroke=\"#000000\" d=\"M438.5642,-817.8796C434.4659,-809.3236 430.1072,-800.2238 425.8727,-791.3833\"/>\n<polygon fill=\"#000000\" stroke=\"#000000\" points=\"428.9975,-789.8049 421.5209,-782.2981 422.6843,-792.8288 428.9975,-789.8049\"/>\n</g>\n<!-- 27 -->\n<g id=\"node28\" class=\"node\">\n<title>27</title>\n<polygon fill=\"#e58139\" stroke=\"#000000\" points=\"579.5,-774.5 477.5,-774.5 477.5,-706.5 579.5,-706.5 579.5,-774.5\"/>\n<text text-anchor=\"start\" x=\"499.5\" y=\"-759.3\" font-family=\"Times,serif\" font-size=\"14.00\" fill=\"#000000\">gini = 0.0</text>\n<text text-anchor=\"start\" x=\"490.5\" y=\"-744.3\" font-family=\"Times,serif\" font-size=\"14.00\" fill=\"#000000\">samples = 10</text>\n<text text-anchor=\"start\" x=\"485.5\" y=\"-729.3\" font-family=\"Times,serif\" font-size=\"14.00\" fill=\"#000000\">value = [10, 0]</text>\n<text text-anchor=\"start\" x=\"498\" y=\"-714.3\" font-family=\"Times,serif\" font-size=\"14.00\" fill=\"#000000\">class = No</text>\n</g>\n<!-- 9&#45;&gt;27 -->\n<g id=\"edge27\" class=\"edge\">\n<title>9&#45;&gt;27</title>\n<path fill=\"none\" stroke=\"#000000\" d=\"M482.9826,-817.8796C489.5156,-806.7735 496.5875,-794.7513 503.1652,-783.5691\"/>\n<polygon fill=\"#000000\" stroke=\"#000000\" points=\"506.2613,-785.2089 508.3147,-774.8149 500.2277,-781.6597 506.2613,-785.2089\"/>\n</g>\n<!-- 11 -->\n<g id=\"node12\" class=\"node\">\n<title>11</title>\n<polygon fill=\"#eeab7b\" stroke=\"#000000\" points=\"397.5,-663 281.5,-663 281.5,-580 397.5,-580 397.5,-663\"/>\n<text text-anchor=\"start\" x=\"289.5\" y=\"-647.8\" font-family=\"Times,serif\" font-size=\"14.00\" fill=\"#000000\">Salary ≤ 77500.0</text>\n<text text-anchor=\"start\" x=\"303\" y=\"-632.8\" font-family=\"Times,serif\" font-size=\"14.00\" fill=\"#000000\">gini = 0.375</text>\n<text text-anchor=\"start\" x=\"301.5\" y=\"-617.8\" font-family=\"Times,serif\" font-size=\"14.00\" fill=\"#000000\">samples = 16</text>\n<text text-anchor=\"start\" x=\"296.5\" y=\"-602.8\" font-family=\"Times,serif\" font-size=\"14.00\" fill=\"#000000\">value = [12, 4]</text>\n<text text-anchor=\"start\" x=\"309\" y=\"-587.8\" font-family=\"Times,serif\" font-size=\"14.00\" fill=\"#000000\">class = No</text>\n</g>\n<!-- 10&#45;&gt;11 -->\n<g id=\"edge11\" class=\"edge\">\n<title>10&#45;&gt;11</title>\n<path fill=\"none\" stroke=\"#000000\" d=\"M379.8154,-698.8796C375.3577,-690.3236 370.6166,-681.2238 366.0106,-672.3833\"/>\n<polygon fill=\"#000000\" stroke=\"#000000\" points=\"369.0017,-670.5494 361.2771,-663.2981 362.7938,-673.7838 369.0017,-670.5494\"/>\n</g>\n<!-- 26 -->\n<g id=\"node27\" class=\"node\">\n<title>26</title>\n<polygon fill=\"#e58139\" stroke=\"#000000\" points=\"511,-655.5 416,-655.5 416,-587.5 511,-587.5 511,-655.5\"/>\n<text text-anchor=\"start\" x=\"434.5\" y=\"-640.3\" font-family=\"Times,serif\" font-size=\"14.00\" fill=\"#000000\">gini = 0.0</text>\n<text text-anchor=\"start\" x=\"429\" y=\"-625.3\" font-family=\"Times,serif\" font-size=\"14.00\" fill=\"#000000\">samples = 3</text>\n<text text-anchor=\"start\" x=\"424\" y=\"-610.3\" font-family=\"Times,serif\" font-size=\"14.00\" fill=\"#000000\">value = [3, 0]</text>\n<text text-anchor=\"start\" x=\"433\" y=\"-595.3\" font-family=\"Times,serif\" font-size=\"14.00\" fill=\"#000000\">class = No</text>\n</g>\n<!-- 10&#45;&gt;26 -->\n<g id=\"edge26\" class=\"edge\">\n<title>10&#45;&gt;26</title>\n<path fill=\"none\" stroke=\"#000000\" d=\"M423.1846,-698.8796C428.9136,-687.8835 435.1106,-675.9893 440.8874,-664.9015\"/>\n<polygon fill=\"#000000\" stroke=\"#000000\" points=\"444.105,-666.3007 445.6216,-655.8149 437.897,-663.0662 444.105,-666.3007\"/>\n</g>\n<!-- 12 -->\n<g id=\"node13\" class=\"node\">\n<title>12</title>\n<polygon fill=\"#ea985d\" stroke=\"#000000\" points=\"328,-544 227,-544 227,-461 328,-461 328,-544\"/>\n<text text-anchor=\"start\" x=\"244.5\" y=\"-528.8\" font-family=\"Times,serif\" font-size=\"14.00\" fill=\"#000000\">Age ≤ 38.5</text>\n<text text-anchor=\"start\" x=\"245\" y=\"-513.8\" font-family=\"Times,serif\" font-size=\"14.00\" fill=\"#000000\">gini = 0.26</text>\n<text text-anchor=\"start\" x=\"239.5\" y=\"-498.8\" font-family=\"Times,serif\" font-size=\"14.00\" fill=\"#000000\">samples = 13</text>\n<text text-anchor=\"start\" x=\"235\" y=\"-483.8\" font-family=\"Times,serif\" font-size=\"14.00\" fill=\"#000000\">value = [11, 2]</text>\n<text text-anchor=\"start\" x=\"247\" y=\"-468.8\" font-family=\"Times,serif\" font-size=\"14.00\" fill=\"#000000\">class = No</text>\n</g>\n<!-- 11&#45;&gt;12 -->\n<g id=\"edge12\" class=\"edge\">\n<title>11&#45;&gt;12</title>\n<path fill=\"none\" stroke=\"#000000\" d=\"M317.8154,-579.8796C313.3577,-571.3236 308.6166,-562.2238 304.0106,-553.3833\"/>\n<polygon fill=\"#000000\" stroke=\"#000000\" points=\"307.0017,-551.5494 299.2771,-544.2981 300.7938,-554.7838 307.0017,-551.5494\"/>\n</g>\n<!-- 23 -->\n<g id=\"node24\" class=\"node\">\n<title>23</title>\n<polygon fill=\"#9ccef2\" stroke=\"#000000\" points=\"449,-544 354,-544 354,-461 449,-461 449,-544\"/>\n<text text-anchor=\"start\" x=\"368.5\" y=\"-528.8\" font-family=\"Times,serif\" font-size=\"14.00\" fill=\"#000000\">Age ≤ 38.5</text>\n<text text-anchor=\"start\" x=\"365\" y=\"-513.8\" font-family=\"Times,serif\" font-size=\"14.00\" fill=\"#000000\">gini = 0.444</text>\n<text text-anchor=\"start\" x=\"367\" y=\"-498.8\" font-family=\"Times,serif\" font-size=\"14.00\" fill=\"#000000\">samples = 3</text>\n<text text-anchor=\"start\" x=\"362\" y=\"-483.8\" font-family=\"Times,serif\" font-size=\"14.00\" fill=\"#000000\">value = [1, 2]</text>\n<text text-anchor=\"start\" x=\"370.5\" y=\"-468.8\" font-family=\"Times,serif\" font-size=\"14.00\" fill=\"#000000\">class = Yes</text>\n</g>\n<!-- 11&#45;&gt;23 -->\n<g id=\"edge23\" class=\"edge\">\n<title>11&#45;&gt;23</title>\n<path fill=\"none\" stroke=\"#000000\" d=\"M361.1846,-579.8796C365.6423,-571.3236 370.3834,-562.2238 374.9894,-553.3833\"/>\n<polygon fill=\"#000000\" stroke=\"#000000\" points=\"378.2062,-554.7838 379.7229,-544.2981 371.9983,-551.5494 378.2062,-554.7838\"/>\n</g>\n<!-- 13 -->\n<g id=\"node14\" class=\"node\">\n<title>13</title>\n<polygon fill=\"#e58139\" stroke=\"#000000\" points=\"201,-417.5 106,-417.5 106,-349.5 201,-349.5 201,-417.5\"/>\n<text text-anchor=\"start\" x=\"124.5\" y=\"-402.3\" font-family=\"Times,serif\" font-size=\"14.00\" fill=\"#000000\">gini = 0.0</text>\n<text text-anchor=\"start\" x=\"119\" y=\"-387.3\" font-family=\"Times,serif\" font-size=\"14.00\" fill=\"#000000\">samples = 7</text>\n<text text-anchor=\"start\" x=\"114\" y=\"-372.3\" font-family=\"Times,serif\" font-size=\"14.00\" fill=\"#000000\">value = [7, 0]</text>\n<text text-anchor=\"start\" x=\"123\" y=\"-357.3\" font-family=\"Times,serif\" font-size=\"14.00\" fill=\"#000000\">class = No</text>\n</g>\n<!-- 12&#45;&gt;13 -->\n<g id=\"edge13\" class=\"edge\">\n<title>12&#45;&gt;13</title>\n<path fill=\"none\" stroke=\"#000000\" d=\"M234.1308,-460.8796C221.9852,-449.2237 208.7881,-436.5587 196.6549,-424.9148\"/>\n<polygon fill=\"#000000\" stroke=\"#000000\" points=\"198.8953,-422.2138 189.2567,-417.8149 194.0484,-427.2643 198.8953,-422.2138\"/>\n</g>\n<!-- 14 -->\n<g id=\"node15\" class=\"node\">\n<title>14</title>\n<polygon fill=\"#f2c09c\" stroke=\"#000000\" points=\"335.5,-425 219.5,-425 219.5,-342 335.5,-342 335.5,-425\"/>\n<text text-anchor=\"start\" x=\"227.5\" y=\"-409.8\" font-family=\"Times,serif\" font-size=\"14.00\" fill=\"#000000\">Salary ≤ 76000.0</text>\n<text text-anchor=\"start\" x=\"241\" y=\"-394.8\" font-family=\"Times,serif\" font-size=\"14.00\" fill=\"#000000\">gini = 0.444</text>\n<text text-anchor=\"start\" x=\"243\" y=\"-379.8\" font-family=\"Times,serif\" font-size=\"14.00\" fill=\"#000000\">samples = 6</text>\n<text text-anchor=\"start\" x=\"238\" y=\"-364.8\" font-family=\"Times,serif\" font-size=\"14.00\" fill=\"#000000\">value = [4, 2]</text>\n<text text-anchor=\"start\" x=\"247\" y=\"-349.8\" font-family=\"Times,serif\" font-size=\"14.00\" fill=\"#000000\">class = No</text>\n</g>\n<!-- 12&#45;&gt;14 -->\n<g id=\"edge14\" class=\"edge\">\n<title>12&#45;&gt;14</title>\n<path fill=\"none\" stroke=\"#000000\" d=\"M277.5,-460.8796C277.5,-452.6838 277.5,-443.9891 277.5,-435.5013\"/>\n<polygon fill=\"#000000\" stroke=\"#000000\" points=\"281.0001,-435.298 277.5,-425.2981 274.0001,-435.2981 281.0001,-435.298\"/>\n</g>\n<!-- 15 -->\n<g id=\"node16\" class=\"node\">\n<title>15</title>\n<polygon fill=\"#f6d5bd\" stroke=\"#000000\" points=\"269,-306 174,-306 174,-223 269,-223 269,-306\"/>\n<text text-anchor=\"start\" x=\"188.5\" y=\"-290.8\" font-family=\"Times,serif\" font-size=\"14.00\" fill=\"#000000\">Age ≤ 39.5</text>\n<text text-anchor=\"start\" x=\"189\" y=\"-275.8\" font-family=\"Times,serif\" font-size=\"14.00\" fill=\"#000000\">gini = 0.48</text>\n<text text-anchor=\"start\" x=\"187\" y=\"-260.8\" font-family=\"Times,serif\" font-size=\"14.00\" fill=\"#000000\">samples = 5</text>\n<text text-anchor=\"start\" x=\"182\" y=\"-245.8\" font-family=\"Times,serif\" font-size=\"14.00\" fill=\"#000000\">value = [3, 2]</text>\n<text text-anchor=\"start\" x=\"191\" y=\"-230.8\" font-family=\"Times,serif\" font-size=\"14.00\" fill=\"#000000\">class = No</text>\n</g>\n<!-- 14&#45;&gt;15 -->\n<g id=\"edge15\" class=\"edge\">\n<title>14&#45;&gt;15</title>\n<path fill=\"none\" stroke=\"#000000\" d=\"M257.9139,-341.8796C253.8876,-333.3236 249.6053,-324.2238 245.4451,-315.3833\"/>\n<polygon fill=\"#000000\" stroke=\"#000000\" points=\"248.5946,-313.856 241.1697,-306.2981 242.2608,-316.8366 248.5946,-313.856\"/>\n</g>\n<!-- 22 -->\n<g id=\"node23\" class=\"node\">\n<title>22</title>\n<polygon fill=\"#e58139\" stroke=\"#000000\" points=\"382,-298.5 287,-298.5 287,-230.5 382,-230.5 382,-298.5\"/>\n<text text-anchor=\"start\" x=\"305.5\" y=\"-283.3\" font-family=\"Times,serif\" font-size=\"14.00\" fill=\"#000000\">gini = 0.0</text>\n<text text-anchor=\"start\" x=\"300\" y=\"-268.3\" font-family=\"Times,serif\" font-size=\"14.00\" fill=\"#000000\">samples = 1</text>\n<text text-anchor=\"start\" x=\"295\" y=\"-253.3\" font-family=\"Times,serif\" font-size=\"14.00\" fill=\"#000000\">value = [1, 0]</text>\n<text text-anchor=\"start\" x=\"304\" y=\"-238.3\" font-family=\"Times,serif\" font-size=\"14.00\" fill=\"#000000\">class = No</text>\n</g>\n<!-- 14&#45;&gt;22 -->\n<g id=\"edge22\" class=\"edge\">\n<title>14&#45;&gt;22</title>\n<path fill=\"none\" stroke=\"#000000\" d=\"M297.4358,-341.8796C302.7029,-330.8835 308.4001,-318.9893 313.711,-307.9015\"/>\n<polygon fill=\"#000000\" stroke=\"#000000\" points=\"316.9,-309.3457 318.0634,-298.8149 310.5869,-306.3217 316.9,-309.3457\"/>\n</g>\n<!-- 16 -->\n<g id=\"node17\" class=\"node\">\n<title>16</title>\n<polygon fill=\"#ffffff\" stroke=\"#000000\" points=\"212.5,-187 96.5,-187 96.5,-104 212.5,-104 212.5,-187\"/>\n<text text-anchor=\"start\" x=\"104.5\" y=\"-171.8\" font-family=\"Times,serif\" font-size=\"14.00\" fill=\"#000000\">Salary ≤ 73000.0</text>\n<text text-anchor=\"start\" x=\"125.5\" y=\"-156.8\" font-family=\"Times,serif\" font-size=\"14.00\" fill=\"#000000\">gini = 0.5</text>\n<text text-anchor=\"start\" x=\"120\" y=\"-141.8\" font-family=\"Times,serif\" font-size=\"14.00\" fill=\"#000000\">samples = 2</text>\n<text text-anchor=\"start\" x=\"115\" y=\"-126.8\" font-family=\"Times,serif\" font-size=\"14.00\" fill=\"#000000\">value = [1, 1]</text>\n<text text-anchor=\"start\" x=\"124\" y=\"-111.8\" font-family=\"Times,serif\" font-size=\"14.00\" fill=\"#000000\">class = No</text>\n</g>\n<!-- 15&#45;&gt;16 -->\n<g id=\"edge16\" class=\"edge\">\n<title>15&#45;&gt;16</title>\n<path fill=\"none\" stroke=\"#000000\" d=\"M198.0667,-222.8796C193.1987,-214.2335 188.0181,-205.0322 182.9914,-196.1042\"/>\n<polygon fill=\"#000000\" stroke=\"#000000\" points=\"185.9893,-194.2947 178.0334,-187.2981 179.8897,-197.729 185.9893,-194.2947\"/>\n</g>\n<!-- 19 -->\n<g id=\"node20\" class=\"node\">\n<title>19</title>\n<polygon fill=\"#f2c09c\" stroke=\"#000000\" points=\"346.5,-187 230.5,-187 230.5,-104 346.5,-104 346.5,-187\"/>\n<text text-anchor=\"start\" x=\"238.5\" y=\"-171.8\" font-family=\"Times,serif\" font-size=\"14.00\" fill=\"#000000\">Salary ≤ 71500.0</text>\n<text text-anchor=\"start\" x=\"252\" y=\"-156.8\" font-family=\"Times,serif\" font-size=\"14.00\" fill=\"#000000\">gini = 0.444</text>\n<text text-anchor=\"start\" x=\"254\" y=\"-141.8\" font-family=\"Times,serif\" font-size=\"14.00\" fill=\"#000000\">samples = 3</text>\n<text text-anchor=\"start\" x=\"249\" y=\"-126.8\" font-family=\"Times,serif\" font-size=\"14.00\" fill=\"#000000\">value = [2, 1]</text>\n<text text-anchor=\"start\" x=\"258\" y=\"-111.8\" font-family=\"Times,serif\" font-size=\"14.00\" fill=\"#000000\">class = No</text>\n</g>\n<!-- 15&#45;&gt;19 -->\n<g id=\"edge19\" class=\"edge\">\n<title>15&#45;&gt;19</title>\n<path fill=\"none\" stroke=\"#000000\" d=\"M244.9333,-222.8796C249.8013,-214.2335 254.9819,-205.0322 260.0086,-196.1042\"/>\n<polygon fill=\"#000000\" stroke=\"#000000\" points=\"263.1103,-197.729 264.9666,-187.2981 257.0107,-194.2947 263.1103,-197.729\"/>\n</g>\n<!-- 17 -->\n<g id=\"node18\" class=\"node\">\n<title>17</title>\n<polygon fill=\"#e58139\" stroke=\"#000000\" points=\"95,-68 0,-68 0,0 95,0 95,-68\"/>\n<text text-anchor=\"start\" x=\"18.5\" y=\"-52.8\" font-family=\"Times,serif\" font-size=\"14.00\" fill=\"#000000\">gini = 0.0</text>\n<text text-anchor=\"start\" x=\"13\" y=\"-37.8\" font-family=\"Times,serif\" font-size=\"14.00\" fill=\"#000000\">samples = 1</text>\n<text text-anchor=\"start\" x=\"8\" y=\"-22.8\" font-family=\"Times,serif\" font-size=\"14.00\" fill=\"#000000\">value = [1, 0]</text>\n<text text-anchor=\"start\" x=\"17\" y=\"-7.8\" font-family=\"Times,serif\" font-size=\"14.00\" fill=\"#000000\">class = No</text>\n</g>\n<!-- 16&#45;&gt;17 -->\n<g id=\"edge17\" class=\"edge\">\n<title>16&#45;&gt;17</title>\n<path fill=\"none\" stroke=\"#000000\" d=\"M114.6571,-103.9815C105.7492,-94.6989 96.2999,-84.8522 87.3901,-75.5677\"/>\n<polygon fill=\"#000000\" stroke=\"#000000\" points=\"89.8302,-73.0555 80.3808,-68.2637 84.7795,-77.9023 89.8302,-73.0555\"/>\n</g>\n<!-- 18 -->\n<g id=\"node19\" class=\"node\">\n<title>18</title>\n<polygon fill=\"#399de5\" stroke=\"#000000\" points=\"208,-68 113,-68 113,0 208,0 208,-68\"/>\n<text text-anchor=\"start\" x=\"131.5\" y=\"-52.8\" font-family=\"Times,serif\" font-size=\"14.00\" fill=\"#000000\">gini = 0.0</text>\n<text text-anchor=\"start\" x=\"126\" y=\"-37.8\" font-family=\"Times,serif\" font-size=\"14.00\" fill=\"#000000\">samples = 1</text>\n<text text-anchor=\"start\" x=\"121\" y=\"-22.8\" font-family=\"Times,serif\" font-size=\"14.00\" fill=\"#000000\">value = [0, 1]</text>\n<text text-anchor=\"start\" x=\"129.5\" y=\"-7.8\" font-family=\"Times,serif\" font-size=\"14.00\" fill=\"#000000\">class = Yes</text>\n</g>\n<!-- 16&#45;&gt;18 -->\n<g id=\"edge18\" class=\"edge\">\n<title>16&#45;&gt;18</title>\n<path fill=\"none\" stroke=\"#000000\" d=\"M156.7342,-103.9815C157.1842,-95.618 157.6589,-86.7965 158.1139,-78.3409\"/>\n<polygon fill=\"#000000\" stroke=\"#000000\" points=\"161.6137,-78.4373 158.6562,-68.2637 154.6238,-78.0611 161.6137,-78.4373\"/>\n</g>\n<!-- 20 -->\n<g id=\"node21\" class=\"node\">\n<title>20</title>\n<polygon fill=\"#399de5\" stroke=\"#000000\" points=\"331,-68 236,-68 236,0 331,0 331,-68\"/>\n<text text-anchor=\"start\" x=\"254.5\" y=\"-52.8\" font-family=\"Times,serif\" font-size=\"14.00\" fill=\"#000000\">gini = 0.0</text>\n<text text-anchor=\"start\" x=\"249\" y=\"-37.8\" font-family=\"Times,serif\" font-size=\"14.00\" fill=\"#000000\">samples = 1</text>\n<text text-anchor=\"start\" x=\"244\" y=\"-22.8\" font-family=\"Times,serif\" font-size=\"14.00\" fill=\"#000000\">value = [0, 1]</text>\n<text text-anchor=\"start\" x=\"252.5\" y=\"-7.8\" font-family=\"Times,serif\" font-size=\"14.00\" fill=\"#000000\">class = Yes</text>\n</g>\n<!-- 19&#45;&gt;20 -->\n<g id=\"edge20\" class=\"edge\">\n<title>19&#45;&gt;20</title>\n<path fill=\"none\" stroke=\"#000000\" d=\"M286.6382,-103.9815C286.2631,-95.618 285.8676,-86.7965 285.4884,-78.3409\"/>\n<polygon fill=\"#000000\" stroke=\"#000000\" points=\"288.981,-78.0968 285.0365,-68.2637 281.9881,-78.4105 288.981,-78.0968\"/>\n</g>\n<!-- 21 -->\n<g id=\"node22\" class=\"node\">\n<title>21</title>\n<polygon fill=\"#e58139\" stroke=\"#000000\" points=\"444,-68 349,-68 349,0 444,0 444,-68\"/>\n<text text-anchor=\"start\" x=\"367.5\" y=\"-52.8\" font-family=\"Times,serif\" font-size=\"14.00\" fill=\"#000000\">gini = 0.0</text>\n<text text-anchor=\"start\" x=\"362\" y=\"-37.8\" font-family=\"Times,serif\" font-size=\"14.00\" fill=\"#000000\">samples = 2</text>\n<text text-anchor=\"start\" x=\"357\" y=\"-22.8\" font-family=\"Times,serif\" font-size=\"14.00\" fill=\"#000000\">value = [2, 0]</text>\n<text text-anchor=\"start\" x=\"366\" y=\"-7.8\" font-family=\"Times,serif\" font-size=\"14.00\" fill=\"#000000\">class = No</text>\n</g>\n<!-- 19&#45;&gt;21 -->\n<g id=\"edge21\" class=\"edge\">\n<title>19&#45;&gt;21</title>\n<path fill=\"none\" stroke=\"#000000\" d=\"M328.7152,-103.9815C337.7064,-94.6989 347.244,-84.8522 356.2371,-75.5677\"/>\n<polygon fill=\"#000000\" stroke=\"#000000\" points=\"358.8684,-77.8817 363.3119,-68.2637 353.8404,-73.0115 358.8684,-77.8817\"/>\n</g>\n<!-- 24 -->\n<g id=\"node25\" class=\"node\">\n<title>24</title>\n<polygon fill=\"#399de5\" stroke=\"#000000\" points=\"449,-417.5 354,-417.5 354,-349.5 449,-349.5 449,-417.5\"/>\n<text text-anchor=\"start\" x=\"372.5\" y=\"-402.3\" font-family=\"Times,serif\" font-size=\"14.00\" fill=\"#000000\">gini = 0.0</text>\n<text text-anchor=\"start\" x=\"367\" y=\"-387.3\" font-family=\"Times,serif\" font-size=\"14.00\" fill=\"#000000\">samples = 2</text>\n<text text-anchor=\"start\" x=\"362\" y=\"-372.3\" font-family=\"Times,serif\" font-size=\"14.00\" fill=\"#000000\">value = [0, 2]</text>\n<text text-anchor=\"start\" x=\"370.5\" y=\"-357.3\" font-family=\"Times,serif\" font-size=\"14.00\" fill=\"#000000\">class = Yes</text>\n</g>\n<!-- 23&#45;&gt;24 -->\n<g id=\"edge24\" class=\"edge\">\n<title>23&#45;&gt;24</title>\n<path fill=\"none\" stroke=\"#000000\" d=\"M401.5,-460.8796C401.5,-450.2134 401.5,-438.7021 401.5,-427.9015\"/>\n<polygon fill=\"#000000\" stroke=\"#000000\" points=\"405.0001,-427.8149 401.5,-417.8149 398.0001,-427.815 405.0001,-427.8149\"/>\n</g>\n<!-- 25 -->\n<g id=\"node26\" class=\"node\">\n<title>25</title>\n<polygon fill=\"#e58139\" stroke=\"#000000\" points=\"562,-417.5 467,-417.5 467,-349.5 562,-349.5 562,-417.5\"/>\n<text text-anchor=\"start\" x=\"485.5\" y=\"-402.3\" font-family=\"Times,serif\" font-size=\"14.00\" fill=\"#000000\">gini = 0.0</text>\n<text text-anchor=\"start\" x=\"480\" y=\"-387.3\" font-family=\"Times,serif\" font-size=\"14.00\" fill=\"#000000\">samples = 1</text>\n<text text-anchor=\"start\" x=\"475\" y=\"-372.3\" font-family=\"Times,serif\" font-size=\"14.00\" fill=\"#000000\">value = [1, 0]</text>\n<text text-anchor=\"start\" x=\"484\" y=\"-357.3\" font-family=\"Times,serif\" font-size=\"14.00\" fill=\"#000000\">class = No</text>\n</g>\n<!-- 23&#45;&gt;25 -->\n<g id=\"edge25\" class=\"edge\">\n<title>23&#45;&gt;25</title>\n<path fill=\"none\" stroke=\"#000000\" d=\"M441.0219,-460.8796C451.9857,-449.3337 463.8897,-436.7976 474.8601,-425.2446\"/>\n<polygon fill=\"#000000\" stroke=\"#000000\" points=\"477.5673,-427.4766 481.9152,-417.8149 472.4913,-422.6564 477.5673,-427.4766\"/>\n</g>\n<!-- 30 -->\n<g id=\"node31\" class=\"node\">\n<title>30</title>\n<polygon fill=\"#72b9ec\" stroke=\"#000000\" points=\"792,-1258 669,-1258 669,-1175 792,-1175 792,-1258\"/>\n<text text-anchor=\"start\" x=\"677\" y=\"-1242.8\" font-family=\"Times,serif\" font-size=\"14.00\" fill=\"#000000\">Salary ≤ 112500.0</text>\n<text text-anchor=\"start\" x=\"694\" y=\"-1227.8\" font-family=\"Times,serif\" font-size=\"14.00\" fill=\"#000000\">gini = 0.346</text>\n<text text-anchor=\"start\" x=\"692.5\" y=\"-1212.8\" font-family=\"Times,serif\" font-size=\"14.00\" fill=\"#000000\">samples = 18</text>\n<text text-anchor=\"start\" x=\"687.5\" y=\"-1197.8\" font-family=\"Times,serif\" font-size=\"14.00\" fill=\"#000000\">value = [4, 14]</text>\n<text text-anchor=\"start\" x=\"699.5\" y=\"-1182.8\" font-family=\"Times,serif\" font-size=\"14.00\" fill=\"#000000\">class = Yes</text>\n</g>\n<!-- 29&#45;&gt;30 -->\n<g id=\"edge30\" class=\"edge\">\n<title>29&#45;&gt;30</title>\n<path fill=\"none\" stroke=\"#000000\" d=\"M772.7662,-1293.8796C768.0435,-1285.2335 763.0176,-1276.0322 758.141,-1267.1042\"/>\n<polygon fill=\"#000000\" stroke=\"#000000\" points=\"761.1963,-1265.3964 753.3309,-1258.2981 755.053,-1268.752 761.1963,-1265.3964\"/>\n</g>\n<!-- 41 -->\n<g id=\"node42\" class=\"node\">\n<title>41</title>\n<polygon fill=\"#399de5\" stroke=\"#000000\" points=\"912.5,-1250.5 810.5,-1250.5 810.5,-1182.5 912.5,-1182.5 912.5,-1250.5\"/>\n<text text-anchor=\"start\" x=\"832.5\" y=\"-1235.3\" font-family=\"Times,serif\" font-size=\"14.00\" fill=\"#000000\">gini = 0.0</text>\n<text text-anchor=\"start\" x=\"823.5\" y=\"-1220.3\" font-family=\"Times,serif\" font-size=\"14.00\" fill=\"#000000\">samples = 18</text>\n<text text-anchor=\"start\" x=\"818.5\" y=\"-1205.3\" font-family=\"Times,serif\" font-size=\"14.00\" fill=\"#000000\">value = [0, 18]</text>\n<text text-anchor=\"start\" x=\"830.5\" y=\"-1190.3\" font-family=\"Times,serif\" font-size=\"14.00\" fill=\"#000000\">class = Yes</text>\n</g>\n<!-- 29&#45;&gt;41 -->\n<g id=\"edge41\" class=\"edge\">\n<title>29&#45;&gt;41</title>\n<path fill=\"none\" stroke=\"#000000\" d=\"M818.5836,-1293.8796C824.7433,-1282.7735 831.4111,-1270.7513 837.6129,-1259.5691\"/>\n<polygon fill=\"#000000\" stroke=\"#000000\" points=\"840.6787,-1261.2576 842.4682,-1250.8149 834.5572,-1257.8624 840.6787,-1261.2576\"/>\n</g>\n<!-- 31 -->\n<g id=\"node32\" class=\"node\">\n<title>31</title>\n<polygon fill=\"#48a5e7\" stroke=\"#000000\" points=\"718.5,-1139 594.5,-1139 594.5,-1056 718.5,-1056 718.5,-1139\"/>\n<text text-anchor=\"start\" x=\"602.5\" y=\"-1123.8\" font-family=\"Times,serif\" font-size=\"14.00\" fill=\"#000000\">Salary ≤ 107500.0</text>\n<text text-anchor=\"start\" x=\"620\" y=\"-1108.8\" font-family=\"Times,serif\" font-size=\"14.00\" fill=\"#000000\">gini = 0.133</text>\n<text text-anchor=\"start\" x=\"618.5\" y=\"-1093.8\" font-family=\"Times,serif\" font-size=\"14.00\" fill=\"#000000\">samples = 14</text>\n<text text-anchor=\"start\" x=\"613.5\" y=\"-1078.8\" font-family=\"Times,serif\" font-size=\"14.00\" fill=\"#000000\">value = [1, 13]</text>\n<text text-anchor=\"start\" x=\"625.5\" y=\"-1063.8\" font-family=\"Times,serif\" font-size=\"14.00\" fill=\"#000000\">class = Yes</text>\n</g>\n<!-- 30&#45;&gt;31 -->\n<g id=\"edge31\" class=\"edge\">\n<title>30&#45;&gt;31</title>\n<path fill=\"none\" stroke=\"#000000\" d=\"M704.6184,-1174.8796C699.1858,-1166.1434 693.4008,-1156.8404 687.7947,-1147.8253\"/>\n<polygon fill=\"#000000\" stroke=\"#000000\" points=\"690.7451,-1145.9418 682.4921,-1139.2981 684.8007,-1149.6383 690.7451,-1145.9418\"/>\n</g>\n<!-- 38 -->\n<g id=\"node39\" class=\"node\">\n<title>38</title>\n<polygon fill=\"#eeab7b\" stroke=\"#000000\" points=\"860,-1139 737,-1139 737,-1056 860,-1056 860,-1139\"/>\n<text text-anchor=\"start\" x=\"745\" y=\"-1123.8\" font-family=\"Times,serif\" font-size=\"14.00\" fill=\"#000000\">Salary ≤ 116500.0</text>\n<text text-anchor=\"start\" x=\"762\" y=\"-1108.8\" font-family=\"Times,serif\" font-size=\"14.00\" fill=\"#000000\">gini = 0.375</text>\n<text text-anchor=\"start\" x=\"764\" y=\"-1093.8\" font-family=\"Times,serif\" font-size=\"14.00\" fill=\"#000000\">samples = 4</text>\n<text text-anchor=\"start\" x=\"759\" y=\"-1078.8\" font-family=\"Times,serif\" font-size=\"14.00\" fill=\"#000000\">value = [3, 1]</text>\n<text text-anchor=\"start\" x=\"768\" y=\"-1063.8\" font-family=\"Times,serif\" font-size=\"14.00\" fill=\"#000000\">class = No</text>\n</g>\n<!-- 30&#45;&gt;38 -->\n<g id=\"edge38\" class=\"edge\">\n<title>30&#45;&gt;38</title>\n<path fill=\"none\" stroke=\"#000000\" d=\"M754.2831,-1174.8796C759.2237,-1166.2335 764.4816,-1157.0322 769.5833,-1148.1042\"/>\n<polygon fill=\"#000000\" stroke=\"#000000\" points=\"772.6928,-1149.717 774.6154,-1139.2981 766.6151,-1146.244 772.6928,-1149.717\"/>\n</g>\n<!-- 32 -->\n<g id=\"node33\" class=\"node\">\n<title>32</title>\n<polygon fill=\"#399de5\" stroke=\"#000000\" points=\"577.5,-1012.5 475.5,-1012.5 475.5,-944.5 577.5,-944.5 577.5,-1012.5\"/>\n<text text-anchor=\"start\" x=\"497.5\" y=\"-997.3\" font-family=\"Times,serif\" font-size=\"14.00\" fill=\"#000000\">gini = 0.0</text>\n<text text-anchor=\"start\" x=\"488.5\" y=\"-982.3\" font-family=\"Times,serif\" font-size=\"14.00\" fill=\"#000000\">samples = 10</text>\n<text text-anchor=\"start\" x=\"483.5\" y=\"-967.3\" font-family=\"Times,serif\" font-size=\"14.00\" fill=\"#000000\">value = [0, 10]</text>\n<text text-anchor=\"start\" x=\"495.5\" y=\"-952.3\" font-family=\"Times,serif\" font-size=\"14.00\" fill=\"#000000\">class = Yes</text>\n</g>\n<!-- 31&#45;&gt;32 -->\n<g id=\"edge32\" class=\"edge\">\n<title>31&#45;&gt;32</title>\n<path fill=\"none\" stroke=\"#000000\" d=\"M611.0323,-1055.8796C598.1789,-1044.1138 584.2021,-1031.3197 571.3834,-1019.5855\"/>\n<polygon fill=\"#000000\" stroke=\"#000000\" points=\"573.7264,-1016.9854 563.9869,-1012.8149 568.9999,-1022.1488 573.7264,-1016.9854\"/>\n</g>\n<!-- 33 -->\n<g id=\"node34\" class=\"node\">\n<title>33</title>\n<polygon fill=\"#7bbeee\" stroke=\"#000000\" points=\"719,-1020 596,-1020 596,-937 719,-937 719,-1020\"/>\n<text text-anchor=\"start\" x=\"604\" y=\"-1004.8\" font-family=\"Times,serif\" font-size=\"14.00\" fill=\"#000000\">Salary ≤ 110000.0</text>\n<text text-anchor=\"start\" x=\"621\" y=\"-989.8\" font-family=\"Times,serif\" font-size=\"14.00\" fill=\"#000000\">gini = 0.375</text>\n<text text-anchor=\"start\" x=\"623\" y=\"-974.8\" font-family=\"Times,serif\" font-size=\"14.00\" fill=\"#000000\">samples = 4</text>\n<text text-anchor=\"start\" x=\"618\" y=\"-959.8\" font-family=\"Times,serif\" font-size=\"14.00\" fill=\"#000000\">value = [1, 3]</text>\n<text text-anchor=\"start\" x=\"626.5\" y=\"-944.8\" font-family=\"Times,serif\" font-size=\"14.00\" fill=\"#000000\">class = Yes</text>\n</g>\n<!-- 31&#45;&gt;33 -->\n<g id=\"edge33\" class=\"edge\">\n<title>31&#45;&gt;33</title>\n<path fill=\"none\" stroke=\"#000000\" d=\"M656.8498,-1055.8796C656.9186,-1047.6838 656.9917,-1038.9891 657.063,-1030.5013\"/>\n<polygon fill=\"#000000\" stroke=\"#000000\" points=\"660.5645,-1030.3272 657.1488,-1020.2981 653.5648,-1030.2683 660.5645,-1030.3272\"/>\n</g>\n<!-- 34 -->\n<g id=\"node35\" class=\"node\">\n<title>34</title>\n<polygon fill=\"#ffffff\" stroke=\"#000000\" points=\"703,-901 608,-901 608,-818 703,-818 703,-901\"/>\n<text text-anchor=\"start\" x=\"622.5\" y=\"-885.8\" font-family=\"Times,serif\" font-size=\"14.00\" fill=\"#000000\">Age ≤ 38.5</text>\n<text text-anchor=\"start\" x=\"626.5\" y=\"-870.8\" font-family=\"Times,serif\" font-size=\"14.00\" fill=\"#000000\">gini = 0.5</text>\n<text text-anchor=\"start\" x=\"621\" y=\"-855.8\" font-family=\"Times,serif\" font-size=\"14.00\" fill=\"#000000\">samples = 2</text>\n<text text-anchor=\"start\" x=\"616\" y=\"-840.8\" font-family=\"Times,serif\" font-size=\"14.00\" fill=\"#000000\">value = [1, 1]</text>\n<text text-anchor=\"start\" x=\"625\" y=\"-825.8\" font-family=\"Times,serif\" font-size=\"14.00\" fill=\"#000000\">class = No</text>\n</g>\n<!-- 33&#45;&gt;34 -->\n<g id=\"edge34\" class=\"edge\">\n<title>33&#45;&gt;34</title>\n<path fill=\"none\" stroke=\"#000000\" d=\"M656.8005,-936.8796C656.6628,-928.6838 656.5166,-919.9891 656.374,-911.5013\"/>\n<polygon fill=\"#000000\" stroke=\"#000000\" points=\"659.8701,-911.2378 656.2025,-901.2981 652.8711,-911.3555 659.8701,-911.2378\"/>\n</g>\n<!-- 37 -->\n<g id=\"node38\" class=\"node\">\n<title>37</title>\n<polygon fill=\"#399de5\" stroke=\"#000000\" points=\"816,-893.5 721,-893.5 721,-825.5 816,-825.5 816,-893.5\"/>\n<text text-anchor=\"start\" x=\"739.5\" y=\"-878.3\" font-family=\"Times,serif\" font-size=\"14.00\" fill=\"#000000\">gini = 0.0</text>\n<text text-anchor=\"start\" x=\"734\" y=\"-863.3\" font-family=\"Times,serif\" font-size=\"14.00\" fill=\"#000000\">samples = 2</text>\n<text text-anchor=\"start\" x=\"729\" y=\"-848.3\" font-family=\"Times,serif\" font-size=\"14.00\" fill=\"#000000\">value = [0, 2]</text>\n<text text-anchor=\"start\" x=\"737.5\" y=\"-833.3\" font-family=\"Times,serif\" font-size=\"14.00\" fill=\"#000000\">class = Yes</text>\n</g>\n<!-- 33&#45;&gt;37 -->\n<g id=\"edge37\" class=\"edge\">\n<title>33&#45;&gt;37</title>\n<path fill=\"none\" stroke=\"#000000\" d=\"M696.3224,-936.8796C707.0921,-925.3337 718.7854,-912.7976 729.5617,-901.2446\"/>\n<polygon fill=\"#000000\" stroke=\"#000000\" points=\"732.2303,-903.5149 736.492,-893.8149 727.1115,-898.7402 732.2303,-903.5149\"/>\n</g>\n<!-- 35 -->\n<g id=\"node36\" class=\"node\">\n<title>35</title>\n<polygon fill=\"#e58139\" stroke=\"#000000\" points=\"700,-774.5 605,-774.5 605,-706.5 700,-706.5 700,-774.5\"/>\n<text text-anchor=\"start\" x=\"623.5\" y=\"-759.3\" font-family=\"Times,serif\" font-size=\"14.00\" fill=\"#000000\">gini = 0.0</text>\n<text text-anchor=\"start\" x=\"618\" y=\"-744.3\" font-family=\"Times,serif\" font-size=\"14.00\" fill=\"#000000\">samples = 1</text>\n<text text-anchor=\"start\" x=\"613\" y=\"-729.3\" font-family=\"Times,serif\" font-size=\"14.00\" fill=\"#000000\">value = [1, 0]</text>\n<text text-anchor=\"start\" x=\"622\" y=\"-714.3\" font-family=\"Times,serif\" font-size=\"14.00\" fill=\"#000000\">class = No</text>\n</g>\n<!-- 34&#45;&gt;35 -->\n<g id=\"edge35\" class=\"edge\">\n<title>34&#45;&gt;35</title>\n<path fill=\"none\" stroke=\"#000000\" d=\"M654.4507,-817.8796C654.1818,-807.2134 653.8916,-795.7021 653.6194,-784.9015\"/>\n<polygon fill=\"#000000\" stroke=\"#000000\" points=\"657.1161,-784.7235 653.3651,-774.8149 650.1183,-784.9 657.1161,-784.7235\"/>\n</g>\n<!-- 36 -->\n<g id=\"node37\" class=\"node\">\n<title>36</title>\n<polygon fill=\"#399de5\" stroke=\"#000000\" points=\"813,-774.5 718,-774.5 718,-706.5 813,-706.5 813,-774.5\"/>\n<text text-anchor=\"start\" x=\"736.5\" y=\"-759.3\" font-family=\"Times,serif\" font-size=\"14.00\" fill=\"#000000\">gini = 0.0</text>\n<text text-anchor=\"start\" x=\"731\" y=\"-744.3\" font-family=\"Times,serif\" font-size=\"14.00\" fill=\"#000000\">samples = 1</text>\n<text text-anchor=\"start\" x=\"726\" y=\"-729.3\" font-family=\"Times,serif\" font-size=\"14.00\" fill=\"#000000\">value = [0, 1]</text>\n<text text-anchor=\"start\" x=\"734.5\" y=\"-714.3\" font-family=\"Times,serif\" font-size=\"14.00\" fill=\"#000000\">class = Yes</text>\n</g>\n<!-- 34&#45;&gt;36 -->\n<g id=\"edge36\" class=\"edge\">\n<title>34&#45;&gt;36</title>\n<path fill=\"none\" stroke=\"#000000\" d=\"M693.9727,-817.8796C704.6453,-806.3337 716.2333,-793.7976 726.9125,-782.2446\"/>\n<polygon fill=\"#000000\" stroke=\"#000000\" points=\"729.5625,-784.534 733.7803,-774.8149 724.4222,-779.7825 729.5625,-784.534\"/>\n</g>\n<!-- 39 -->\n<g id=\"node40\" class=\"node\">\n<title>39</title>\n<polygon fill=\"#e58139\" stroke=\"#000000\" points=\"832,-1012.5 737,-1012.5 737,-944.5 832,-944.5 832,-1012.5\"/>\n<text text-anchor=\"start\" x=\"755.5\" y=\"-997.3\" font-family=\"Times,serif\" font-size=\"14.00\" fill=\"#000000\">gini = 0.0</text>\n<text text-anchor=\"start\" x=\"750\" y=\"-982.3\" font-family=\"Times,serif\" font-size=\"14.00\" fill=\"#000000\">samples = 2</text>\n<text text-anchor=\"start\" x=\"745\" y=\"-967.3\" font-family=\"Times,serif\" font-size=\"14.00\" fill=\"#000000\">value = [2, 0]</text>\n<text text-anchor=\"start\" x=\"754\" y=\"-952.3\" font-family=\"Times,serif\" font-size=\"14.00\" fill=\"#000000\">class = No</text>\n</g>\n<!-- 38&#45;&gt;39 -->\n<g id=\"edge39\" class=\"edge\">\n<title>38&#45;&gt;39</title>\n<path fill=\"none\" stroke=\"#000000\" d=\"M793.6035,-1055.8796C792.3486,-1045.2134 790.9944,-1033.7021 789.7237,-1022.9015\"/>\n<polygon fill=\"#000000\" stroke=\"#000000\" points=\"793.1816,-1022.3375 788.5371,-1012.8149 786.2295,-1023.1554 793.1816,-1022.3375\"/>\n</g>\n<!-- 40 -->\n<g id=\"node41\" class=\"node\">\n<title>40</title>\n<polygon fill=\"#ffffff\" stroke=\"#000000\" points=\"945,-1012.5 850,-1012.5 850,-944.5 945,-944.5 945,-1012.5\"/>\n<text text-anchor=\"start\" x=\"868.5\" y=\"-997.3\" font-family=\"Times,serif\" font-size=\"14.00\" fill=\"#000000\">gini = 0.5</text>\n<text text-anchor=\"start\" x=\"863\" y=\"-982.3\" font-family=\"Times,serif\" font-size=\"14.00\" fill=\"#000000\">samples = 2</text>\n<text text-anchor=\"start\" x=\"858\" y=\"-967.3\" font-family=\"Times,serif\" font-size=\"14.00\" fill=\"#000000\">value = [1, 1]</text>\n<text text-anchor=\"start\" x=\"867\" y=\"-952.3\" font-family=\"Times,serif\" font-size=\"14.00\" fill=\"#000000\">class = No</text>\n</g>\n<!-- 38&#45;&gt;40 -->\n<g id=\"edge40\" class=\"edge\">\n<title>38&#45;&gt;40</title>\n<path fill=\"none\" stroke=\"#000000\" d=\"M833.1254,-1055.8796C842.6393,-1044.4436 852.9614,-1032.0363 862.4965,-1020.575\"/>\n<polygon fill=\"#000000\" stroke=\"#000000\" points=\"865.2474,-1022.7409 868.9523,-1012.8149 859.8661,-1018.264 865.2474,-1022.7409\"/>\n</g>\n<!-- 43 -->\n<g id=\"node44\" class=\"node\">\n<title>43</title>\n<polygon fill=\"#93caf1\" stroke=\"#000000\" points=\"1265.5,-1377 1149.5,-1377 1149.5,-1294 1265.5,-1294 1265.5,-1377\"/>\n<text text-anchor=\"start\" x=\"1157.5\" y=\"-1361.8\" font-family=\"Times,serif\" font-size=\"14.00\" fill=\"#000000\">Salary ≤ 52000.0</text>\n<text text-anchor=\"start\" x=\"1175\" y=\"-1346.8\" font-family=\"Times,serif\" font-size=\"14.00\" fill=\"#000000\">gini = 0.43</text>\n<text text-anchor=\"start\" x=\"1169.5\" y=\"-1331.8\" font-family=\"Times,serif\" font-size=\"14.00\" fill=\"#000000\">samples = 16</text>\n<text text-anchor=\"start\" x=\"1165\" y=\"-1316.8\" font-family=\"Times,serif\" font-size=\"14.00\" fill=\"#000000\">value = [5, 11]</text>\n<text text-anchor=\"start\" x=\"1176.5\" y=\"-1301.8\" font-family=\"Times,serif\" font-size=\"14.00\" fill=\"#000000\">class = Yes</text>\n</g>\n<!-- 42&#45;&gt;43 -->\n<g id=\"edge43\" class=\"edge\">\n<title>42&#45;&gt;43</title>\n<path fill=\"none\" stroke=\"#000000\" d=\"M1207.5,-1412.8796C1207.5,-1404.6838 1207.5,-1395.9891 1207.5,-1387.5013\"/>\n<polygon fill=\"#000000\" stroke=\"#000000\" points=\"1211.0001,-1387.298 1207.5,-1377.2981 1204.0001,-1387.2981 1211.0001,-1387.298\"/>\n</g>\n<!-- 58 -->\n<g id=\"node59\" class=\"node\">\n<title>58</title>\n<polygon fill=\"#4ca7e8\" stroke=\"#000000\" points=\"1464.5,-1377 1348.5,-1377 1348.5,-1294 1464.5,-1294 1464.5,-1377\"/>\n<text text-anchor=\"start\" x=\"1356.5\" y=\"-1361.8\" font-family=\"Times,serif\" font-size=\"14.00\" fill=\"#000000\">Salary ≤ 41500.0</text>\n<text text-anchor=\"start\" x=\"1370\" y=\"-1346.8\" font-family=\"Times,serif\" font-size=\"14.00\" fill=\"#000000\">gini = 0.163</text>\n<text text-anchor=\"start\" x=\"1368.5\" y=\"-1331.8\" font-family=\"Times,serif\" font-size=\"14.00\" fill=\"#000000\">samples = 67</text>\n<text text-anchor=\"start\" x=\"1363.5\" y=\"-1316.8\" font-family=\"Times,serif\" font-size=\"14.00\" fill=\"#000000\">value = [6, 61]</text>\n<text text-anchor=\"start\" x=\"1375.5\" y=\"-1301.8\" font-family=\"Times,serif\" font-size=\"14.00\" fill=\"#000000\">class = Yes</text>\n</g>\n<!-- 42&#45;&gt;58 -->\n<g id=\"edge58\" class=\"edge\">\n<title>42&#45;&gt;58</title>\n<path fill=\"none\" stroke=\"#000000\" d=\"M1262.1408,-1421.8253C1286.0199,-1407.5459 1314.2585,-1390.6595 1339.3994,-1375.6255\"/>\n<polygon fill=\"#000000\" stroke=\"#000000\" points=\"1341.3644,-1378.5286 1348.1506,-1370.3923 1337.7718,-1372.5208 1341.3644,-1378.5286\"/>\n</g>\n<!-- 44 -->\n<g id=\"node45\" class=\"node\">\n<title>44</title>\n<polygon fill=\"#55abe9\" stroke=\"#000000\" points=\"1200.5,-1258 1084.5,-1258 1084.5,-1175 1200.5,-1175 1200.5,-1258\"/>\n<text text-anchor=\"start\" x=\"1092.5\" y=\"-1242.8\" font-family=\"Times,serif\" font-size=\"14.00\" fill=\"#000000\">Salary ≤ 22500.0</text>\n<text text-anchor=\"start\" x=\"1106\" y=\"-1227.8\" font-family=\"Times,serif\" font-size=\"14.00\" fill=\"#000000\">gini = 0.219</text>\n<text text-anchor=\"start\" x=\"1108\" y=\"-1212.8\" font-family=\"Times,serif\" font-size=\"14.00\" fill=\"#000000\">samples = 8</text>\n<text text-anchor=\"start\" x=\"1103\" y=\"-1197.8\" font-family=\"Times,serif\" font-size=\"14.00\" fill=\"#000000\">value = [1, 7]</text>\n<text text-anchor=\"start\" x=\"1111.5\" y=\"-1182.8\" font-family=\"Times,serif\" font-size=\"14.00\" fill=\"#000000\">class = Yes</text>\n</g>\n<!-- 43&#45;&gt;44 -->\n<g id=\"edge44\" class=\"edge\">\n<title>43&#45;&gt;44</title>\n<path fill=\"none\" stroke=\"#000000\" d=\"M1184.7662,-1293.8796C1180.0435,-1285.2335 1175.0176,-1276.0322 1170.141,-1267.1042\"/>\n<polygon fill=\"#000000\" stroke=\"#000000\" points=\"1173.1963,-1265.3964 1165.3309,-1258.2981 1167.053,-1268.752 1173.1963,-1265.3964\"/>\n</g>\n<!-- 49 -->\n<g id=\"node50\" class=\"node\">\n<title>49</title>\n<polygon fill=\"#ffffff\" stroke=\"#000000\" points=\"1334.5,-1258 1218.5,-1258 1218.5,-1175 1334.5,-1175 1334.5,-1258\"/>\n<text text-anchor=\"start\" x=\"1226.5\" y=\"-1242.8\" font-family=\"Times,serif\" font-size=\"14.00\" fill=\"#000000\">Salary ≤ 85000.0</text>\n<text text-anchor=\"start\" x=\"1247.5\" y=\"-1227.8\" font-family=\"Times,serif\" font-size=\"14.00\" fill=\"#000000\">gini = 0.5</text>\n<text text-anchor=\"start\" x=\"1242\" y=\"-1212.8\" font-family=\"Times,serif\" font-size=\"14.00\" fill=\"#000000\">samples = 8</text>\n<text text-anchor=\"start\" x=\"1237\" y=\"-1197.8\" font-family=\"Times,serif\" font-size=\"14.00\" fill=\"#000000\">value = [4, 4]</text>\n<text text-anchor=\"start\" x=\"1246\" y=\"-1182.8\" font-family=\"Times,serif\" font-size=\"14.00\" fill=\"#000000\">class = No</text>\n</g>\n<!-- 43&#45;&gt;49 -->\n<g id=\"edge49\" class=\"edge\">\n<title>43&#45;&gt;49</title>\n<path fill=\"none\" stroke=\"#000000\" d=\"M1231.6329,-1293.8796C1236.6461,-1285.2335 1241.9813,-1276.0322 1247.1581,-1267.1042\"/>\n<polygon fill=\"#000000\" stroke=\"#000000\" points=\"1250.2758,-1268.7047 1252.2641,-1258.2981 1244.2202,-1265.1934 1250.2758,-1268.7047\"/>\n</g>\n<!-- 45 -->\n<g id=\"node46\" class=\"node\">\n<title>45</title>\n<polygon fill=\"#9ccef2\" stroke=\"#000000\" points=\"1080,-1139 985,-1139 985,-1056 1080,-1056 1080,-1139\"/>\n<text text-anchor=\"start\" x=\"999.5\" y=\"-1123.8\" font-family=\"Times,serif\" font-size=\"14.00\" fill=\"#000000\">Age ≤ 45.5</text>\n<text text-anchor=\"start\" x=\"996\" y=\"-1108.8\" font-family=\"Times,serif\" font-size=\"14.00\" fill=\"#000000\">gini = 0.444</text>\n<text text-anchor=\"start\" x=\"998\" y=\"-1093.8\" font-family=\"Times,serif\" font-size=\"14.00\" fill=\"#000000\">samples = 3</text>\n<text text-anchor=\"start\" x=\"993\" y=\"-1078.8\" font-family=\"Times,serif\" font-size=\"14.00\" fill=\"#000000\">value = [1, 2]</text>\n<text text-anchor=\"start\" x=\"1001.5\" y=\"-1063.8\" font-family=\"Times,serif\" font-size=\"14.00\" fill=\"#000000\">class = Yes</text>\n</g>\n<!-- 44&#45;&gt;45 -->\n<g id=\"edge45\" class=\"edge\">\n<title>44&#45;&gt;45</title>\n<path fill=\"none\" stroke=\"#000000\" d=\"M1104.0273,-1174.8796C1095.6189,-1165.7832 1086.6424,-1156.0722 1077.9897,-1146.7116\"/>\n<polygon fill=\"#000000\" stroke=\"#000000\" points=\"1080.495,-1144.2656 1071.1369,-1139.2981 1075.3547,-1149.0172 1080.495,-1144.2656\"/>\n</g>\n<!-- 48 -->\n<g id=\"node49\" class=\"node\">\n<title>48</title>\n<polygon fill=\"#399de5\" stroke=\"#000000\" points=\"1193,-1131.5 1098,-1131.5 1098,-1063.5 1193,-1063.5 1193,-1131.5\"/>\n<text text-anchor=\"start\" x=\"1116.5\" y=\"-1116.3\" font-family=\"Times,serif\" font-size=\"14.00\" fill=\"#000000\">gini = 0.0</text>\n<text text-anchor=\"start\" x=\"1111\" y=\"-1101.3\" font-family=\"Times,serif\" font-size=\"14.00\" fill=\"#000000\">samples = 5</text>\n<text text-anchor=\"start\" x=\"1106\" y=\"-1086.3\" font-family=\"Times,serif\" font-size=\"14.00\" fill=\"#000000\">value = [0, 5]</text>\n<text text-anchor=\"start\" x=\"1114.5\" y=\"-1071.3\" font-family=\"Times,serif\" font-size=\"14.00\" fill=\"#000000\">class = Yes</text>\n</g>\n<!-- 44&#45;&gt;48 -->\n<g id=\"edge48\" class=\"edge\">\n<title>44&#45;&gt;48</title>\n<path fill=\"none\" stroke=\"#000000\" d=\"M1143.5493,-1174.8796C1143.8182,-1164.2134 1144.1084,-1152.7021 1144.3806,-1141.9015\"/>\n<polygon fill=\"#000000\" stroke=\"#000000\" points=\"1147.8817,-1141.9 1144.6349,-1131.8149 1140.8839,-1141.7235 1147.8817,-1141.9\"/>\n</g>\n<!-- 46 -->\n<g id=\"node47\" class=\"node\">\n<title>46</title>\n<polygon fill=\"#399de5\" stroke=\"#000000\" points=\"1058,-1012.5 963,-1012.5 963,-944.5 1058,-944.5 1058,-1012.5\"/>\n<text text-anchor=\"start\" x=\"981.5\" y=\"-997.3\" font-family=\"Times,serif\" font-size=\"14.00\" fill=\"#000000\">gini = 0.0</text>\n<text text-anchor=\"start\" x=\"976\" y=\"-982.3\" font-family=\"Times,serif\" font-size=\"14.00\" fill=\"#000000\">samples = 2</text>\n<text text-anchor=\"start\" x=\"971\" y=\"-967.3\" font-family=\"Times,serif\" font-size=\"14.00\" fill=\"#000000\">value = [0, 2]</text>\n<text text-anchor=\"start\" x=\"979.5\" y=\"-952.3\" font-family=\"Times,serif\" font-size=\"14.00\" fill=\"#000000\">class = Yes</text>\n</g>\n<!-- 45&#45;&gt;46 -->\n<g id=\"edge46\" class=\"edge\">\n<title>45&#45;&gt;46</title>\n<path fill=\"none\" stroke=\"#000000\" d=\"M1024.8055,-1055.8796C1022.8336,-1045.2134 1020.7054,-1033.7021 1018.7087,-1022.9015\"/>\n<polygon fill=\"#000000\" stroke=\"#000000\" points=\"1022.1036,-1022.012 1016.8439,-1012.8149 1015.2203,-1023.2846 1022.1036,-1022.012\"/>\n</g>\n<!-- 47 -->\n<g id=\"node48\" class=\"node\">\n<title>47</title>\n<polygon fill=\"#e58139\" stroke=\"#000000\" points=\"1171,-1012.5 1076,-1012.5 1076,-944.5 1171,-944.5 1171,-1012.5\"/>\n<text text-anchor=\"start\" x=\"1094.5\" y=\"-997.3\" font-family=\"Times,serif\" font-size=\"14.00\" fill=\"#000000\">gini = 0.0</text>\n<text text-anchor=\"start\" x=\"1089\" y=\"-982.3\" font-family=\"Times,serif\" font-size=\"14.00\" fill=\"#000000\">samples = 1</text>\n<text text-anchor=\"start\" x=\"1084\" y=\"-967.3\" font-family=\"Times,serif\" font-size=\"14.00\" fill=\"#000000\">value = [1, 0]</text>\n<text text-anchor=\"start\" x=\"1093\" y=\"-952.3\" font-family=\"Times,serif\" font-size=\"14.00\" fill=\"#000000\">class = No</text>\n</g>\n<!-- 45&#45;&gt;47 -->\n<g id=\"edge47\" class=\"edge\">\n<title>45&#45;&gt;47</title>\n<path fill=\"none\" stroke=\"#000000\" d=\"M1064.3274,-1055.8796C1072.9884,-1044.5536 1082.3781,-1032.2748 1091.072,-1020.9058\"/>\n<polygon fill=\"#000000\" stroke=\"#000000\" points=\"1093.9649,-1022.8846 1097.2592,-1012.8149 1088.4044,-1018.6324 1093.9649,-1022.8846\"/>\n</g>\n<!-- 50 -->\n<g id=\"node51\" class=\"node\">\n<title>50</title>\n<polygon fill=\"#eca06a\" stroke=\"#000000\" points=\"1332.5,-1139 1216.5,-1139 1216.5,-1056 1332.5,-1056 1332.5,-1139\"/>\n<text text-anchor=\"start\" x=\"1224.5\" y=\"-1123.8\" font-family=\"Times,serif\" font-size=\"14.00\" fill=\"#000000\">Salary ≤ 76500.0</text>\n<text text-anchor=\"start\" x=\"1242\" y=\"-1108.8\" font-family=\"Times,serif\" font-size=\"14.00\" fill=\"#000000\">gini = 0.32</text>\n<text text-anchor=\"start\" x=\"1240\" y=\"-1093.8\" font-family=\"Times,serif\" font-size=\"14.00\" fill=\"#000000\">samples = 5</text>\n<text text-anchor=\"start\" x=\"1235\" y=\"-1078.8\" font-family=\"Times,serif\" font-size=\"14.00\" fill=\"#000000\">value = [4, 1]</text>\n<text text-anchor=\"start\" x=\"1244\" y=\"-1063.8\" font-family=\"Times,serif\" font-size=\"14.00\" fill=\"#000000\">class = No</text>\n</g>\n<!-- 49&#45;&gt;50 -->\n<g id=\"edge50\" class=\"edge\">\n<title>49&#45;&gt;50</title>\n<path fill=\"none\" stroke=\"#000000\" d=\"M1275.8005,-1174.8796C1275.6628,-1166.6838 1275.5166,-1157.9891 1275.374,-1149.5013\"/>\n<polygon fill=\"#000000\" stroke=\"#000000\" points=\"1278.8701,-1149.2378 1275.2025,-1139.2981 1271.8711,-1149.3555 1278.8701,-1149.2378\"/>\n</g>\n<!-- 57 -->\n<g id=\"node58\" class=\"node\">\n<title>57</title>\n<polygon fill=\"#399de5\" stroke=\"#000000\" points=\"1446,-1131.5 1351,-1131.5 1351,-1063.5 1446,-1063.5 1446,-1131.5\"/>\n<text text-anchor=\"start\" x=\"1369.5\" y=\"-1116.3\" font-family=\"Times,serif\" font-size=\"14.00\" fill=\"#000000\">gini = 0.0</text>\n<text text-anchor=\"start\" x=\"1364\" y=\"-1101.3\" font-family=\"Times,serif\" font-size=\"14.00\" fill=\"#000000\">samples = 3</text>\n<text text-anchor=\"start\" x=\"1359\" y=\"-1086.3\" font-family=\"Times,serif\" font-size=\"14.00\" fill=\"#000000\">value = [0, 3]</text>\n<text text-anchor=\"start\" x=\"1367.5\" y=\"-1071.3\" font-family=\"Times,serif\" font-size=\"14.00\" fill=\"#000000\">class = Yes</text>\n</g>\n<!-- 49&#45;&gt;57 -->\n<g id=\"edge57\" class=\"edge\">\n<title>49&#45;&gt;57</title>\n<path fill=\"none\" stroke=\"#000000\" d=\"M1319.1697,-1174.8796C1331.1194,-1163.2237 1344.1037,-1150.5587 1356.0411,-1138.9148\"/>\n<polygon fill=\"#000000\" stroke=\"#000000\" points=\"1358.6053,-1141.303 1363.32,-1131.8149 1353.7175,-1136.292 1358.6053,-1141.303\"/>\n</g>\n<!-- 51 -->\n<g id=\"node52\" class=\"node\">\n<title>51</title>\n<polygon fill=\"#e58139\" stroke=\"#000000\" points=\"1284,-1012.5 1189,-1012.5 1189,-944.5 1284,-944.5 1284,-1012.5\"/>\n<text text-anchor=\"start\" x=\"1207.5\" y=\"-997.3\" font-family=\"Times,serif\" font-size=\"14.00\" fill=\"#000000\">gini = 0.0</text>\n<text text-anchor=\"start\" x=\"1202\" y=\"-982.3\" font-family=\"Times,serif\" font-size=\"14.00\" fill=\"#000000\">samples = 2</text>\n<text text-anchor=\"start\" x=\"1197\" y=\"-967.3\" font-family=\"Times,serif\" font-size=\"14.00\" fill=\"#000000\">value = [2, 0]</text>\n<text text-anchor=\"start\" x=\"1206\" y=\"-952.3\" font-family=\"Times,serif\" font-size=\"14.00\" fill=\"#000000\">class = No</text>\n</g>\n<!-- 50&#45;&gt;51 -->\n<g id=\"edge51\" class=\"edge\">\n<title>50&#45;&gt;51</title>\n<path fill=\"none\" stroke=\"#000000\" d=\"M1261.2094,-1055.8796C1257.7683,-1045.1034 1254.0517,-1033.4647 1250.5721,-1022.5677\"/>\n<polygon fill=\"#000000\" stroke=\"#000000\" points=\"1253.8339,-1021.2763 1247.4577,-1012.8149 1247.1656,-1023.4057 1253.8339,-1021.2763\"/>\n</g>\n<!-- 52 -->\n<g id=\"node53\" class=\"node\">\n<title>52</title>\n<polygon fill=\"#f2c09c\" stroke=\"#000000\" points=\"1418.5,-1020 1302.5,-1020 1302.5,-937 1418.5,-937 1418.5,-1020\"/>\n<text text-anchor=\"start\" x=\"1310.5\" y=\"-1004.8\" font-family=\"Times,serif\" font-size=\"14.00\" fill=\"#000000\">Salary ≤ 80500.0</text>\n<text text-anchor=\"start\" x=\"1324\" y=\"-989.8\" font-family=\"Times,serif\" font-size=\"14.00\" fill=\"#000000\">gini = 0.444</text>\n<text text-anchor=\"start\" x=\"1326\" y=\"-974.8\" font-family=\"Times,serif\" font-size=\"14.00\" fill=\"#000000\">samples = 3</text>\n<text text-anchor=\"start\" x=\"1321\" y=\"-959.8\" font-family=\"Times,serif\" font-size=\"14.00\" fill=\"#000000\">value = [2, 1]</text>\n<text text-anchor=\"start\" x=\"1330\" y=\"-944.8\" font-family=\"Times,serif\" font-size=\"14.00\" fill=\"#000000\">class = No</text>\n</g>\n<!-- 50&#45;&gt;52 -->\n<g id=\"edge52\" class=\"edge\">\n<title>50&#45;&gt;52</title>\n<path fill=\"none\" stroke=\"#000000\" d=\"M1304.5786,-1055.8796C1310.9572,-1047.0534 1317.754,-1037.6485 1324.3319,-1028.5466\"/>\n<polygon fill=\"#000000\" stroke=\"#000000\" points=\"1327.2723,-1030.4532 1330.293,-1020.2981 1321.5988,-1026.353 1327.2723,-1030.4532\"/>\n</g>\n<!-- 53 -->\n<g id=\"node54\" class=\"node\">\n<title>53</title>\n<polygon fill=\"#ffffff\" stroke=\"#000000\" points=\"1377,-901 1282,-901 1282,-818 1377,-818 1377,-901\"/>\n<text text-anchor=\"start\" x=\"1296.5\" y=\"-885.8\" font-family=\"Times,serif\" font-size=\"14.00\" fill=\"#000000\">Age ≤ 45.5</text>\n<text text-anchor=\"start\" x=\"1300.5\" y=\"-870.8\" font-family=\"Times,serif\" font-size=\"14.00\" fill=\"#000000\">gini = 0.5</text>\n<text text-anchor=\"start\" x=\"1295\" y=\"-855.8\" font-family=\"Times,serif\" font-size=\"14.00\" fill=\"#000000\">samples = 2</text>\n<text text-anchor=\"start\" x=\"1290\" y=\"-840.8\" font-family=\"Times,serif\" font-size=\"14.00\" fill=\"#000000\">value = [1, 1]</text>\n<text text-anchor=\"start\" x=\"1299\" y=\"-825.8\" font-family=\"Times,serif\" font-size=\"14.00\" fill=\"#000000\">class = No</text>\n</g>\n<!-- 52&#45;&gt;53 -->\n<g id=\"edge53\" class=\"edge\">\n<title>52&#45;&gt;53</title>\n<path fill=\"none\" stroke=\"#000000\" d=\"M1349.6577,-936.8796C1347.4992,-928.5938 1345.2079,-919.798 1342.9737,-911.2216\"/>\n<polygon fill=\"#000000\" stroke=\"#000000\" points=\"1346.2965,-910.0928 1340.3886,-901.2981 1339.5226,-911.8575 1346.2965,-910.0928\"/>\n</g>\n<!-- 56 -->\n<g id=\"node57\" class=\"node\">\n<title>56</title>\n<polygon fill=\"#e58139\" stroke=\"#000000\" points=\"1490,-893.5 1395,-893.5 1395,-825.5 1490,-825.5 1490,-893.5\"/>\n<text text-anchor=\"start\" x=\"1413.5\" y=\"-878.3\" font-family=\"Times,serif\" font-size=\"14.00\" fill=\"#000000\">gini = 0.0</text>\n<text text-anchor=\"start\" x=\"1408\" y=\"-863.3\" font-family=\"Times,serif\" font-size=\"14.00\" fill=\"#000000\">samples = 1</text>\n<text text-anchor=\"start\" x=\"1403\" y=\"-848.3\" font-family=\"Times,serif\" font-size=\"14.00\" fill=\"#000000\">value = [1, 0]</text>\n<text text-anchor=\"start\" x=\"1412\" y=\"-833.3\" font-family=\"Times,serif\" font-size=\"14.00\" fill=\"#000000\">class = No</text>\n</g>\n<!-- 52&#45;&gt;56 -->\n<g id=\"edge56\" class=\"edge\">\n<title>52&#45;&gt;56</title>\n<path fill=\"none\" stroke=\"#000000\" d=\"M1389.1796,-936.8796C1396.9083,-925.6636 1405.2809,-913.5131 1413.0508,-902.2372\"/>\n<polygon fill=\"#000000\" stroke=\"#000000\" points=\"1416.0623,-904.0353 1418.8544,-893.8149 1410.2982,-900.0634 1416.0623,-904.0353\"/>\n</g>\n<!-- 54 -->\n<g id=\"node55\" class=\"node\">\n<title>54</title>\n<polygon fill=\"#e58139\" stroke=\"#000000\" points=\"1345,-774.5 1250,-774.5 1250,-706.5 1345,-706.5 1345,-774.5\"/>\n<text text-anchor=\"start\" x=\"1268.5\" y=\"-759.3\" font-family=\"Times,serif\" font-size=\"14.00\" fill=\"#000000\">gini = 0.0</text>\n<text text-anchor=\"start\" x=\"1263\" y=\"-744.3\" font-family=\"Times,serif\" font-size=\"14.00\" fill=\"#000000\">samples = 1</text>\n<text text-anchor=\"start\" x=\"1258\" y=\"-729.3\" font-family=\"Times,serif\" font-size=\"14.00\" fill=\"#000000\">value = [1, 0]</text>\n<text text-anchor=\"start\" x=\"1267\" y=\"-714.3\" font-family=\"Times,serif\" font-size=\"14.00\" fill=\"#000000\">class = No</text>\n</g>\n<!-- 53&#45;&gt;54 -->\n<g id=\"edge54\" class=\"edge\">\n<title>53&#45;&gt;54</title>\n<path fill=\"none\" stroke=\"#000000\" d=\"M1318.308,-817.8796C1315.4102,-807.1034 1312.2804,-795.4647 1309.3501,-784.5677\"/>\n<polygon fill=\"#000000\" stroke=\"#000000\" points=\"1312.7044,-783.563 1306.7275,-774.8149 1305.9445,-785.3808 1312.7044,-783.563\"/>\n</g>\n<!-- 55 -->\n<g id=\"node56\" class=\"node\">\n<title>55</title>\n<polygon fill=\"#399de5\" stroke=\"#000000\" points=\"1458,-774.5 1363,-774.5 1363,-706.5 1458,-706.5 1458,-774.5\"/>\n<text text-anchor=\"start\" x=\"1381.5\" y=\"-759.3\" font-family=\"Times,serif\" font-size=\"14.00\" fill=\"#000000\">gini = 0.0</text>\n<text text-anchor=\"start\" x=\"1376\" y=\"-744.3\" font-family=\"Times,serif\" font-size=\"14.00\" fill=\"#000000\">samples = 1</text>\n<text text-anchor=\"start\" x=\"1371\" y=\"-729.3\" font-family=\"Times,serif\" font-size=\"14.00\" fill=\"#000000\">value = [0, 1]</text>\n<text text-anchor=\"start\" x=\"1379.5\" y=\"-714.3\" font-family=\"Times,serif\" font-size=\"14.00\" fill=\"#000000\">class = Yes</text>\n</g>\n<!-- 53&#45;&gt;55 -->\n<g id=\"edge55\" class=\"edge\">\n<title>53&#45;&gt;55</title>\n<path fill=\"none\" stroke=\"#000000\" d=\"M1357.8299,-817.8796C1365.4643,-806.6636 1373.7348,-794.5131 1381.4099,-783.2372\"/>\n<polygon fill=\"#000000\" stroke=\"#000000\" points=\"1384.4092,-785.0511 1387.1428,-774.8149 1378.6225,-781.1122 1384.4092,-785.0511\"/>\n</g>\n<!-- 59 -->\n<g id=\"node60\" class=\"node\">\n<title>59</title>\n<polygon fill=\"#399de5\" stroke=\"#000000\" points=\"1457.5,-1250.5 1355.5,-1250.5 1355.5,-1182.5 1457.5,-1182.5 1457.5,-1250.5\"/>\n<text text-anchor=\"start\" x=\"1377.5\" y=\"-1235.3\" font-family=\"Times,serif\" font-size=\"14.00\" fill=\"#000000\">gini = 0.0</text>\n<text text-anchor=\"start\" x=\"1368.5\" y=\"-1220.3\" font-family=\"Times,serif\" font-size=\"14.00\" fill=\"#000000\">samples = 25</text>\n<text text-anchor=\"start\" x=\"1363.5\" y=\"-1205.3\" font-family=\"Times,serif\" font-size=\"14.00\" fill=\"#000000\">value = [0, 25]</text>\n<text text-anchor=\"start\" x=\"1375.5\" y=\"-1190.3\" font-family=\"Times,serif\" font-size=\"14.00\" fill=\"#000000\">class = Yes</text>\n</g>\n<!-- 58&#45;&gt;59 -->\n<g id=\"edge59\" class=\"edge\">\n<title>58&#45;&gt;59</title>\n<path fill=\"none\" stroke=\"#000000\" d=\"M1406.5,-1293.8796C1406.5,-1283.2134 1406.5,-1271.7021 1406.5,-1260.9015\"/>\n<polygon fill=\"#000000\" stroke=\"#000000\" points=\"1410.0001,-1260.8149 1406.5,-1250.8149 1403.0001,-1260.815 1410.0001,-1260.8149\"/>\n</g>\n<!-- 60 -->\n<g id=\"node61\" class=\"node\">\n<title>60</title>\n<polygon fill=\"#5aade9\" stroke=\"#000000\" points=\"1635.5,-1258 1519.5,-1258 1519.5,-1175 1635.5,-1175 1635.5,-1258\"/>\n<text text-anchor=\"start\" x=\"1527.5\" y=\"-1242.8\" font-family=\"Times,serif\" font-size=\"14.00\" fill=\"#000000\">Salary ≤ 48000.0</text>\n<text text-anchor=\"start\" x=\"1541\" y=\"-1227.8\" font-family=\"Times,serif\" font-size=\"14.00\" fill=\"#000000\">gini = 0.245</text>\n<text text-anchor=\"start\" x=\"1539.5\" y=\"-1212.8\" font-family=\"Times,serif\" font-size=\"14.00\" fill=\"#000000\">samples = 42</text>\n<text text-anchor=\"start\" x=\"1534.5\" y=\"-1197.8\" font-family=\"Times,serif\" font-size=\"14.00\" fill=\"#000000\">value = [6, 36]</text>\n<text text-anchor=\"start\" x=\"1546.5\" y=\"-1182.8\" font-family=\"Times,serif\" font-size=\"14.00\" fill=\"#000000\">class = Yes</text>\n</g>\n<!-- 58&#45;&gt;60 -->\n<g id=\"edge60\" class=\"edge\">\n<title>58&#45;&gt;60</title>\n<path fill=\"none\" stroke=\"#000000\" d=\"M1464.8702,-1294.8798C1479.7278,-1284.5403 1495.8048,-1273.3522 1511.0331,-1262.7548\"/>\n<polygon fill=\"#000000\" stroke=\"#000000\" points=\"1513.184,-1265.5221 1519.3928,-1256.9371 1509.1855,-1259.7764 1513.184,-1265.5221\"/>\n</g>\n<!-- 61 -->\n<g id=\"node62\" class=\"node\">\n<title>61</title>\n<polygon fill=\"#f6d5bd\" stroke=\"#000000\" points=\"1625,-1139 1530,-1139 1530,-1056 1625,-1056 1625,-1139\"/>\n<text text-anchor=\"start\" x=\"1544.5\" y=\"-1123.8\" font-family=\"Times,serif\" font-size=\"14.00\" fill=\"#000000\">Age ≤ 59.5</text>\n<text text-anchor=\"start\" x=\"1545\" y=\"-1108.8\" font-family=\"Times,serif\" font-size=\"14.00\" fill=\"#000000\">gini = 0.48</text>\n<text text-anchor=\"start\" x=\"1543\" y=\"-1093.8\" font-family=\"Times,serif\" font-size=\"14.00\" fill=\"#000000\">samples = 5</text>\n<text text-anchor=\"start\" x=\"1538\" y=\"-1078.8\" font-family=\"Times,serif\" font-size=\"14.00\" fill=\"#000000\">value = [3, 2]</text>\n<text text-anchor=\"start\" x=\"1547\" y=\"-1063.8\" font-family=\"Times,serif\" font-size=\"14.00\" fill=\"#000000\">class = No</text>\n</g>\n<!-- 60&#45;&gt;61 -->\n<g id=\"edge61\" class=\"edge\">\n<title>60&#45;&gt;61</title>\n<path fill=\"none\" stroke=\"#000000\" d=\"M1577.5,-1174.8796C1577.5,-1166.6838 1577.5,-1157.9891 1577.5,-1149.5013\"/>\n<polygon fill=\"#000000\" stroke=\"#000000\" points=\"1581.0001,-1149.298 1577.5,-1139.2981 1574.0001,-1149.2981 1581.0001,-1149.298\"/>\n</g>\n<!-- 64 -->\n<g id=\"node65\" class=\"node\">\n<title>64</title>\n<polygon fill=\"#4aa6e7\" stroke=\"#000000\" points=\"1779.5,-1139 1663.5,-1139 1663.5,-1056 1779.5,-1056 1779.5,-1139\"/>\n<text text-anchor=\"start\" x=\"1671.5\" y=\"-1123.8\" font-family=\"Times,serif\" font-size=\"14.00\" fill=\"#000000\">Salary ≤ 84500.0</text>\n<text text-anchor=\"start\" x=\"1685\" y=\"-1108.8\" font-family=\"Times,serif\" font-size=\"14.00\" fill=\"#000000\">gini = 0.149</text>\n<text text-anchor=\"start\" x=\"1683.5\" y=\"-1093.8\" font-family=\"Times,serif\" font-size=\"14.00\" fill=\"#000000\">samples = 37</text>\n<text text-anchor=\"start\" x=\"1678.5\" y=\"-1078.8\" font-family=\"Times,serif\" font-size=\"14.00\" fill=\"#000000\">value = [3, 34]</text>\n<text text-anchor=\"start\" x=\"1690.5\" y=\"-1063.8\" font-family=\"Times,serif\" font-size=\"14.00\" fill=\"#000000\">class = Yes</text>\n</g>\n<!-- 60&#45;&gt;64 -->\n<g id=\"edge64\" class=\"edge\">\n<title>60&#45;&gt;64</title>\n<path fill=\"none\" stroke=\"#000000\" d=\"M1627.8642,-1174.8796C1639.1985,-1165.513 1651.3215,-1155.4948 1662.9581,-1145.8784\"/>\n<polygon fill=\"#000000\" stroke=\"#000000\" points=\"1665.4419,-1148.3663 1670.9208,-1139.2981 1660.9827,-1142.9703 1665.4419,-1148.3663\"/>\n</g>\n<!-- 62 -->\n<g id=\"node63\" class=\"node\">\n<title>62</title>\n<polygon fill=\"#e58139\" stroke=\"#000000\" points=\"1532,-1012.5 1437,-1012.5 1437,-944.5 1532,-944.5 1532,-1012.5\"/>\n<text text-anchor=\"start\" x=\"1455.5\" y=\"-997.3\" font-family=\"Times,serif\" font-size=\"14.00\" fill=\"#000000\">gini = 0.0</text>\n<text text-anchor=\"start\" x=\"1450\" y=\"-982.3\" font-family=\"Times,serif\" font-size=\"14.00\" fill=\"#000000\">samples = 3</text>\n<text text-anchor=\"start\" x=\"1445\" y=\"-967.3\" font-family=\"Times,serif\" font-size=\"14.00\" fill=\"#000000\">value = [3, 0]</text>\n<text text-anchor=\"start\" x=\"1454\" y=\"-952.3\" font-family=\"Times,serif\" font-size=\"14.00\" fill=\"#000000\">class = No</text>\n</g>\n<!-- 61&#45;&gt;62 -->\n<g id=\"edge62\" class=\"edge\">\n<title>61&#45;&gt;62</title>\n<path fill=\"none\" stroke=\"#000000\" d=\"M1544.9731,-1055.8796C1536.1217,-1044.5536 1526.5257,-1032.2748 1517.6407,-1020.9058\"/>\n<polygon fill=\"#000000\" stroke=\"#000000\" points=\"1520.2331,-1018.539 1511.3176,-1012.8149 1514.7176,-1022.8494 1520.2331,-1018.539\"/>\n</g>\n<!-- 63 -->\n<g id=\"node64\" class=\"node\">\n<title>63</title>\n<polygon fill=\"#399de5\" stroke=\"#000000\" points=\"1645,-1012.5 1550,-1012.5 1550,-944.5 1645,-944.5 1645,-1012.5\"/>\n<text text-anchor=\"start\" x=\"1568.5\" y=\"-997.3\" font-family=\"Times,serif\" font-size=\"14.00\" fill=\"#000000\">gini = 0.0</text>\n<text text-anchor=\"start\" x=\"1563\" y=\"-982.3\" font-family=\"Times,serif\" font-size=\"14.00\" fill=\"#000000\">samples = 2</text>\n<text text-anchor=\"start\" x=\"1558\" y=\"-967.3\" font-family=\"Times,serif\" font-size=\"14.00\" fill=\"#000000\">value = [0, 2]</text>\n<text text-anchor=\"start\" x=\"1566.5\" y=\"-952.3\" font-family=\"Times,serif\" font-size=\"14.00\" fill=\"#000000\">class = Yes</text>\n</g>\n<!-- 61&#45;&gt;63 -->\n<g id=\"edge63\" class=\"edge\">\n<title>61&#45;&gt;63</title>\n<path fill=\"none\" stroke=\"#000000\" d=\"M1584.495,-1055.8796C1586.2877,-1045.2134 1588.2223,-1033.7021 1590.0376,-1022.9015\"/>\n<polygon fill=\"#000000\" stroke=\"#000000\" points=\"1593.5269,-1023.2568 1591.7328,-1012.8149 1586.6237,-1022.0965 1593.5269,-1023.2568\"/>\n</g>\n<!-- 65 -->\n<g id=\"node66\" class=\"node\">\n<title>65</title>\n<polygon fill=\"#6ab6ec\" stroke=\"#000000\" points=\"1779.5,-1020 1663.5,-1020 1663.5,-937 1779.5,-937 1779.5,-1020\"/>\n<text text-anchor=\"start\" x=\"1671.5\" y=\"-1004.8\" font-family=\"Times,serif\" font-size=\"14.00\" fill=\"#000000\">Salary ≤ 79500.0</text>\n<text text-anchor=\"start\" x=\"1689\" y=\"-989.8\" font-family=\"Times,serif\" font-size=\"14.00\" fill=\"#000000\">gini = 0.32</text>\n<text text-anchor=\"start\" x=\"1683.5\" y=\"-974.8\" font-family=\"Times,serif\" font-size=\"14.00\" fill=\"#000000\">samples = 10</text>\n<text text-anchor=\"start\" x=\"1682\" y=\"-959.8\" font-family=\"Times,serif\" font-size=\"14.00\" fill=\"#000000\">value = [2, 8]</text>\n<text text-anchor=\"start\" x=\"1690.5\" y=\"-944.8\" font-family=\"Times,serif\" font-size=\"14.00\" fill=\"#000000\">class = Yes</text>\n</g>\n<!-- 64&#45;&gt;65 -->\n<g id=\"edge65\" class=\"edge\">\n<title>64&#45;&gt;65</title>\n<path fill=\"none\" stroke=\"#000000\" d=\"M1721.5,-1055.8796C1721.5,-1047.6838 1721.5,-1038.9891 1721.5,-1030.5013\"/>\n<polygon fill=\"#000000\" stroke=\"#000000\" points=\"1725.0001,-1030.298 1721.5,-1020.2981 1718.0001,-1030.2981 1725.0001,-1030.298\"/>\n</g>\n<!-- 72 -->\n<g id=\"node73\" class=\"node\">\n<title>72</title>\n<polygon fill=\"#41a1e6\" stroke=\"#000000\" points=\"1921.5,-1020 1797.5,-1020 1797.5,-937 1921.5,-937 1921.5,-1020\"/>\n<text text-anchor=\"start\" x=\"1805.5\" y=\"-1004.8\" font-family=\"Times,serif\" font-size=\"14.00\" fill=\"#000000\">Salary ≤ 132000.0</text>\n<text text-anchor=\"start\" x=\"1823\" y=\"-989.8\" font-family=\"Times,serif\" font-size=\"14.00\" fill=\"#000000\">gini = 0.071</text>\n<text text-anchor=\"start\" x=\"1821.5\" y=\"-974.8\" font-family=\"Times,serif\" font-size=\"14.00\" fill=\"#000000\">samples = 27</text>\n<text text-anchor=\"start\" x=\"1816.5\" y=\"-959.8\" font-family=\"Times,serif\" font-size=\"14.00\" fill=\"#000000\">value = [1, 26]</text>\n<text text-anchor=\"start\" x=\"1828.5\" y=\"-944.8\" font-family=\"Times,serif\" font-size=\"14.00\" fill=\"#000000\">class = Yes</text>\n</g>\n<!-- 64&#45;&gt;72 -->\n<g id=\"edge72\" class=\"edge\">\n<title>64&#45;&gt;72</title>\n<path fill=\"none\" stroke=\"#000000\" d=\"M1769.7657,-1055.8796C1780.6278,-1046.513 1792.2456,-1036.4948 1803.3973,-1026.8784\"/>\n<polygon fill=\"#000000\" stroke=\"#000000\" points=\"1805.7408,-1029.4792 1811.0283,-1020.2981 1801.1694,-1024.178 1805.7408,-1029.4792\"/>\n</g>\n<!-- 66 -->\n<g id=\"node67\" class=\"node\">\n<title>66</title>\n<polygon fill=\"#52a9e8\" stroke=\"#000000\" points=\"1661,-901 1566,-901 1566,-818 1661,-818 1661,-901\"/>\n<text text-anchor=\"start\" x=\"1580.5\" y=\"-885.8\" font-family=\"Times,serif\" font-size=\"14.00\" fill=\"#000000\">Age ≤ 48.5</text>\n<text text-anchor=\"start\" x=\"1577\" y=\"-870.8\" font-family=\"Times,serif\" font-size=\"14.00\" fill=\"#000000\">gini = 0.198</text>\n<text text-anchor=\"start\" x=\"1579\" y=\"-855.8\" font-family=\"Times,serif\" font-size=\"14.00\" fill=\"#000000\">samples = 9</text>\n<text text-anchor=\"start\" x=\"1574\" y=\"-840.8\" font-family=\"Times,serif\" font-size=\"14.00\" fill=\"#000000\">value = [1, 8]</text>\n<text text-anchor=\"start\" x=\"1582.5\" y=\"-825.8\" font-family=\"Times,serif\" font-size=\"14.00\" fill=\"#000000\">class = Yes</text>\n</g>\n<!-- 65&#45;&gt;66 -->\n<g id=\"edge66\" class=\"edge\">\n<title>65&#45;&gt;66</title>\n<path fill=\"none\" stroke=\"#000000\" d=\"M1683.7268,-936.8796C1675.4713,-927.7832 1666.658,-918.0722 1658.1626,-908.7116\"/>\n<polygon fill=\"#000000\" stroke=\"#000000\" points=\"1660.7467,-906.3509 1651.4344,-901.2981 1655.5632,-911.0553 1660.7467,-906.3509\"/>\n</g>\n<!-- 71 -->\n<g id=\"node72\" class=\"node\">\n<title>71</title>\n<polygon fill=\"#e58139\" stroke=\"#000000\" points=\"1774,-893.5 1679,-893.5 1679,-825.5 1774,-825.5 1774,-893.5\"/>\n<text text-anchor=\"start\" x=\"1697.5\" y=\"-878.3\" font-family=\"Times,serif\" font-size=\"14.00\" fill=\"#000000\">gini = 0.0</text>\n<text text-anchor=\"start\" x=\"1692\" y=\"-863.3\" font-family=\"Times,serif\" font-size=\"14.00\" fill=\"#000000\">samples = 1</text>\n<text text-anchor=\"start\" x=\"1687\" y=\"-848.3\" font-family=\"Times,serif\" font-size=\"14.00\" fill=\"#000000\">value = [1, 0]</text>\n<text text-anchor=\"start\" x=\"1696\" y=\"-833.3\" font-family=\"Times,serif\" font-size=\"14.00\" fill=\"#000000\">class = No</text>\n</g>\n<!-- 65&#45;&gt;71 -->\n<g id=\"edge71\" class=\"edge\">\n<title>65&#45;&gt;71</title>\n<path fill=\"none\" stroke=\"#000000\" d=\"M1723.2488,-936.8796C1723.6969,-926.2134 1724.1806,-914.7021 1724.6344,-903.9015\"/>\n<polygon fill=\"#000000\" stroke=\"#000000\" points=\"1728.1352,-903.9531 1725.0582,-893.8149 1721.1414,-903.6592 1728.1352,-903.9531\"/>\n</g>\n<!-- 67 -->\n<g id=\"node68\" class=\"node\">\n<title>67</title>\n<polygon fill=\"#399de5\" stroke=\"#000000\" points=\"1593,-774.5 1498,-774.5 1498,-706.5 1593,-706.5 1593,-774.5\"/>\n<text text-anchor=\"start\" x=\"1516.5\" y=\"-759.3\" font-family=\"Times,serif\" font-size=\"14.00\" fill=\"#000000\">gini = 0.0</text>\n<text text-anchor=\"start\" x=\"1511\" y=\"-744.3\" font-family=\"Times,serif\" font-size=\"14.00\" fill=\"#000000\">samples = 4</text>\n<text text-anchor=\"start\" x=\"1506\" y=\"-729.3\" font-family=\"Times,serif\" font-size=\"14.00\" fill=\"#000000\">value = [0, 4]</text>\n<text text-anchor=\"start\" x=\"1514.5\" y=\"-714.3\" font-family=\"Times,serif\" font-size=\"14.00\" fill=\"#000000\">class = Yes</text>\n</g>\n<!-- 66&#45;&gt;67 -->\n<g id=\"edge67\" class=\"edge\">\n<title>66&#45;&gt;67</title>\n<path fill=\"none\" stroke=\"#000000\" d=\"M1589.7169,-817.8796C1583.3706,-806.7735 1576.5007,-794.7513 1570.1109,-783.5691\"/>\n<polygon fill=\"#000000\" stroke=\"#000000\" points=\"1573.1088,-781.7609 1565.1085,-774.8149 1567.0311,-785.2339 1573.1088,-781.7609\"/>\n</g>\n<!-- 68 -->\n<g id=\"node69\" class=\"node\">\n<title>68</title>\n<polygon fill=\"#6ab6ec\" stroke=\"#000000\" points=\"1706,-782 1611,-782 1611,-699 1706,-699 1706,-782\"/>\n<text text-anchor=\"start\" x=\"1625.5\" y=\"-766.8\" font-family=\"Times,serif\" font-size=\"14.00\" fill=\"#000000\">Age ≤ 51.0</text>\n<text text-anchor=\"start\" x=\"1626\" y=\"-751.8\" font-family=\"Times,serif\" font-size=\"14.00\" fill=\"#000000\">gini = 0.32</text>\n<text text-anchor=\"start\" x=\"1624\" y=\"-736.8\" font-family=\"Times,serif\" font-size=\"14.00\" fill=\"#000000\">samples = 5</text>\n<text text-anchor=\"start\" x=\"1619\" y=\"-721.8\" font-family=\"Times,serif\" font-size=\"14.00\" fill=\"#000000\">value = [1, 4]</text>\n<text text-anchor=\"start\" x=\"1627.5\" y=\"-706.8\" font-family=\"Times,serif\" font-size=\"14.00\" fill=\"#000000\">class = Yes</text>\n</g>\n<!-- 66&#45;&gt;68 -->\n<g id=\"edge68\" class=\"edge\">\n<title>66&#45;&gt;68</title>\n<path fill=\"none\" stroke=\"#000000\" d=\"M1629.2388,-817.8796C1632.4402,-809.4136 1635.8429,-800.4153 1639.1528,-791.6626\"/>\n<polygon fill=\"#000000\" stroke=\"#000000\" points=\"1642.4306,-792.8896 1642.694,-782.2981 1635.8831,-790.4136 1642.4306,-792.8896\"/>\n</g>\n<!-- 69 -->\n<g id=\"node70\" class=\"node\">\n<title>69</title>\n<polygon fill=\"#e58139\" stroke=\"#000000\" points=\"1638,-655.5 1543,-655.5 1543,-587.5 1638,-587.5 1638,-655.5\"/>\n<text text-anchor=\"start\" x=\"1561.5\" y=\"-640.3\" font-family=\"Times,serif\" font-size=\"14.00\" fill=\"#000000\">gini = 0.0</text>\n<text text-anchor=\"start\" x=\"1556\" y=\"-625.3\" font-family=\"Times,serif\" font-size=\"14.00\" fill=\"#000000\">samples = 1</text>\n<text text-anchor=\"start\" x=\"1551\" y=\"-610.3\" font-family=\"Times,serif\" font-size=\"14.00\" fill=\"#000000\">value = [1, 0]</text>\n<text text-anchor=\"start\" x=\"1560\" y=\"-595.3\" font-family=\"Times,serif\" font-size=\"14.00\" fill=\"#000000\">class = No</text>\n</g>\n<!-- 68&#45;&gt;69 -->\n<g id=\"edge69\" class=\"edge\">\n<title>68&#45;&gt;69</title>\n<path fill=\"none\" stroke=\"#000000\" d=\"M1634.7169,-698.8796C1628.3706,-687.7735 1621.5007,-675.7513 1615.1109,-664.5691\"/>\n<polygon fill=\"#000000\" stroke=\"#000000\" points=\"1618.1088,-662.7609 1610.1085,-655.8149 1612.0311,-666.2339 1618.1088,-662.7609\"/>\n</g>\n<!-- 70 -->\n<g id=\"node71\" class=\"node\">\n<title>70</title>\n<polygon fill=\"#399de5\" stroke=\"#000000\" points=\"1751,-655.5 1656,-655.5 1656,-587.5 1751,-587.5 1751,-655.5\"/>\n<text text-anchor=\"start\" x=\"1674.5\" y=\"-640.3\" font-family=\"Times,serif\" font-size=\"14.00\" fill=\"#000000\">gini = 0.0</text>\n<text text-anchor=\"start\" x=\"1669\" y=\"-625.3\" font-family=\"Times,serif\" font-size=\"14.00\" fill=\"#000000\">samples = 4</text>\n<text text-anchor=\"start\" x=\"1664\" y=\"-610.3\" font-family=\"Times,serif\" font-size=\"14.00\" fill=\"#000000\">value = [0, 4]</text>\n<text text-anchor=\"start\" x=\"1672.5\" y=\"-595.3\" font-family=\"Times,serif\" font-size=\"14.00\" fill=\"#000000\">class = Yes</text>\n</g>\n<!-- 68&#45;&gt;70 -->\n<g id=\"edge70\" class=\"edge\">\n<title>68&#45;&gt;70</title>\n<path fill=\"none\" stroke=\"#000000\" d=\"M1674.2388,-698.8796C1678.3554,-687.9935 1682.8049,-676.227 1686.9618,-665.2344\"/>\n<polygon fill=\"#000000\" stroke=\"#000000\" points=\"1690.2604,-666.4065 1690.5238,-655.8149 1683.7129,-663.9305 1690.2604,-666.4065\"/>\n</g>\n<!-- 73 -->\n<g id=\"node74\" class=\"node\">\n<title>73</title>\n<polygon fill=\"#399de5\" stroke=\"#000000\" points=\"1904.5,-893.5 1802.5,-893.5 1802.5,-825.5 1904.5,-825.5 1904.5,-893.5\"/>\n<text text-anchor=\"start\" x=\"1824.5\" y=\"-878.3\" font-family=\"Times,serif\" font-size=\"14.00\" fill=\"#000000\">gini = 0.0</text>\n<text text-anchor=\"start\" x=\"1815.5\" y=\"-863.3\" font-family=\"Times,serif\" font-size=\"14.00\" fill=\"#000000\">samples = 17</text>\n<text text-anchor=\"start\" x=\"1810.5\" y=\"-848.3\" font-family=\"Times,serif\" font-size=\"14.00\" fill=\"#000000\">value = [0, 17]</text>\n<text text-anchor=\"start\" x=\"1822.5\" y=\"-833.3\" font-family=\"Times,serif\" font-size=\"14.00\" fill=\"#000000\">class = Yes</text>\n</g>\n<!-- 72&#45;&gt;73 -->\n<g id=\"edge73\" class=\"edge\">\n<title>72&#45;&gt;73</title>\n<path fill=\"none\" stroke=\"#000000\" d=\"M1857.4015,-936.8796C1856.8637,-926.2134 1856.2833,-914.7021 1855.7387,-903.9015\"/>\n<polygon fill=\"#000000\" stroke=\"#000000\" points=\"1859.2294,-903.626 1855.2302,-893.8149 1852.2383,-903.9785 1859.2294,-903.626\"/>\n</g>\n<!-- 74 -->\n<g id=\"node75\" class=\"node\">\n<title>74</title>\n<polygon fill=\"#4fa8e8\" stroke=\"#000000\" points=\"2046.5,-901 1922.5,-901 1922.5,-818 2046.5,-818 2046.5,-901\"/>\n<text text-anchor=\"start\" x=\"1930.5\" y=\"-885.8\" font-family=\"Times,serif\" font-size=\"14.00\" fill=\"#000000\">Salary ≤ 136000.0</text>\n<text text-anchor=\"start\" x=\"1952\" y=\"-870.8\" font-family=\"Times,serif\" font-size=\"14.00\" fill=\"#000000\">gini = 0.18</text>\n<text text-anchor=\"start\" x=\"1946.5\" y=\"-855.8\" font-family=\"Times,serif\" font-size=\"14.00\" fill=\"#000000\">samples = 10</text>\n<text text-anchor=\"start\" x=\"1945\" y=\"-840.8\" font-family=\"Times,serif\" font-size=\"14.00\" fill=\"#000000\">value = [1, 9]</text>\n<text text-anchor=\"start\" x=\"1953.5\" y=\"-825.8\" font-family=\"Times,serif\" font-size=\"14.00\" fill=\"#000000\">class = Yes</text>\n</g>\n<!-- 72&#45;&gt;74 -->\n<g id=\"edge74\" class=\"edge\">\n<title>72&#45;&gt;74</title>\n<path fill=\"none\" stroke=\"#000000\" d=\"M1903.2189,-936.8796C1912.8686,-927.6931 1923.1766,-917.8798 1933.0991,-908.4336\"/>\n<polygon fill=\"#000000\" stroke=\"#000000\" points=\"1935.765,-910.7282 1940.5945,-901.2981 1930.9384,-905.6582 1935.765,-910.7282\"/>\n</g>\n<!-- 75 -->\n<g id=\"node76\" class=\"node\">\n<title>75</title>\n<polygon fill=\"#ffffff\" stroke=\"#000000\" points=\"1942,-782 1847,-782 1847,-699 1942,-699 1942,-782\"/>\n<text text-anchor=\"start\" x=\"1861.5\" y=\"-766.8\" font-family=\"Times,serif\" font-size=\"14.00\" fill=\"#000000\">Age ≤ 49.5</text>\n<text text-anchor=\"start\" x=\"1865.5\" y=\"-751.8\" font-family=\"Times,serif\" font-size=\"14.00\" fill=\"#000000\">gini = 0.5</text>\n<text text-anchor=\"start\" x=\"1860\" y=\"-736.8\" font-family=\"Times,serif\" font-size=\"14.00\" fill=\"#000000\">samples = 2</text>\n<text text-anchor=\"start\" x=\"1855\" y=\"-721.8\" font-family=\"Times,serif\" font-size=\"14.00\" fill=\"#000000\">value = [1, 1]</text>\n<text text-anchor=\"start\" x=\"1864\" y=\"-706.8\" font-family=\"Times,serif\" font-size=\"14.00\" fill=\"#000000\">class = No</text>\n</g>\n<!-- 74&#45;&gt;75 -->\n<g id=\"edge75\" class=\"edge\">\n<title>74&#45;&gt;75</title>\n<path fill=\"none\" stroke=\"#000000\" d=\"M1953.0224,-817.8796C1946.3471,-809.0534 1939.2342,-799.6485 1932.3504,-790.5466\"/>\n<polygon fill=\"#000000\" stroke=\"#000000\" points=\"1934.9357,-788.1626 1926.112,-782.2981 1929.3526,-792.3852 1934.9357,-788.1626\"/>\n</g>\n<!-- 78 -->\n<g id=\"node79\" class=\"node\">\n<title>78</title>\n<polygon fill=\"#399de5\" stroke=\"#000000\" points=\"2055,-774.5 1960,-774.5 1960,-706.5 2055,-706.5 2055,-774.5\"/>\n<text text-anchor=\"start\" x=\"1978.5\" y=\"-759.3\" font-family=\"Times,serif\" font-size=\"14.00\" fill=\"#000000\">gini = 0.0</text>\n<text text-anchor=\"start\" x=\"1973\" y=\"-744.3\" font-family=\"Times,serif\" font-size=\"14.00\" fill=\"#000000\">samples = 8</text>\n<text text-anchor=\"start\" x=\"1968\" y=\"-729.3\" font-family=\"Times,serif\" font-size=\"14.00\" fill=\"#000000\">value = [0, 8]</text>\n<text text-anchor=\"start\" x=\"1976.5\" y=\"-714.3\" font-family=\"Times,serif\" font-size=\"14.00\" fill=\"#000000\">class = Yes</text>\n</g>\n<!-- 74&#45;&gt;78 -->\n<g id=\"edge78\" class=\"edge\">\n<title>74&#45;&gt;78</title>\n<path fill=\"none\" stroke=\"#000000\" d=\"M1992.5443,-817.8796C1994.6058,-807.2134 1996.8307,-795.7021 1998.9182,-784.9015\"/>\n<polygon fill=\"#000000\" stroke=\"#000000\" points=\"2002.4064,-785.2974 2000.8677,-774.8149 1995.5336,-783.969 2002.4064,-785.2974\"/>\n</g>\n<!-- 76 -->\n<g id=\"node77\" class=\"node\">\n<title>76</title>\n<polygon fill=\"#399de5\" stroke=\"#000000\" points=\"1875,-655.5 1780,-655.5 1780,-587.5 1875,-587.5 1875,-655.5\"/>\n<text text-anchor=\"start\" x=\"1798.5\" y=\"-640.3\" font-family=\"Times,serif\" font-size=\"14.00\" fill=\"#000000\">gini = 0.0</text>\n<text text-anchor=\"start\" x=\"1793\" y=\"-625.3\" font-family=\"Times,serif\" font-size=\"14.00\" fill=\"#000000\">samples = 1</text>\n<text text-anchor=\"start\" x=\"1788\" y=\"-610.3\" font-family=\"Times,serif\" font-size=\"14.00\" fill=\"#000000\">value = [0, 1]</text>\n<text text-anchor=\"start\" x=\"1796.5\" y=\"-595.3\" font-family=\"Times,serif\" font-size=\"14.00\" fill=\"#000000\">class = Yes</text>\n</g>\n<!-- 75&#45;&gt;76 -->\n<g id=\"edge76\" class=\"edge\">\n<title>75&#45;&gt;76</title>\n<path fill=\"none\" stroke=\"#000000\" d=\"M1871.0667,-698.8796C1864.8137,-687.7735 1858.0448,-675.7513 1851.749,-664.5691\"/>\n<polygon fill=\"#000000\" stroke=\"#000000\" points=\"1854.7761,-662.8116 1846.8202,-655.8149 1848.6765,-666.2459 1854.7761,-662.8116\"/>\n</g>\n<!-- 77 -->\n<g id=\"node78\" class=\"node\">\n<title>77</title>\n<polygon fill=\"#e58139\" stroke=\"#000000\" points=\"1988,-655.5 1893,-655.5 1893,-587.5 1988,-587.5 1988,-655.5\"/>\n<text text-anchor=\"start\" x=\"1911.5\" y=\"-640.3\" font-family=\"Times,serif\" font-size=\"14.00\" fill=\"#000000\">gini = 0.0</text>\n<text text-anchor=\"start\" x=\"1906\" y=\"-625.3\" font-family=\"Times,serif\" font-size=\"14.00\" fill=\"#000000\">samples = 1</text>\n<text text-anchor=\"start\" x=\"1901\" y=\"-610.3\" font-family=\"Times,serif\" font-size=\"14.00\" fill=\"#000000\">value = [1, 0]</text>\n<text text-anchor=\"start\" x=\"1910\" y=\"-595.3\" font-family=\"Times,serif\" font-size=\"14.00\" fill=\"#000000\">class = No</text>\n</g>\n<!-- 75&#45;&gt;77 -->\n<g id=\"edge77\" class=\"edge\">\n<title>75&#45;&gt;77</title>\n<path fill=\"none\" stroke=\"#000000\" d=\"M1910.5886,-698.8796C1914.7966,-687.9935 1919.345,-676.227 1923.5943,-665.2344\"/>\n<polygon fill=\"#000000\" stroke=\"#000000\" points=\"1926.8944,-666.4043 1927.2354,-655.8149 1920.3652,-663.8804 1926.8944,-666.4043\"/>\n</g>\n</g>\n</svg>\n"
          },
          "metadata": {
            "tags": []
          },
          "execution_count": 8
        },
        {
          "output_type": "display_data",
          "data": {
            "text/plain": [
              "<Figure size 1152x1152 with 0 Axes>"
            ]
          },
          "metadata": {
            "tags": []
          }
        }
      ]
    },
    {
      "cell_type": "code",
      "metadata": {
        "colab": {
          "base_uri": "https://localhost:8080/",
          "height": 35
        },
        "id": "jE10T-FyAn5U",
        "outputId": "4f62df40-943f-4dc8-f22e-0d182c200710"
      },
      "source": [
        "import graphviz\n",
        "dot_data = tree.export_graphviz(classifier, out_file=None)\n",
        "graph = graphviz.Source(dot_data)\n",
        "graph.render(\"Social_Network_Ads\")"
      ],
      "execution_count": null,
      "outputs": [
        {
          "output_type": "execute_result",
          "data": {
            "application/vnd.google.colaboratory.intrinsic+json": {
              "type": "string"
            },
            "text/plain": [
              "'Social_Network_Ads.pdf'"
            ]
          },
          "metadata": {
            "tags": []
          },
          "execution_count": 4
        }
      ]
    },
    {
      "cell_type": "markdown",
      "metadata": {
        "id": "-pnt1Jg4Jhwu"
      },
      "source": [
        "Class work"
      ]
    },
    {
      "cell_type": "code",
      "metadata": {
        "colab": {
          "base_uri": "https://localhost:8080/",
          "height": 564
        },
        "id": "thNOZKnlJM1R",
        "outputId": "cbbd3b45-583d-41ad-f241-088a6bd7f33b"
      },
      "source": [
        "\n",
        "import numpy as np\n",
        "import matplotlib.pyplot as plt\n",
        "import pandas as pd\n",
        "Dataset = [[3.393,2.331,0], [3.110,1.786,0], [1.348,3.309,0], [3.540,4.679,0], [2.284,2.892,0], [7.429,4.622,1],\n",
        "[5.741,3.538,1], [9.176,2.510,1], [7.794,3.429,1], [7.939,0.791,1]]\n",
        "dataset = pd.DataFrame(Dataset)\n",
        "X = dataset.iloc[:, [0,1]].values\n",
        "y = dataset.iloc[:, -1].values\n",
        "from sklearn.model_selection import train_test_split\n",
        "X_train, X_test, y_train, y_test = train_test_split(X, y, test_size = 0.20,random_state=1)\n",
        "\n",
        "from sklearn.tree import DecisionTreeClassifier\n",
        "classifier = DecisionTreeClassifier(criterion='entropy', random_state = 0,)\n",
        "classifier.fit(X_train, y_train)\n",
        "y_pred = classifier.predict(X_test)\n",
        " \n",
        "from sklearn.metrics import confusion_matrix\n",
        "cm = confusion_matrix(y_test, y_pred)\n",
        "from sklearn.metrics import confusion_matrix, ConfusionMatrixDisplay\n",
        "disp = ConfusionMatrixDisplay(confusion_matrix=cm,display_labels=classifier.classes_)\n",
        "disp.plot()\n",
        "from sklearn import tree\n",
        "plt.figure(figsize=(16,16))\n",
        "import graphviz\n",
        "dot_data = tree.export_graphviz(classifier, out_file=None,\n",
        "filled=True, rounded=False,\n",
        "feature_names=[\"Age\",\"Salary\"],\n",
        "class_names=[\"No\",\"Yes\"],\n",
        "special_characters=True)\n",
        "graph = graphviz.Source(dot_data)\n",
        "graph"
      ],
      "execution_count": null,
      "outputs": [
        {
          "output_type": "execute_result",
          "data": {
            "text/plain": [
              "<graphviz.files.Source at 0x7f6b9d366510>"
            ],
            "image/svg+xml": "<?xml version=\"1.0\" encoding=\"UTF-8\" standalone=\"no\"?>\n<!DOCTYPE svg PUBLIC \"-//W3C//DTD SVG 1.1//EN\"\n \"http://www.w3.org/Graphics/SVG/1.1/DTD/svg11.dtd\">\n<!-- Generated by graphviz version 2.40.1 (20161225.0304)\n -->\n<!-- Title: Tree Pages: 1 -->\n<svg width=\"216pt\" height=\"195pt\"\n viewBox=\"0.00 0.00 216.00 195.00\" xmlns=\"http://www.w3.org/2000/svg\" xmlns:xlink=\"http://www.w3.org/1999/xlink\">\n<g id=\"graph0\" class=\"graph\" transform=\"scale(1 1) rotate(0) translate(4 191)\">\n<title>Tree</title>\n<polygon fill=\"#ffffff\" stroke=\"transparent\" points=\"-4,4 -4,-191 212,-191 212,4 -4,4\"/>\n<!-- 0 -->\n<g id=\"node1\" class=\"node\">\n<title>0</title>\n<polygon fill=\"#ffffff\" stroke=\"#000000\" points=\"151,-187 56,-187 56,-104 151,-104 151,-187\"/>\n<text text-anchor=\"start\" x=\"67\" y=\"-171.8\" font-family=\"Times,serif\" font-size=\"14.00\" fill=\"#000000\">Age ≤ 4.641</text>\n<text text-anchor=\"start\" x=\"64\" y=\"-156.8\" font-family=\"Times,serif\" font-size=\"14.00\" fill=\"#000000\">entropy = 1.0</text>\n<text text-anchor=\"start\" x=\"69\" y=\"-141.8\" font-family=\"Times,serif\" font-size=\"14.00\" fill=\"#000000\">samples = 8</text>\n<text text-anchor=\"start\" x=\"64\" y=\"-126.8\" font-family=\"Times,serif\" font-size=\"14.00\" fill=\"#000000\">value = [4, 4]</text>\n<text text-anchor=\"start\" x=\"73\" y=\"-111.8\" font-family=\"Times,serif\" font-size=\"14.00\" fill=\"#000000\">class = No</text>\n</g>\n<!-- 1 -->\n<g id=\"node2\" class=\"node\">\n<title>1</title>\n<polygon fill=\"#e58139\" stroke=\"#000000\" points=\"95,-68 0,-68 0,0 95,0 95,-68\"/>\n<text text-anchor=\"start\" x=\"8\" y=\"-52.8\" font-family=\"Times,serif\" font-size=\"14.00\" fill=\"#000000\">entropy = 0.0</text>\n<text text-anchor=\"start\" x=\"13\" y=\"-37.8\" font-family=\"Times,serif\" font-size=\"14.00\" fill=\"#000000\">samples = 4</text>\n<text text-anchor=\"start\" x=\"8\" y=\"-22.8\" font-family=\"Times,serif\" font-size=\"14.00\" fill=\"#000000\">value = [4, 0]</text>\n<text text-anchor=\"start\" x=\"17\" y=\"-7.8\" font-family=\"Times,serif\" font-size=\"14.00\" fill=\"#000000\">class = No</text>\n</g>\n<!-- 0&#45;&gt;1 -->\n<g id=\"edge1\" class=\"edge\">\n<title>0&#45;&gt;1</title>\n<path fill=\"none\" stroke=\"#000000\" d=\"M82.6477,-103.9815C78.2625,-95.2504 73.6267,-86.0202 69.211,-77.2281\"/>\n<polygon fill=\"#000000\" stroke=\"#000000\" points=\"72.3246,-75.6291 64.7087,-68.2637 66.0692,-78.7708 72.3246,-75.6291\"/>\n<text text-anchor=\"middle\" x=\"56.8455\" y=\"-88.2949\" font-family=\"Times,serif\" font-size=\"14.00\" fill=\"#000000\">True</text>\n</g>\n<!-- 2 -->\n<g id=\"node3\" class=\"node\">\n<title>2</title>\n<polygon fill=\"#399de5\" stroke=\"#000000\" points=\"208,-68 113,-68 113,0 208,0 208,-68\"/>\n<text text-anchor=\"start\" x=\"121\" y=\"-52.8\" font-family=\"Times,serif\" font-size=\"14.00\" fill=\"#000000\">entropy = 0.0</text>\n<text text-anchor=\"start\" x=\"126\" y=\"-37.8\" font-family=\"Times,serif\" font-size=\"14.00\" fill=\"#000000\">samples = 4</text>\n<text text-anchor=\"start\" x=\"121\" y=\"-22.8\" font-family=\"Times,serif\" font-size=\"14.00\" fill=\"#000000\">value = [0, 4]</text>\n<text text-anchor=\"start\" x=\"129.5\" y=\"-7.8\" font-family=\"Times,serif\" font-size=\"14.00\" fill=\"#000000\">class = Yes</text>\n</g>\n<!-- 0&#45;&gt;2 -->\n<g id=\"edge2\" class=\"edge\">\n<title>0&#45;&gt;2</title>\n<path fill=\"none\" stroke=\"#000000\" d=\"M124.7247,-103.9815C129.1881,-95.2504 133.9067,-86.0202 138.4013,-77.2281\"/>\n<polygon fill=\"#000000\" stroke=\"#000000\" points=\"141.5486,-78.7608 142.984,-68.2637 135.3158,-75.5745 141.5486,-78.7608\"/>\n<text text-anchor=\"middle\" x=\"150.6777\" y=\"-88.3504\" font-family=\"Times,serif\" font-size=\"14.00\" fill=\"#000000\">False</text>\n</g>\n</g>\n</svg>\n"
          },
          "metadata": {
            "tags": []
          },
          "execution_count": 14
        },
        {
          "output_type": "display_data",
          "data": {
            "image/png": "[encoded data removed]",
            "text/plain": [
              "<Figure size 432x288 with 2 Axes>"
            ]
          },
          "metadata": {
            "tags": [],
            "needs_background": "light"
          }
        },
        {
          "output_type": "display_data",
          "data": {
            "text/plain": [
              "<Figure size 1152x1152 with 0 Axes>"
            ]
          },
          "metadata": {
            "tags": []
          }
        }
      ]
    },
    {
      "cell_type": "code",
      "metadata": {
        "colab": {
          "base_uri": "https://localhost:8080/",
          "height": 346
        },
        "id": "yy685psumYUS",
        "outputId": "9082d0e4-a247-4f9d-f982-961293dffeaa"
      },
      "source": [
        "import pandas as pd\n",
        "dt= pd.read_csv('iris.csv')\n",
        "\n",
        "x= dt.iloc[:,[0,1,2,3]].values\n",
        "y= dt.iloc[:,-1].values\n",
        "from sklearn.model_selection import train_test_split\n",
        "x_train,x_test,y_train,y_test=train_test_split(x,y,test_size=0.2,random_state=5)\n",
        "from sklearn.svm import SVC\n",
        "clf= SVC( kernel='linear' )\n",
        "clf.fit(x_train,y_train)\n",
        "\n",
        "pr=clf.predict(x_test)\n",
        "#print(pr)\n",
        "#print(x_test)\n",
        "count=0\n",
        "match=0\n",
        "for i in range(0,len(pr)):\n",
        "  if pr[i]==y_test[i]:\n",
        "    match=match+1\n",
        " # else:\n",
        "    #print(pr[i]+\"     \"+ y_test[i])\n",
        "  count=count+1\n",
        "\n",
        "print(f\"Number of Test Case: {count}\")\n",
        "print(f\"Number of Correctly Identified Class: {match}\")\n",
        "print(f\"Accuracy ={match/count*100}%\")\n",
        "#print(clf.predict([[4.9,2.4,3.3,1]]))\n",
        "from sklearn.metrics import  confusion_matrix\n",
        "cm=confusion_matrix(y_test,pr)\n",
        "from sklearn.metrics import  confusion_matrix, ConfusionMatrixDisplay\n",
        "disp = ConfusionMatrixDisplay(confusion_matrix=cm,display_labels=clf.classes_)\n",
        "disp.plot()"
      ],
      "execution_count": null,
      "outputs": [
        {
          "output_type": "stream",
          "text": [
            "Number of Test Case: 30\n",
            "Number of Correctly Identified Class: 28\n",
            "Accuracy =93.33333333333333%\n"
          ],
          "name": "stdout"
        },
        {
          "output_type": "execute_result",
          "data": {
            "text/plain": [
              "<sklearn.metrics._plot.confusion_matrix.ConfusionMatrixDisplay at 0x7ff5e5b19f90>"
            ]
          },
          "metadata": {
            "tags": []
          },
          "execution_count": 2
        },
        {
          "output_type": "display_data",
          "data": {
            "image/png": "[encoded data removed]",
            "text/plain": [
              "<Figure size 432x288 with 2 Axes>"
            ]
          },
          "metadata": {
            "tags": [],
            "needs_background": "light"
          }
        }
      ]
    },
    {
      "cell_type": "markdown",
      "metadata": {
        "id": "c-hPHz1_-Q5s"
      },
      "source": [
        "k-means 21.08.2021"
      ]
    },
    {
      "cell_type": "code",
      "metadata": {
        "colab": {
          "base_uri": "https://localhost:8080/",
          "height": 297
        },
        "id": "177tH_MA-QC9",
        "outputId": "7118c9ab-c95b-4bb9-d5a3-370b88139911"
      },
      "source": [
        "from sklearn.cluster import KMeans\n",
        "import pandas as pd\n",
        "from sklearn.preprocessing import MinMaxScaler\n",
        "from matplotlib import pyplot as plt\n",
        "\n",
        "df = pd.read_csv(\"Mall.csv\")\n",
        "df.head()\n",
        "plt.scatter(df.Age,df['Spending'])\n",
        "plt.xlabel('Age')\n",
        "plt.ylabel('Spending')"
      ],
      "execution_count": null,
      "outputs": [
        {
          "output_type": "execute_result",
          "data": {
            "text/plain": [
              "Text(0, 0.5, 'Spending')"
            ]
          },
          "metadata": {},
          "execution_count": 1
        },
        {
          "output_type": "display_data",
          "data": {
            "image/png": "[encoded data removed]",
            "text/plain": [
              "<Figure size 432x288 with 1 Axes>"
            ]
          },
          "metadata": {
            "needs_background": "light"
          }
        }
      ]
    },
    {
      "cell_type": "code",
      "metadata": {
        "colab": {
          "base_uri": "https://localhost:8080/",
          "height": 206
        },
        "id": "8lGfSaXBCgF0",
        "outputId": "0502edb0-2720-4a45-86fa-47d66a597b97"
      },
      "source": [
        "km = KMeans(n_clusters=3)\n",
        "y_predicted = km.fit_predict(df[['Age','Spending']])\n",
        "df['cluster']=y_predicted\n",
        "df.head()"
      ],
      "execution_count": null,
      "outputs": [
        {
          "output_type": "execute_result",
          "data": {
            "text/html": [
              "<div>\n",
              "<style scoped>\n",
              "    .dataframe tbody tr th:only-of-type {\n",
              "        vertical-align: middle;\n",
              "    }\n",
              "\n",
              "    .dataframe tbody tr th {\n",
              "        vertical-align: top;\n",
              "    }\n",
              "\n",
              "    .dataframe thead th {\n",
              "        text-align: right;\n",
              "    }\n",
              "</style>\n",
              "<table border=\"1\" class=\"dataframe\">\n",
              "  <thead>\n",
              "    <tr style=\"text-align: right;\">\n",
              "      <th></th>\n",
              "      <th>Genre</th>\n",
              "      <th>Age</th>\n",
              "      <th>Income</th>\n",
              "      <th>Spending</th>\n",
              "      <th>cluster</th>\n",
              "    </tr>\n",
              "  </thead>\n",
              "  <tbody>\n",
              "    <tr>\n",
              "      <th>0</th>\n",
              "      <td>Male</td>\n",
              "      <td>19</td>\n",
              "      <td>15</td>\n",
              "      <td>39</td>\n",
              "      <td>2</td>\n",
              "    </tr>\n",
              "    <tr>\n",
              "      <th>1</th>\n",
              "      <td>Male</td>\n",
              "      <td>21</td>\n",
              "      <td>15</td>\n",
              "      <td>81</td>\n",
              "      <td>0</td>\n",
              "    </tr>\n",
              "    <tr>\n",
              "      <th>2</th>\n",
              "      <td>Female</td>\n",
              "      <td>20</td>\n",
              "      <td>16</td>\n",
              "      <td>6</td>\n",
              "      <td>1</td>\n",
              "    </tr>\n",
              "    <tr>\n",
              "      <th>3</th>\n",
              "      <td>Female</td>\n",
              "      <td>23</td>\n",
              "      <td>16</td>\n",
              "      <td>77</td>\n",
              "      <td>0</td>\n",
              "    </tr>\n",
              "    <tr>\n",
              "      <th>4</th>\n",
              "      <td>Female</td>\n",
              "      <td>31</td>\n",
              "      <td>17</td>\n",
              "      <td>40</td>\n",
              "      <td>2</td>\n",
              "    </tr>\n",
              "  </tbody>\n",
              "</table>\n",
              "</div>"
            ],
            "text/plain": [
              "    Genre  Age  Income  Spending  cluster\n",
              "0    Male   19      15        39        2\n",
              "1    Male   21      15        81        0\n",
              "2  Female   20      16         6        1\n",
              "3  Female   23      16        77        0\n",
              "4  Female   31      17        40        2"
            ]
          },
          "metadata": {},
          "execution_count": 3
        }
      ]
    },
    {
      "cell_type": "code",
      "metadata": {
        "colab": {
          "base_uri": "https://localhost:8080/",
          "height": 297
        },
        "id": "v26M3WYkDf3R",
        "outputId": "9b1605d0-f98d-48bf-96e1-2442c9036aa4"
      },
      "source": [
        "df1 = df[df.cluster==0]\n",
        "df2 = df[df.cluster==1]\n",
        "df3 = df[df.cluster==2]\n",
        "plt.scatter(df1.Age,df1['Spending'],color='green')\n",
        "plt.scatter(df2.Age,df2['Spending'],color='red')\n",
        "plt.scatter(df3.Age,df3['Spending'],color='black')\n",
        "plt.scatter(km.cluster_centers_[:,0],km.cluster_centers_[:,1],color='purple',marker='*',label='centroid')\n",
        "plt.xlabel('Age')\n",
        "plt.ylabel('Spending')\n",
        "plt.legend()"
      ],
      "execution_count": null,
      "outputs": [
        {
          "output_type": "execute_result",
          "data": {
            "text/plain": [
              "<matplotlib.legend.Legend at 0x7f126eb78890>"
            ]
          },
          "metadata": {},
          "execution_count": 4
        },
        {
          "output_type": "display_data",
          "data": {
            "image/png": "[encoded data removed]",
            "text/plain": [
              "<Figure size 432x288 with 1 Axes>"
            ]
          },
          "metadata": {
            "needs_background": "light"
          }
        }
      ]
    },
    {
      "cell_type": "code",
      "metadata": {
        "colab": {
          "base_uri": "https://localhost:8080/",
          "height": 206
        },
        "id": "6sK6mWR2D0p_",
        "outputId": "b0b202c9-c0f8-4d07-f4ee-391e6d128325"
      },
      "source": [
        "scaler = MinMaxScaler()\n",
        "\n",
        "scaler.fit(df[['Spending']])\n",
        "df['Spending'] = scaler.transform(df[['Spending']])\n",
        "\n",
        "scaler.fit(df[['Age']])\n",
        "df['Age'] = scaler.transform(df[['Age']])\n",
        "df.head()"
      ],
      "execution_count": null,
      "outputs": [
        {
          "output_type": "execute_result",
          "data": {
            "text/html": [
              "<div>\n",
              "<style scoped>\n",
              "    .dataframe tbody tr th:only-of-type {\n",
              "        vertical-align: middle;\n",
              "    }\n",
              "\n",
              "    .dataframe tbody tr th {\n",
              "        vertical-align: top;\n",
              "    }\n",
              "\n",
              "    .dataframe thead th {\n",
              "        text-align: right;\n",
              "    }\n",
              "</style>\n",
              "<table border=\"1\" class=\"dataframe\">\n",
              "  <thead>\n",
              "    <tr style=\"text-align: right;\">\n",
              "      <th></th>\n",
              "      <th>Genre</th>\n",
              "      <th>Age</th>\n",
              "      <th>Income</th>\n",
              "      <th>Spending</th>\n",
              "      <th>cluster</th>\n",
              "    </tr>\n",
              "  </thead>\n",
              "  <tbody>\n",
              "    <tr>\n",
              "      <th>0</th>\n",
              "      <td>Male</td>\n",
              "      <td>0.019231</td>\n",
              "      <td>15</td>\n",
              "      <td>0.387755</td>\n",
              "      <td>2</td>\n",
              "    </tr>\n",
              "    <tr>\n",
              "      <th>1</th>\n",
              "      <td>Male</td>\n",
              "      <td>0.057692</td>\n",
              "      <td>15</td>\n",
              "      <td>0.816327</td>\n",
              "      <td>0</td>\n",
              "    </tr>\n",
              "    <tr>\n",
              "      <th>2</th>\n",
              "      <td>Female</td>\n",
              "      <td>0.038462</td>\n",
              "      <td>16</td>\n",
              "      <td>0.051020</td>\n",
              "      <td>1</td>\n",
              "    </tr>\n",
              "    <tr>\n",
              "      <th>3</th>\n",
              "      <td>Female</td>\n",
              "      <td>0.096154</td>\n",
              "      <td>16</td>\n",
              "      <td>0.775510</td>\n",
              "      <td>0</td>\n",
              "    </tr>\n",
              "    <tr>\n",
              "      <th>4</th>\n",
              "      <td>Female</td>\n",
              "      <td>0.250000</td>\n",
              "      <td>17</td>\n",
              "      <td>0.397959</td>\n",
              "      <td>2</td>\n",
              "    </tr>\n",
              "  </tbody>\n",
              "</table>\n",
              "</div>"
            ],
            "text/plain": [
              "    Genre       Age  Income  Spending  cluster\n",
              "0    Male  0.019231      15  0.387755        2\n",
              "1    Male  0.057692      15  0.816327        0\n",
              "2  Female  0.038462      16  0.051020        1\n",
              "3  Female  0.096154      16  0.775510        0\n",
              "4  Female  0.250000      17  0.397959        2"
            ]
          },
          "metadata": {},
          "execution_count": 5
        }
      ]
    },
    {
      "cell_type": "code",
      "metadata": {
        "colab": {
          "base_uri": "https://localhost:8080/",
          "height": 206
        },
        "id": "Wx4QyHk2EAlD",
        "outputId": "91aa0bf6-2c17-4fc1-c861-d4595e44dcf9"
      },
      "source": [
        "km = KMeans(n_clusters=3)\n",
        "y_predicted = km.fit_predict(df[['Age','Spending']])\n",
        "df['cluster']=y_predicted\n",
        "df.head()"
      ],
      "execution_count": null,
      "outputs": [
        {
          "output_type": "execute_result",
          "data": {
            "text/html": [
              "<div>\n",
              "<style scoped>\n",
              "    .dataframe tbody tr th:only-of-type {\n",
              "        vertical-align: middle;\n",
              "    }\n",
              "\n",
              "    .dataframe tbody tr th {\n",
              "        vertical-align: top;\n",
              "    }\n",
              "\n",
              "    .dataframe thead th {\n",
              "        text-align: right;\n",
              "    }\n",
              "</style>\n",
              "<table border=\"1\" class=\"dataframe\">\n",
              "  <thead>\n",
              "    <tr style=\"text-align: right;\">\n",
              "      <th></th>\n",
              "      <th>Genre</th>\n",
              "      <th>Age</th>\n",
              "      <th>Income</th>\n",
              "      <th>Spending</th>\n",
              "      <th>cluster</th>\n",
              "    </tr>\n",
              "  </thead>\n",
              "  <tbody>\n",
              "    <tr>\n",
              "      <th>0</th>\n",
              "      <td>Male</td>\n",
              "      <td>0.019231</td>\n",
              "      <td>15</td>\n",
              "      <td>0.387755</td>\n",
              "      <td>0</td>\n",
              "    </tr>\n",
              "    <tr>\n",
              "      <th>1</th>\n",
              "      <td>Male</td>\n",
              "      <td>0.057692</td>\n",
              "      <td>15</td>\n",
              "      <td>0.816327</td>\n",
              "      <td>1</td>\n",
              "    </tr>\n",
              "    <tr>\n",
              "      <th>2</th>\n",
              "      <td>Female</td>\n",
              "      <td>0.038462</td>\n",
              "      <td>16</td>\n",
              "      <td>0.051020</td>\n",
              "      <td>0</td>\n",
              "    </tr>\n",
              "    <tr>\n",
              "      <th>3</th>\n",
              "      <td>Female</td>\n",
              "      <td>0.096154</td>\n",
              "      <td>16</td>\n",
              "      <td>0.775510</td>\n",
              "      <td>1</td>\n",
              "    </tr>\n",
              "    <tr>\n",
              "      <th>4</th>\n",
              "      <td>Female</td>\n",
              "      <td>0.250000</td>\n",
              "      <td>17</td>\n",
              "      <td>0.397959</td>\n",
              "      <td>0</td>\n",
              "    </tr>\n",
              "  </tbody>\n",
              "</table>\n",
              "</div>"
            ],
            "text/plain": [
              "    Genre       Age  Income  Spending  cluster\n",
              "0    Male  0.019231      15  0.387755        0\n",
              "1    Male  0.057692      15  0.816327        1\n",
              "2  Female  0.038462      16  0.051020        0\n",
              "3  Female  0.096154      16  0.775510        1\n",
              "4  Female  0.250000      17  0.397959        0"
            ]
          },
          "metadata": {},
          "execution_count": 6
        }
      ]
    },
    {
      "cell_type": "code",
      "metadata": {
        "colab": {
          "base_uri": "https://localhost:8080/",
          "height": 297
        },
        "id": "16xibSZkEELX",
        "outputId": "9534c464-abaa-4c05-b958-133846f15d3a"
      },
      "source": [
        "df1 = df[df.cluster==0]\n",
        "df2 = df[df.cluster==1]\n",
        "df3 = df[df.cluster==2]\n",
        "plt.scatter(df1.Age,df1['Spending'],color='green')\n",
        "plt.scatter(df2.Age,df2['Spending'],color='red')\n",
        "plt.scatter(df3.Age,df3['Spending'],color='black')\n",
        "plt.scatter(km.cluster_centers_[:,0],km.cluster_centers_[:,1],color='purple',marker='*',label='centroid')\n",
        "plt.xlabel('Age')\n",
        "plt.ylabel('Spending')\n",
        "plt.legend()"
      ],
      "execution_count": null,
      "outputs": [
        {
          "output_type": "execute_result",
          "data": {
            "text/plain": [
              "<matplotlib.legend.Legend at 0x7f126eaccb90>"
            ]
          },
          "metadata": {},
          "execution_count": 7
        },
        {
          "output_type": "display_data",
          "data": {
            "image/png": "[encoded data removed]",
            "text/plain": [
              "<Figure size 432x288 with 1 Axes>"
            ]
          },
          "metadata": {
            "needs_background": "light"
          }
        }
      ]
    },
    {
      "cell_type": "code",
      "metadata": {
        "id": "lwdEgRo4EMiW",
        "colab": {
          "base_uri": "https://localhost:8080/",
          "height": 297
        },
        "outputId": "2106a3e6-bd33-4e57-8568-42bc9b405d91"
      },
      "source": [
        "sse = []\n",
        "k_rng = range(1,10)\n",
        "for k in k_rng:\n",
        "    km = KMeans(n_clusters=k)\n",
        "    km.fit(df[['Age','Spending']])\n",
        "    sse.append(km.inertia_)\n",
        "plt.xlabel('K')\n",
        "plt.ylabel('Sum of squared error')\n",
        "plt.plot(k_rng,sse)"
      ],
      "execution_count": null,
      "outputs": [
        {
          "output_type": "execute_result",
          "data": {
            "text/plain": [
              "[<matplotlib.lines.Line2D at 0x7f128915fc90>]"
            ]
          },
          "metadata": {},
          "execution_count": 8
        },
        {
          "output_type": "display_data",
          "data": {
            "image/png": "[encoded data removed]",
            "text/plain": [
              "<Figure size 432x288 with 1 Axes>"
            ]
          },
          "metadata": {
            "needs_background": "light"
          }
        }
      ]
    },
    {
      "cell_type": "markdown",
      "metadata": {
        "id": "5pC5yfzErLq7"
      },
      "source": [
        "Back-propagation 25.08.2021"
      ]
    },
    {
      "cell_type": "code",
      "metadata": {
        "colab": {
          "base_uri": "https://localhost:8080/"
        },
        "id": "B7PgRb_1rJUM",
        "outputId": "ba7b8312-88db-445d-9ddd-ad57d64f6a9c"
      },
      "source": [
        "import math\n",
        "x1=.05\n",
        "x2=.10\n",
        "w1=.15\n",
        "w2=.2\n",
        "w3=.25\n",
        "w4=.3\n",
        "w5=.4\n",
        "w6=.45\n",
        "w7=.5\n",
        "w8=.55\n",
        "b1=0.35\n",
        "b2=.6\n",
        "t1=0.01\n",
        "t2=0.99\n",
        "count=0\n",
        "olde=.01\n",
        "for i in range(0,1000000):\n",
        " count=count+1\n",
        " h1=x1*w1+x2*w2+b1\n",
        " h2=x1*w3+x2*w4+b1\n",
        " #print(h1)\n",
        " #print(h2)\n",
        " h1_out=1/(1+math.exp(-h1))\n",
        " #print(h1_out)\n",
        " h2_out=1/(1+math.exp(-h2))\n",
        " #print(h2_out)\n",
        " o1=h1_out*w5+h2_out*w6+b2\n",
        " o2=h1_out*w7+h2_out*w8+b2\n",
        "\n",
        " out1=1/(1+math.exp(-o1))\n",
        " out2=1/(1+math.exp(-o2))\n",
        " #print(f\"out1={out1}\")\n",
        " #print(f\"out2={out2}\")\n",
        " e1=((t1-out1)**2)/2\n",
        " e2=((t2-out2)**2)/2\n",
        " e_total=e1+e2\n",
        " #back pass\n",
        " if olde>e_total:\n",
        "   print(f\"count={count}\")\n",
        "   break\n",
        "# print(f\"e_total= {e_total} \")\n",
        " alpha=.6\n",
        " cr_w5=(out1-t1)*out1*(1-out1)*h1_out\n",
        " cr_w6=(out1-t1)*out1*(1-out1)*h2_out\n",
        " cr_w7=(out2-t2)*out2*(1-out2)*h1_out\n",
        " cr_w8=(out2-t2)*out2*(1-out2)*h2_out\n",
        " w5=w5-(alpha*cr_w5)\n",
        " w6=w6-(alpha*cr_w6)\n",
        " w7=w7-(alpha*cr_w7)\n",
        " w8=w8-(alpha*cr_w8)\n",
        " #print(f\"new w5={w5}\")\n",
        " #print(f\"new w6={w6}\")\n",
        " #print(f\"new w7={w7}\")\n",
        " #print(f\"new w8={w8}\")\n",
        " cr_w1=((out1-t1)*out1*(1-out1)*w5+(out2-t2)*out2*(1-out2)*w7)*h1_out*(1-h1_out)*x1\n",
        " cr_w2=((out1-t1)*out1*(1-out1)*w5+(out2-t2)*out2*(1-out2)*w7)*h1_out*(1-h1_out)*x2\n",
        " cr_w3=((out1-t1)*out1*(1-out1)*w6+(out2-t2)*out2*(1-out2)*w8)*h2_out*(1-h2_out)*x1\n",
        " cr_w4=((out1-t1)*out1*(1-out1)*w6+(out2-t2)*out2*(1-out2)*w8)*h2_out*(1-h2_out)*x2\n",
        " w1=w1-(alpha*cr_w1)\n",
        " w2=w2-(alpha*cr_w2)\n",
        " w3=w3-(alpha*cr_w3)\n",
        " w4=w4-(alpha*cr_w4)\n",
        "print(f\"e_total= {e_total} \")\n",
        "print(f\"new w1={w1}\")\n",
        "print(f\"new w2={w2}\")\n",
        "print(f\"new w3={w3}\")\n",
        "print(f\"new w4={w4}\")\n",
        "print(f\"new w5={w5}\")\n",
        "print(f\"new w6={w6}\")\n",
        "print(f\"new w7={w7}\")\n",
        "print(f\"new w8={w8}\")"
      ],
      "execution_count": null,
      "outputs": [
        {
          "output_type": "stream",
          "name": "stdout",
          "text": [
            "count=145\n",
            "e_total= 0.009962386818369976 \n",
            "new w1=0.21254501635122572\n",
            "new w2=0.32509003270245157\n",
            "new w3=0.3110504387753345\n",
            "new w4=0.42210087755066816\n",
            "new w5=-2.176149298621488\n",
            "new w6=-2.1415803930217754\n",
            "new w7=1.3294095431624637\n",
            "new w8=1.384360311049651\n"
          ]
        }
      ]
    }
  ]
}