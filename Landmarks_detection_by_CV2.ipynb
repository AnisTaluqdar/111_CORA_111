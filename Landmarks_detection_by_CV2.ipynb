{
  "nbformat": 4,
  "nbformat_minor": 0,
  "metadata": {
    "colab": {
      "name": "Landmarks detection by CV2.ipynb",
      "provenance": [],
      "mount_file_id": "1nerBjnzpir9jSOortFAyb94FSHlxJOFh",
      "authorship_tag": "ABX9TyNMkJbdpdamc7lnlSaTA921",
      "include_colab_link": true
    },
    "kernelspec": {
      "display_name": "Python 3",
      "name": "python3"
    },
    "language_info": {
      "name": "python"
    }
  },
  "cells": [
    {
      "cell_type": "markdown",
      "metadata": {
        "id": "view-in-github",
        "colab_type": "text"
      },
      "source": [
        "<a href=\"https://colab.research.google.com/github/AnisTaluqdar/111_Colab_111/blob/main/Landmarks_detection_by_CV2.ipynb\" target=\"_parent\"><img src=\"https://colab.research.google.com/assets/colab-badge.svg\" alt=\"Open In Colab\"/></a>"
      ]
    },
    {
      "cell_type": "code",
      "metadata": {
        "colab": {
          "background_save": true,
          "base_uri": "https://localhost:8080/",
          "height": 1000
        },
        "id": "yNEPWCBZTBa9",
        "outputId": "eec55099-ea59-48c5-b19f-081c7e3e15c2"
      },
      "source": [
        "import cv2\n",
        "import dlib\n",
        "from google.colab.patches import cv2_imshow\n",
        "\n",
        "# Load the detector\n",
        "detector = dlib.get_frontal_face_detector()\n",
        "\n",
        "# Load the predictor\n",
        "predictor = dlib.shape_predictor(\"/content/drive/Shareddrives/GSD/BSC Thesis/shape_predictor_68_face_landmarks.dat\")\n",
        "\n",
        "# read the image\n",
        "cap = cv2.VideoCapture(\"/content/drive/Shareddrives/GSD/BSC Thesis/Video.mp4\")\n",
        "\n",
        "while True:\n",
        "    _, frame = cap.read()\n",
        "    # Convert image into grayscale\n",
        "    gray = cv2.cvtColor(src=frame, code=cv2.COLOR_BGR2GRAY)\n",
        "\n",
        "    # Use detector to find landmarks\n",
        "    faces = detector(gray)\n",
        "\n",
        "    for face in faces:\n",
        "        x1 = face.left()  # left point\n",
        "        y1 = face.top()  # top point\n",
        "        x2 = face.right()  # right point\n",
        "        y2 = face.bottom()  # bottom point\n",
        "\n",
        "        # Create landmark object\n",
        "        landmarks = predictor(image=gray, box=face)\n",
        "\n",
        "        # Loop through all the points\n",
        "        for n in range(0, 68):\n",
        "            x = landmarks.part(n).x\n",
        "            y = landmarks.part(n).y\n",
        "\n",
        "            # Draw a circle\n",
        "            cv2.circle(img=frame, center=(x, y), radius=3, color=(0, 255, 0), thickness=-1)\n",
        "\n",
        "    # show the image\n",
        "    #cv2.imshow(winname=\"Face\", mat=frame)\n",
        "    cv2_imshow(frame)\n",
        "\n",
        "    # Exit when escape is pressed\n",
        "    if cv2.waitKey(delay=1) == 27:\n",
        "        break\n",
        "\n",
        "# When everything done, release the video capture and video write objects\n",
        "cap.release()\n",
        "\n",
        "# Close all windows\n",
        "cv2.destroyAllWindows()"
      ],
      "execution_count": null,
      "outputs": []
    }
  ]
}